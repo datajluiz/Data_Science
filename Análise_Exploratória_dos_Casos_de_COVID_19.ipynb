{
  "nbformat": 4,
  "nbformat_minor": 0,
  "metadata": {
    "colab": {
      "name": "Análise Exploratória dos Casos de COVID-19.ipynb",
      "provenance": [],
      "collapsed_sections": [],
      "authorship_tag": "ABX9TyNyQJow7JkqtvEUdPmfgFs9",
      "include_colab_link": true
    },
    "kernelspec": {
      "name": "python3",
      "display_name": "Python 3"
    }
  },
  "cells": [
    {
      "cell_type": "markdown",
      "metadata": {
        "id": "view-in-github",
        "colab_type": "text"
      },
      "source": [
        "<a href=\"https://colab.research.google.com/github/jeffersonverissimo/Data_Science/blob/master/An%C3%A1lise_Explorat%C3%B3ria_dos_Casos_de_COVID_19.ipynb\" target=\"_parent\"><img src=\"https://colab.research.google.com/assets/colab-badge.svg\" alt=\"Open In Colab\"/></a>"
      ]
    },
    {
      "cell_type": "markdown",
      "metadata": {
        "id": "-CIEBM6kX2Ib",
        "colab_type": "text"
      },
      "source": [
        "![alt text](https://images.unsplash.com/flagged/photo-1584036561584-b03c19da874c?ixlib=rb-1.2.1&ixid=eyJhcHBfaWQiOjEyMDd9&w=1000&q=80)\n",
        "\n",
        "\n",
        "\n"
      ]
    },
    {
      "cell_type": "markdown",
      "metadata": {
        "id": "vjGM32SKYWfh",
        "colab_type": "text"
      },
      "source": [
        "\n",
        "---\n",
        "\n",
        "# **ANÁLISE EXPLORATÓRIA DOS CASOS DE COVID-19**\n",
        "---\n",
        "---\n",
        "O mundo está enfrentando uma das maiores pandemias da história. O cenário causado pelo novo coronavírus é semelhante a vários outros momentos da humanidade, em que doenças se espalharam pelo mundo e causaram grandes devastações. Atualmente, o vírus responsável pela doença COVID-19 já se alastrou por mais de 100 países, infectando mais de 700 mil pessoas.\n",
        "\n",
        "**A origem do vírus**\n",
        "\n",
        "Os coronavírus são uma grande família viral, que vem sendo estudada desde a década de 1960, que causam vários tipos doenças infecciosas em animais silvestres, animais de criação e animais de estimação. E os mais recentes hospedeiros, os seres humanos.\n",
        "\n",
        "Segundo o Ministério da Saúde, os primeiros coronavírus humanos foram isolados pela primeira vez em 1937. No entanto, foi em 1965 que o vírus foi descrito como coronavírus, em decorrência do perfil na microscopia, parecendo uma coroa.\n",
        "\n",
        "**Manifestações Clínicas**\n",
        "\n",
        "Geralmente, em humanos, vários coronavírus causam doenças respiratórias leves ou moderadas, semelhantes a um resfriado comum. Os sintomas podem envolver coriza, tosse, dor de garganta e febre. Contudo, em alguns casos, as pessoas podem desenvolver infecções nas vias respiratórias inferiores, como pneumonia ou doenças mais graves, como a Síndrome Respiratória do Oriente Médio (MERS-CoV) e a Síndrome Respiratória Aguda Grave (SARS-CoV). O coronavírus recentemente descoberto é o causador da doença COVID-19.\n",
        "\n",
        "**O que é a COVID-19? Quais os seus sintomas?**\n",
        "\n",
        "É uma doença infecciosa causada pelo novo coronavírus, descoberto recentemente a paritr do início do surto em Wuhan, capital e maior cidade da província de Hubei, na China, em dezembro de 2019.\n",
        "\n",
        "De acordo com a Organização Mundial da Saúde, os sintomas mais comuns da COVID-19 são febre, cansaço e tosse seca. Sendo que alguns pacientes podem apresentar dores, congestão nasal, dor de garganta e diarreia. As pessoas idosas e as que têm doenças crônicas, como hipertensão ou problemas cardíacos e diabetes, possuem maior probabilidade de desenvolver doenças graves.\n"
      ]
    },
    {
      "cell_type": "markdown",
      "metadata": {
        "id": "NiCd1jtivS5X",
        "colab_type": "text"
      },
      "source": [
        "## **AQUISIÇÃO DOS DADOS**\n",
        "\n",
        "Todos os dados usados neste *notebook* foram obtidos a partir do repositório da *Johns Hapkins University* no *Github*, que você pode acessar através deste [link](https://github.com/CSSEGISandData).\n",
        "\n",
        "Para esta análise exploratória inicial, serão utilizados apenas os seguintes arquivos:\n",
        "\n",
        "*   *`time_series_covid19_confirmed_global.csv`*\n",
        "*   *`time_series_covid19_deaths_global.csv`*\n",
        "*   *`time_series_covid19_recovered_global.csv`*"
      ]
    },
    {
      "cell_type": "code",
      "metadata": {
        "id": "TTp4H9gEhKCF",
        "colab_type": "code",
        "colab": {}
      },
      "source": [
        "# IMPORTAÇÃO DOS PACOTES NECESSÁRIOS PARA REALIZAR AS ANÁLISES\n",
        "\n",
        "import pandas as pd\n",
        "import numpy as np\n",
        "import matplotlib.pyplot as plt\n",
        "\n",
        "%matplotlib inline"
      ],
      "execution_count": 0,
      "outputs": []
    },
    {
      "cell_type": "code",
      "metadata": {
        "id": "b3JYDBZmhWw3",
        "colab_type": "code",
        "colab": {}
      },
      "source": [
        "# IMPORTAÇÃO DOS CONJUNTOS DE DADOS A SEREM ANALISADOS\n",
        "\n",
        "# Casos de Infecção Confirmados de COVID-19\n",
        "df1 = pd.read_csv('https://raw.githubusercontent.com/CSSEGISandData/COVID-19/master/csse_covid_19_data/csse_covid_19_time_series/time_series_covid19_confirmed_global.csv')\n",
        "\n",
        "# Casos de Mortes Confirmadas de COVID-19\n",
        "df2 = pd.read_csv('https://raw.githubusercontent.com/CSSEGISandData/COVID-19/master/csse_covid_19_data/csse_covid_19_time_series/time_series_covid19_deaths_global.csv')\n",
        "\n",
        "# Casos de Pessoas Recuperadas da COVID-19\n",
        "df3 = pd.read_csv('https://raw.githubusercontent.com/CSSEGISandData/COVID-19/master/csse_covid_19_data/csse_covid_19_time_series/time_series_covid19_recovered_global.csv')"
      ],
      "execution_count": 0,
      "outputs": []
    },
    {
      "cell_type": "code",
      "metadata": {
        "id": "WetxU6yTylVG",
        "colab_type": "code",
        "outputId": "42fb374e-e757-4875-fae9-488894d7257b",
        "colab": {
          "base_uri": "https://localhost:8080/",
          "height": 34
        }
      },
      "source": [
        "# INICIALMENTE, PODEMOS VERIFICAR QUAIS AS DIMENSÕES DOS NOSSOS DATASETS\n",
        "\n",
        "df1.shape"
      ],
      "execution_count": 3,
      "outputs": [
        {
          "output_type": "execute_result",
          "data": {
            "text/plain": [
              "(254, 73)"
            ]
          },
          "metadata": {
            "tags": []
          },
          "execution_count": 3
        }
      ]
    },
    {
      "cell_type": "markdown",
      "metadata": {
        "id": "6AFrsuvOywZQ",
        "colab_type": "text"
      },
      "source": [
        "Assim, identificamos que todos o *datasets* possuem as mesmas dimensões de **254 linhas** e **73 colunas**.\n",
        "\n",
        "---"
      ]
    },
    {
      "cell_type": "code",
      "metadata": {
        "id": "xcAhoLy7zfMk",
        "colab_type": "code",
        "outputId": "3e21f945-7fa0-4a48-edbf-fa010b4ff09d",
        "colab": {
          "base_uri": "https://localhost:8080/",
          "height": 224
        }
      },
      "source": [
        "# VISUALIZANDO E IDENTIFICANDO AS VARIÁVEIS QUE COMPÕEM OS NOSSOS DATASETS\n",
        "\n",
        "df1.head()\n",
        "\n",
        "# O COMANDO ACIMA NOS DEVOLVE AS 5 PRIMEIRAS LINHAS DO DATASET COMO RESULTADOS"
      ],
      "execution_count": 6,
      "outputs": [
        {
          "output_type": "execute_result",
          "data": {
            "text/html": [
              "<div>\n",
              "<style scoped>\n",
              "    .dataframe tbody tr th:only-of-type {\n",
              "        vertical-align: middle;\n",
              "    }\n",
              "\n",
              "    .dataframe tbody tr th {\n",
              "        vertical-align: top;\n",
              "    }\n",
              "\n",
              "    .dataframe thead th {\n",
              "        text-align: right;\n",
              "    }\n",
              "</style>\n",
              "<table border=\"1\" class=\"dataframe\">\n",
              "  <thead>\n",
              "    <tr style=\"text-align: right;\">\n",
              "      <th></th>\n",
              "      <th>Province/State</th>\n",
              "      <th>Country/Region</th>\n",
              "      <th>Lat</th>\n",
              "      <th>Long</th>\n",
              "      <th>1/22/20</th>\n",
              "      <th>1/23/20</th>\n",
              "      <th>1/24/20</th>\n",
              "      <th>1/25/20</th>\n",
              "      <th>1/26/20</th>\n",
              "      <th>1/27/20</th>\n",
              "      <th>1/28/20</th>\n",
              "      <th>1/29/20</th>\n",
              "      <th>1/30/20</th>\n",
              "      <th>1/31/20</th>\n",
              "      <th>2/1/20</th>\n",
              "      <th>2/2/20</th>\n",
              "      <th>2/3/20</th>\n",
              "      <th>2/4/20</th>\n",
              "      <th>2/5/20</th>\n",
              "      <th>2/6/20</th>\n",
              "      <th>2/7/20</th>\n",
              "      <th>2/8/20</th>\n",
              "      <th>2/9/20</th>\n",
              "      <th>2/10/20</th>\n",
              "      <th>2/11/20</th>\n",
              "      <th>2/12/20</th>\n",
              "      <th>2/13/20</th>\n",
              "      <th>2/14/20</th>\n",
              "      <th>2/15/20</th>\n",
              "      <th>2/16/20</th>\n",
              "      <th>2/17/20</th>\n",
              "      <th>2/18/20</th>\n",
              "      <th>2/19/20</th>\n",
              "      <th>2/20/20</th>\n",
              "      <th>2/21/20</th>\n",
              "      <th>2/22/20</th>\n",
              "      <th>2/23/20</th>\n",
              "      <th>2/24/20</th>\n",
              "      <th>2/25/20</th>\n",
              "      <th>2/26/20</th>\n",
              "      <th>2/27/20</th>\n",
              "      <th>2/28/20</th>\n",
              "      <th>2/29/20</th>\n",
              "      <th>3/1/20</th>\n",
              "      <th>3/2/20</th>\n",
              "      <th>3/3/20</th>\n",
              "      <th>3/4/20</th>\n",
              "      <th>3/5/20</th>\n",
              "      <th>3/6/20</th>\n",
              "      <th>3/7/20</th>\n",
              "      <th>3/8/20</th>\n",
              "      <th>3/9/20</th>\n",
              "      <th>3/10/20</th>\n",
              "      <th>3/11/20</th>\n",
              "      <th>3/12/20</th>\n",
              "      <th>3/13/20</th>\n",
              "      <th>3/14/20</th>\n",
              "      <th>3/15/20</th>\n",
              "      <th>3/16/20</th>\n",
              "      <th>3/17/20</th>\n",
              "      <th>3/18/20</th>\n",
              "      <th>3/19/20</th>\n",
              "      <th>3/20/20</th>\n",
              "      <th>3/21/20</th>\n",
              "      <th>3/22/20</th>\n",
              "      <th>3/23/20</th>\n",
              "      <th>3/24/20</th>\n",
              "      <th>3/25/20</th>\n",
              "      <th>3/26/20</th>\n",
              "      <th>3/27/20</th>\n",
              "      <th>3/28/20</th>\n",
              "      <th>3/29/20</th>\n",
              "      <th>3/30/20</th>\n",
              "    </tr>\n",
              "  </thead>\n",
              "  <tbody>\n",
              "    <tr>\n",
              "      <th>0</th>\n",
              "      <td>NaN</td>\n",
              "      <td>Afghanistan</td>\n",
              "      <td>33.0000</td>\n",
              "      <td>65.0000</td>\n",
              "      <td>0</td>\n",
              "      <td>0</td>\n",
              "      <td>0</td>\n",
              "      <td>0</td>\n",
              "      <td>0</td>\n",
              "      <td>0</td>\n",
              "      <td>0</td>\n",
              "      <td>0</td>\n",
              "      <td>0</td>\n",
              "      <td>0</td>\n",
              "      <td>0</td>\n",
              "      <td>0</td>\n",
              "      <td>0</td>\n",
              "      <td>0</td>\n",
              "      <td>0</td>\n",
              "      <td>0</td>\n",
              "      <td>0</td>\n",
              "      <td>0</td>\n",
              "      <td>0</td>\n",
              "      <td>0</td>\n",
              "      <td>0</td>\n",
              "      <td>0</td>\n",
              "      <td>0</td>\n",
              "      <td>0</td>\n",
              "      <td>0</td>\n",
              "      <td>0</td>\n",
              "      <td>0</td>\n",
              "      <td>0</td>\n",
              "      <td>0</td>\n",
              "      <td>0</td>\n",
              "      <td>0</td>\n",
              "      <td>0</td>\n",
              "      <td>0</td>\n",
              "      <td>1</td>\n",
              "      <td>1</td>\n",
              "      <td>1</td>\n",
              "      <td>1</td>\n",
              "      <td>1</td>\n",
              "      <td>1</td>\n",
              "      <td>1</td>\n",
              "      <td>1</td>\n",
              "      <td>1</td>\n",
              "      <td>1</td>\n",
              "      <td>1</td>\n",
              "      <td>1</td>\n",
              "      <td>1</td>\n",
              "      <td>4</td>\n",
              "      <td>4</td>\n",
              "      <td>5</td>\n",
              "      <td>7</td>\n",
              "      <td>7</td>\n",
              "      <td>7</td>\n",
              "      <td>11</td>\n",
              "      <td>16</td>\n",
              "      <td>21</td>\n",
              "      <td>22</td>\n",
              "      <td>22</td>\n",
              "      <td>22</td>\n",
              "      <td>24</td>\n",
              "      <td>24</td>\n",
              "      <td>40</td>\n",
              "      <td>40</td>\n",
              "      <td>74</td>\n",
              "      <td>84</td>\n",
              "      <td>94</td>\n",
              "      <td>110</td>\n",
              "      <td>110</td>\n",
              "      <td>120</td>\n",
              "      <td>170</td>\n",
              "    </tr>\n",
              "    <tr>\n",
              "      <th>1</th>\n",
              "      <td>NaN</td>\n",
              "      <td>Albania</td>\n",
              "      <td>41.1533</td>\n",
              "      <td>20.1683</td>\n",
              "      <td>0</td>\n",
              "      <td>0</td>\n",
              "      <td>0</td>\n",
              "      <td>0</td>\n",
              "      <td>0</td>\n",
              "      <td>0</td>\n",
              "      <td>0</td>\n",
              "      <td>0</td>\n",
              "      <td>0</td>\n",
              "      <td>0</td>\n",
              "      <td>0</td>\n",
              "      <td>0</td>\n",
              "      <td>0</td>\n",
              "      <td>0</td>\n",
              "      <td>0</td>\n",
              "      <td>0</td>\n",
              "      <td>0</td>\n",
              "      <td>0</td>\n",
              "      <td>0</td>\n",
              "      <td>0</td>\n",
              "      <td>0</td>\n",
              "      <td>0</td>\n",
              "      <td>0</td>\n",
              "      <td>0</td>\n",
              "      <td>0</td>\n",
              "      <td>0</td>\n",
              "      <td>0</td>\n",
              "      <td>0</td>\n",
              "      <td>0</td>\n",
              "      <td>0</td>\n",
              "      <td>0</td>\n",
              "      <td>0</td>\n",
              "      <td>0</td>\n",
              "      <td>0</td>\n",
              "      <td>0</td>\n",
              "      <td>0</td>\n",
              "      <td>0</td>\n",
              "      <td>0</td>\n",
              "      <td>0</td>\n",
              "      <td>0</td>\n",
              "      <td>0</td>\n",
              "      <td>0</td>\n",
              "      <td>0</td>\n",
              "      <td>0</td>\n",
              "      <td>0</td>\n",
              "      <td>0</td>\n",
              "      <td>0</td>\n",
              "      <td>2</td>\n",
              "      <td>10</td>\n",
              "      <td>12</td>\n",
              "      <td>23</td>\n",
              "      <td>33</td>\n",
              "      <td>38</td>\n",
              "      <td>42</td>\n",
              "      <td>51</td>\n",
              "      <td>55</td>\n",
              "      <td>59</td>\n",
              "      <td>64</td>\n",
              "      <td>70</td>\n",
              "      <td>76</td>\n",
              "      <td>89</td>\n",
              "      <td>104</td>\n",
              "      <td>123</td>\n",
              "      <td>146</td>\n",
              "      <td>174</td>\n",
              "      <td>186</td>\n",
              "      <td>197</td>\n",
              "      <td>212</td>\n",
              "      <td>223</td>\n",
              "    </tr>\n",
              "    <tr>\n",
              "      <th>2</th>\n",
              "      <td>NaN</td>\n",
              "      <td>Algeria</td>\n",
              "      <td>28.0339</td>\n",
              "      <td>1.6596</td>\n",
              "      <td>0</td>\n",
              "      <td>0</td>\n",
              "      <td>0</td>\n",
              "      <td>0</td>\n",
              "      <td>0</td>\n",
              "      <td>0</td>\n",
              "      <td>0</td>\n",
              "      <td>0</td>\n",
              "      <td>0</td>\n",
              "      <td>0</td>\n",
              "      <td>0</td>\n",
              "      <td>0</td>\n",
              "      <td>0</td>\n",
              "      <td>0</td>\n",
              "      <td>0</td>\n",
              "      <td>0</td>\n",
              "      <td>0</td>\n",
              "      <td>0</td>\n",
              "      <td>0</td>\n",
              "      <td>0</td>\n",
              "      <td>0</td>\n",
              "      <td>0</td>\n",
              "      <td>0</td>\n",
              "      <td>0</td>\n",
              "      <td>0</td>\n",
              "      <td>0</td>\n",
              "      <td>0</td>\n",
              "      <td>0</td>\n",
              "      <td>0</td>\n",
              "      <td>0</td>\n",
              "      <td>0</td>\n",
              "      <td>0</td>\n",
              "      <td>0</td>\n",
              "      <td>0</td>\n",
              "      <td>1</td>\n",
              "      <td>1</td>\n",
              "      <td>1</td>\n",
              "      <td>1</td>\n",
              "      <td>1</td>\n",
              "      <td>1</td>\n",
              "      <td>3</td>\n",
              "      <td>5</td>\n",
              "      <td>12</td>\n",
              "      <td>12</td>\n",
              "      <td>17</td>\n",
              "      <td>17</td>\n",
              "      <td>19</td>\n",
              "      <td>20</td>\n",
              "      <td>20</td>\n",
              "      <td>20</td>\n",
              "      <td>24</td>\n",
              "      <td>26</td>\n",
              "      <td>37</td>\n",
              "      <td>48</td>\n",
              "      <td>54</td>\n",
              "      <td>60</td>\n",
              "      <td>74</td>\n",
              "      <td>87</td>\n",
              "      <td>90</td>\n",
              "      <td>139</td>\n",
              "      <td>201</td>\n",
              "      <td>230</td>\n",
              "      <td>264</td>\n",
              "      <td>302</td>\n",
              "      <td>367</td>\n",
              "      <td>409</td>\n",
              "      <td>454</td>\n",
              "      <td>511</td>\n",
              "      <td>584</td>\n",
              "    </tr>\n",
              "    <tr>\n",
              "      <th>3</th>\n",
              "      <td>NaN</td>\n",
              "      <td>Andorra</td>\n",
              "      <td>42.5063</td>\n",
              "      <td>1.5218</td>\n",
              "      <td>0</td>\n",
              "      <td>0</td>\n",
              "      <td>0</td>\n",
              "      <td>0</td>\n",
              "      <td>0</td>\n",
              "      <td>0</td>\n",
              "      <td>0</td>\n",
              "      <td>0</td>\n",
              "      <td>0</td>\n",
              "      <td>0</td>\n",
              "      <td>0</td>\n",
              "      <td>0</td>\n",
              "      <td>0</td>\n",
              "      <td>0</td>\n",
              "      <td>0</td>\n",
              "      <td>0</td>\n",
              "      <td>0</td>\n",
              "      <td>0</td>\n",
              "      <td>0</td>\n",
              "      <td>0</td>\n",
              "      <td>0</td>\n",
              "      <td>0</td>\n",
              "      <td>0</td>\n",
              "      <td>0</td>\n",
              "      <td>0</td>\n",
              "      <td>0</td>\n",
              "      <td>0</td>\n",
              "      <td>0</td>\n",
              "      <td>0</td>\n",
              "      <td>0</td>\n",
              "      <td>0</td>\n",
              "      <td>0</td>\n",
              "      <td>0</td>\n",
              "      <td>0</td>\n",
              "      <td>0</td>\n",
              "      <td>0</td>\n",
              "      <td>0</td>\n",
              "      <td>0</td>\n",
              "      <td>0</td>\n",
              "      <td>0</td>\n",
              "      <td>1</td>\n",
              "      <td>1</td>\n",
              "      <td>1</td>\n",
              "      <td>1</td>\n",
              "      <td>1</td>\n",
              "      <td>1</td>\n",
              "      <td>1</td>\n",
              "      <td>1</td>\n",
              "      <td>1</td>\n",
              "      <td>1</td>\n",
              "      <td>1</td>\n",
              "      <td>1</td>\n",
              "      <td>1</td>\n",
              "      <td>1</td>\n",
              "      <td>2</td>\n",
              "      <td>39</td>\n",
              "      <td>39</td>\n",
              "      <td>53</td>\n",
              "      <td>75</td>\n",
              "      <td>88</td>\n",
              "      <td>113</td>\n",
              "      <td>133</td>\n",
              "      <td>164</td>\n",
              "      <td>188</td>\n",
              "      <td>224</td>\n",
              "      <td>267</td>\n",
              "      <td>308</td>\n",
              "      <td>334</td>\n",
              "      <td>370</td>\n",
              "    </tr>\n",
              "    <tr>\n",
              "      <th>4</th>\n",
              "      <td>NaN</td>\n",
              "      <td>Angola</td>\n",
              "      <td>-11.2027</td>\n",
              "      <td>17.8739</td>\n",
              "      <td>0</td>\n",
              "      <td>0</td>\n",
              "      <td>0</td>\n",
              "      <td>0</td>\n",
              "      <td>0</td>\n",
              "      <td>0</td>\n",
              "      <td>0</td>\n",
              "      <td>0</td>\n",
              "      <td>0</td>\n",
              "      <td>0</td>\n",
              "      <td>0</td>\n",
              "      <td>0</td>\n",
              "      <td>0</td>\n",
              "      <td>0</td>\n",
              "      <td>0</td>\n",
              "      <td>0</td>\n",
              "      <td>0</td>\n",
              "      <td>0</td>\n",
              "      <td>0</td>\n",
              "      <td>0</td>\n",
              "      <td>0</td>\n",
              "      <td>0</td>\n",
              "      <td>0</td>\n",
              "      <td>0</td>\n",
              "      <td>0</td>\n",
              "      <td>0</td>\n",
              "      <td>0</td>\n",
              "      <td>0</td>\n",
              "      <td>0</td>\n",
              "      <td>0</td>\n",
              "      <td>0</td>\n",
              "      <td>0</td>\n",
              "      <td>0</td>\n",
              "      <td>0</td>\n",
              "      <td>0</td>\n",
              "      <td>0</td>\n",
              "      <td>0</td>\n",
              "      <td>0</td>\n",
              "      <td>0</td>\n",
              "      <td>0</td>\n",
              "      <td>0</td>\n",
              "      <td>0</td>\n",
              "      <td>0</td>\n",
              "      <td>0</td>\n",
              "      <td>0</td>\n",
              "      <td>0</td>\n",
              "      <td>0</td>\n",
              "      <td>0</td>\n",
              "      <td>0</td>\n",
              "      <td>0</td>\n",
              "      <td>0</td>\n",
              "      <td>0</td>\n",
              "      <td>0</td>\n",
              "      <td>0</td>\n",
              "      <td>0</td>\n",
              "      <td>0</td>\n",
              "      <td>0</td>\n",
              "      <td>0</td>\n",
              "      <td>1</td>\n",
              "      <td>2</td>\n",
              "      <td>2</td>\n",
              "      <td>3</td>\n",
              "      <td>3</td>\n",
              "      <td>3</td>\n",
              "      <td>4</td>\n",
              "      <td>4</td>\n",
              "      <td>5</td>\n",
              "      <td>7</td>\n",
              "      <td>7</td>\n",
              "    </tr>\n",
              "  </tbody>\n",
              "</table>\n",
              "</div>"
            ],
            "text/plain": [
              "  Province/State Country/Region      Lat  ...  3/28/20  3/29/20  3/30/20\n",
              "0            NaN    Afghanistan  33.0000  ...      110      120      170\n",
              "1            NaN        Albania  41.1533  ...      197      212      223\n",
              "2            NaN        Algeria  28.0339  ...      454      511      584\n",
              "3            NaN        Andorra  42.5063  ...      308      334      370\n",
              "4            NaN         Angola -11.2027  ...        5        7        7\n",
              "\n",
              "[5 rows x 73 columns]"
            ]
          },
          "metadata": {
            "tags": []
          },
          "execution_count": 6
        }
      ]
    },
    {
      "cell_type": "markdown",
      "metadata": {
        "id": "P3fZFNnjzoi5",
        "colab_type": "text"
      },
      "source": [
        "Podemos verificar acima que os nossos conjuntos de dados nos trazem informações dos casos registrados, suas respectivas datas e as regiões dos ocorridos, incluindo as suas coordenadas geográficas.\n",
        "\n",
        "---"
      ]
    },
    {
      "cell_type": "markdown",
      "metadata": {
        "id": "WOr0bsvozQVV",
        "colab_type": "text"
      },
      "source": [
        "**Desta forma, levando em consideração que os conjuntos de dados possuem as mesmas variáveis, podemos juntá-los em um novo *dataframe*.**\n",
        "\n",
        "**Contudo, antes devemos realizar um tratamento para deixar os nossos conjuntos de dados nas formas mais fáceis de trabalhar e que nos permita realizar as análises de forma correta.**"
      ]
    },
    {
      "cell_type": "markdown",
      "metadata": {
        "id": "0_2l5jMT1sMk",
        "colab_type": "text"
      },
      "source": [
        "## **TRATAMENTO DOS CONJUNTOS DE DADOS**"
      ]
    },
    {
      "cell_type": "markdown",
      "metadata": {
        "id": "fjI1svDo9oNQ",
        "colab_type": "text"
      },
      "source": [
        "Como estamos interessados em analisar o comportamento da pandemia no mundo inteiro, não necessitamos, por hora, das informações relacionadas às regiões onde ocorreram os casos.\n",
        "\n",
        "Sendo assim, iremos criar novos *dataframes* com informações apenas das datas e números de ocorridos. "
      ]
    },
    {
      "cell_type": "code",
      "metadata": {
        "id": "nSC1nicnyg7l",
        "colab_type": "code",
        "colab": {}
      },
      "source": [
        "# CRIANDO OS NOVOS DATAFRAMES\n",
        "\n",
        "confir = np.sum(df1.iloc[:,4:df1.shape[1]])\n",
        "confir.index = pd.DatetimeIndex(confir.index)\n",
        "\n",
        "mortes = np.sum(df2.iloc[:,4:df2.shape[1]])\n",
        "mortes.index = pd.DatetimeIndex(mortes.index)\n",
        "\n",
        "recup = np.sum(df3.iloc[:,4:df3.shape[1]])\n",
        "recup.index = pd.DatetimeIndex(recup.index)"
      ],
      "execution_count": 0,
      "outputs": []
    },
    {
      "cell_type": "markdown",
      "metadata": {
        "id": "HZQk4RAuYLgY",
        "colab_type": "text"
      },
      "source": [
        "Após a criação dos novos *dataframes* contendo individualmente seus casos registrados, vamos juntar os 3 conjuntos de dados para criar um novo contendo todas as informações que necessitamos."
      ]
    },
    {
      "cell_type": "code",
      "metadata": {
        "id": "FrSPXE7cYfcu",
        "colab_type": "code",
        "outputId": "9ecc2af6-82ac-4a00-818b-5244adad6fec",
        "colab": {
          "base_uri": "https://localhost:8080/",
          "height": 204
        }
      },
      "source": [
        "# CRIANDO UM DATAFRAME COM TODOS OS CASOS OCORRIDOS\n",
        "\n",
        "df = pd.concat([confir,mortes,recup], axis=1)\n",
        "df.columns = ['Casos_Confirmados','Mortes_Confirmadas','Pacientes_Recuperados']\n",
        "df.head()"
      ],
      "execution_count": 8,
      "outputs": [
        {
          "output_type": "execute_result",
          "data": {
            "text/html": [
              "<div>\n",
              "<style scoped>\n",
              "    .dataframe tbody tr th:only-of-type {\n",
              "        vertical-align: middle;\n",
              "    }\n",
              "\n",
              "    .dataframe tbody tr th {\n",
              "        vertical-align: top;\n",
              "    }\n",
              "\n",
              "    .dataframe thead th {\n",
              "        text-align: right;\n",
              "    }\n",
              "</style>\n",
              "<table border=\"1\" class=\"dataframe\">\n",
              "  <thead>\n",
              "    <tr style=\"text-align: right;\">\n",
              "      <th></th>\n",
              "      <th>Casos_Confirmados</th>\n",
              "      <th>Mortes_Confirmadas</th>\n",
              "      <th>Pacientes_Recuperados</th>\n",
              "    </tr>\n",
              "  </thead>\n",
              "  <tbody>\n",
              "    <tr>\n",
              "      <th>2020-01-22</th>\n",
              "      <td>555</td>\n",
              "      <td>17</td>\n",
              "      <td>28</td>\n",
              "    </tr>\n",
              "    <tr>\n",
              "      <th>2020-01-23</th>\n",
              "      <td>654</td>\n",
              "      <td>18</td>\n",
              "      <td>30</td>\n",
              "    </tr>\n",
              "    <tr>\n",
              "      <th>2020-01-24</th>\n",
              "      <td>941</td>\n",
              "      <td>26</td>\n",
              "      <td>36</td>\n",
              "    </tr>\n",
              "    <tr>\n",
              "      <th>2020-01-25</th>\n",
              "      <td>1434</td>\n",
              "      <td>42</td>\n",
              "      <td>39</td>\n",
              "    </tr>\n",
              "    <tr>\n",
              "      <th>2020-01-26</th>\n",
              "      <td>2118</td>\n",
              "      <td>56</td>\n",
              "      <td>52</td>\n",
              "    </tr>\n",
              "  </tbody>\n",
              "</table>\n",
              "</div>"
            ],
            "text/plain": [
              "            Casos_Confirmados  Mortes_Confirmadas  Pacientes_Recuperados\n",
              "2020-01-22                555                  17                     28\n",
              "2020-01-23                654                  18                     30\n",
              "2020-01-24                941                  26                     36\n",
              "2020-01-25               1434                  42                     39\n",
              "2020-01-26               2118                  56                     52"
            ]
          },
          "metadata": {
            "tags": []
          },
          "execution_count": 8
        }
      ]
    },
    {
      "cell_type": "markdown",
      "metadata": {
        "id": "StdP1mD8hXxT",
        "colab_type": "text"
      },
      "source": [
        "Podemos ainda, realizar o cálculo da mortalidade causada pela COVID-19.\n",
        "\n",
        "Assim, para descobrirmos a mortalidade, dividimos o número de mortes pelo número de casos confirmados."
      ]
    },
    {
      "cell_type": "code",
      "metadata": {
        "id": "IjCiyauhhmuI",
        "colab_type": "code",
        "colab": {}
      },
      "source": [
        "mortalidade = (mortes/confir)*100"
      ],
      "execution_count": 0,
      "outputs": []
    },
    {
      "cell_type": "markdown",
      "metadata": {
        "id": "DZJAmlwchPUr",
        "colab_type": "text"
      },
      "source": [
        "## **GRÁFICOS**"
      ]
    },
    {
      "cell_type": "markdown",
      "metadata": {
        "id": "M9_1dqo3hVaO",
        "colab_type": "text"
      },
      "source": [
        "Inicialmente, podemos gerar visualizar os gráficos individualmente para cada situação estudada. Ou seja:\n",
        "\n",
        "\n",
        "*   Casos Confirmados;\n",
        "*   Mortes Confirmadas; e\n",
        "*   Pacientes Recuperados.\n",
        "\n"
      ]
    },
    {
      "cell_type": "code",
      "metadata": {
        "id": "frV-3JMwYk7W",
        "colab_type": "code",
        "outputId": "b48583c9-4aa4-420b-cf24-94bd26d95a0b",
        "colab": {
          "base_uri": "https://localhost:8080/",
          "height": 355
        }
      },
      "source": [
        "# Casos Confirmados\n",
        "\n",
        "confir.plot(figsize=(10,5))\n",
        "plt.axvline(x='2020-02-26', ymin=0, ymax=800000, color ='r', linestyle='dashed');"
      ],
      "execution_count": 10,
      "outputs": [
        {
          "output_type": "display_data",
          "data": {
            "image/png": "[encoded data removed]",
            "text/plain": [
              "<Figure size 720x360 with 1 Axes>"
            ]
          },
          "metadata": {
            "tags": []
          }
        }
      ]
    },
    {
      "cell_type": "code",
      "metadata": {
        "id": "873CSfSgl8Pc",
        "colab_type": "code",
        "outputId": "96603f59-addd-4124-f636-c7c77616bad2",
        "colab": {
          "base_uri": "https://localhost:8080/",
          "height": 34
        }
      },
      "source": [
        "# Total de Casos Confirmados\n",
        "\n",
        "total_casos = confir.max()\n",
        "print('N° Total de Casos: {}'.format(total_casos))"
      ],
      "execution_count": 11,
      "outputs": [
        {
          "output_type": "stream",
          "text": [
            "N° Total de Casos: 782365\n"
          ],
          "name": "stdout"
        }
      ]
    },
    {
      "cell_type": "markdown",
      "metadata": {
        "id": "ddcUtSpZmgFQ",
        "colab_type": "text"
      },
      "source": [
        "---"
      ]
    },
    {
      "cell_type": "code",
      "metadata": {
        "id": "XAX_Uuzbiewv",
        "colab_type": "code",
        "outputId": "2d56b8b4-c7fe-4703-edc5-3f067d9ea319",
        "colab": {
          "base_uri": "https://localhost:8080/",
          "height": 355
        }
      },
      "source": [
        "# Mortes Confirmadas\n",
        "\n",
        "mortes.plot(figsize=(10,5))\n",
        "plt.axvline(x='2020-02-26', ymin=0, ymax=100000, color ='r', linestyle='dashed');"
      ],
      "execution_count": 12,
      "outputs": [
        {
          "output_type": "display_data",
          "data": {
            "image/png": "[encoded data removed]",
            "text/plain": [
              "<Figure size 720x360 with 1 Axes>"
            ]
          },
          "metadata": {
            "tags": []
          }
        }
      ]
    },
    {
      "cell_type": "code",
      "metadata": {
        "id": "s5FL18SMmURA",
        "colab_type": "code",
        "outputId": "70d20794-e7c8-4c95-9d89-7669f3bf8700",
        "colab": {
          "base_uri": "https://localhost:8080/",
          "height": 34
        }
      },
      "source": [
        "# Total de Mortes Confirmadas\n",
        "\n",
        "total_mortes = mortes.max()\n",
        "print('N° Total de Mortes: {}'.format(total_mortes))"
      ],
      "execution_count": 13,
      "outputs": [
        {
          "output_type": "stream",
          "text": [
            "N° Total de Mortes: 37582\n"
          ],
          "name": "stdout"
        }
      ]
    },
    {
      "cell_type": "markdown",
      "metadata": {
        "id": "2AO4qq-dmeph",
        "colab_type": "text"
      },
      "source": [
        "---"
      ]
    },
    {
      "cell_type": "code",
      "metadata": {
        "id": "Pmkgul-Nikvx",
        "colab_type": "code",
        "outputId": "6e5e7da7-d65b-40fa-bbaa-5eec6d2ca2d0",
        "colab": {
          "base_uri": "https://localhost:8080/",
          "height": 355
        }
      },
      "source": [
        "# Pacientes Recuperados\n",
        "\n",
        "recup.plot(figsize=(10,5))\n",
        "plt.axvline(x='2020-02-26', ymin=0, ymax=200000, color ='r', linestyle='dashed');"
      ],
      "execution_count": 14,
      "outputs": [
        {
          "output_type": "display_data",
          "data": {
            "image/png": "[encoded data removed]",
            "text/plain": [
              "<Figure size 720x360 with 1 Axes>"
            ]
          },
          "metadata": {
            "tags": []
          }
        }
      ]
    },
    {
      "cell_type": "code",
      "metadata": {
        "id": "CnNo6QjwmjLI",
        "colab_type": "code",
        "outputId": "4a6e42e9-548c-4f5b-d2de-89950ee0ef72",
        "colab": {
          "base_uri": "https://localhost:8080/",
          "height": 34
        }
      },
      "source": [
        "# Total de Pacientes Recuperados\n",
        "\n",
        "total_recup = recup.max()\n",
        "print('N° Total de Recuperados: {}'.format(total_recup))"
      ],
      "execution_count": 15,
      "outputs": [
        {
          "output_type": "stream",
          "text": [
            "N° Total de Recuperados: 164566\n"
          ],
          "name": "stdout"
        }
      ]
    },
    {
      "cell_type": "markdown",
      "metadata": {
        "id": "x70OJ3tGuUn2",
        "colab_type": "text"
      },
      "source": [
        "---"
      ]
    },
    {
      "cell_type": "code",
      "metadata": {
        "id": "FKsjohLHivt4",
        "colab_type": "code",
        "outputId": "1c3891c9-5954-43cc-800b-46c20276c694",
        "colab": {
          "base_uri": "https://localhost:8080/",
          "height": 355
        }
      },
      "source": [
        "# Mortalidade\n",
        "\n",
        "mortalidade.plot(figsize=(10,5))\n",
        "plt.axvline(x='2020-03-07', ymin=0, ymax=10, color ='k', linestyle='dashed');"
      ],
      "execution_count": 16,
      "outputs": [
        {
          "output_type": "display_data",
          "data": {
            "image/png": "[encoded data removed]",
            "text/plain": [
              "<Figure size 720x360 with 1 Axes>"
            ]
          },
          "metadata": {
            "tags": []
          }
        }
      ]
    },
    {
      "cell_type": "code",
      "metadata": {
        "id": "9zkqBPcem_V2",
        "colab_type": "code",
        "outputId": "6cdf3dcd-08a4-43db-c483-ba97d8b14749",
        "colab": {
          "base_uri": "https://localhost:8080/",
          "height": 34
        }
      },
      "source": [
        "# Taxa de Mortalidade\n",
        "\n",
        "indice_mort = mortalidade.max()\n",
        "print('Taxa de Mortalidade: {:.2f}%'.format(indice_mort))"
      ],
      "execution_count": 17,
      "outputs": [
        {
          "output_type": "stream",
          "text": [
            "Taxa de Mortalidade: 4.80%\n"
          ],
          "name": "stdout"
        }
      ]
    },
    {
      "cell_type": "markdown",
      "metadata": {
        "id": "ANgs9DxtuWfb",
        "colab_type": "text"
      },
      "source": [
        "---"
      ]
    },
    {
      "cell_type": "code",
      "metadata": {
        "id": "VYXnr7d2i1uZ",
        "colab_type": "code",
        "outputId": "51560039-4e81-4500-801e-d8eb869aa8e5",
        "colab": {
          "base_uri": "https://localhost:8080/",
          "height": 463
        }
      },
      "source": [
        "# Comparativo entre n° de casos x n° de mortes x n° de recuperados\n",
        "\n",
        "df.plot(figsize=(13,7))\n",
        "plt.axvline(x='2020-02-26', ymin=0, ymax=800000, color ='r', linestyle='dashed');"
      ],
      "execution_count": 18,
      "outputs": [
        {
          "output_type": "display_data",
          "data": {
            "image/png": "[encoded data removed]",
            "text/plain": [
              "<Figure size 936x504 with 1 Axes>"
            ]
          },
          "metadata": {
            "tags": []
          }
        }
      ]
    },
    {
      "cell_type": "markdown",
      "metadata": {
        "id": "XeLQIhM_uXwp",
        "colab_type": "text"
      },
      "source": [
        "---"
      ]
    },
    {
      "cell_type": "markdown",
      "metadata": {
        "id": "3QFlBzjYp6Zh",
        "colab_type": "text"
      },
      "source": [
        "### **CONCLUSÕES**\n",
        "\n",
        "Com essa análise exploratória de dados, podemos verificar que o cenário atual da pandemia tende a piorar ao longo dos próximos dias. Isso é verificado nos baseando no comportamento exponencial do número de casos de infecção confirmados ao redor do mundo.\n",
        "O número de recuperados ainda é muito pouco quando comparado ao total de infectados.\n",
        "Podemos perceber que, partir do dia 26 de fevereiro de 2020, o número de casos confirmados começaram a crescer de forma alarmante e apesar de a taxa de mortalidade da COVID-19 ser baixa (cerca de 4,8%) quando comparadas à outras doenças, devemos ter consciência que a propagação do vírus se dá de maneira muito rápida, fazendo com que o número total de mortes suba exponencialmente.\n",
        "\n",
        "A Ciência de Dados é uma das melhores armas no combate à pandemia do coronavírus. A partir dela, podemos estudar os casos atuais e prever todos os possíveis cenários futuros e, desta forma, implementar medidas e encontrar soluções para frear o avanço do coronavírus.\n",
        "\n",
        "Desta maneira, faz-se necessário seguir todas as recomendações dos cientistas e profissionais da saúde para evitar que o cenário se torna ainda pior nos próximas semanas.\n",
        "\n",
        "---"
      ]
    }
  ]
}