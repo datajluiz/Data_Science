{
  "nbformat": 4,
  "nbformat_minor": 0,
  "metadata": {
    "colab": {
      "name": "Estudo de Caso: COVID-19 no Brasil.ipynb",
      "provenance": [],
      "authorship_tag": "ABX9TyNk3S+eGTPXdMJB/47ZLj5K"
    },
    "kernelspec": {
      "name": "python3",
      "display_name": "Python 3"
    }
  },
  "cells": [
    {
      "cell_type": "markdown",
      "metadata": {
        "id": "V9cnz7qU2-JQ",
        "colab_type": "text"
      },
      "source": [
        "![alt text](https://cdn.pixabay.com/photo/2016/11/09/16/24/virus-1812092_960_720.jpg)"
      ]
    },
    {
      "cell_type": "markdown",
      "metadata": {
        "id": "w2gkXaC52XSD",
        "colab_type": "text"
      },
      "source": [
        "---\n",
        "# **ANÁLISES EXPLORATÓRIA E PREDITIVA DOS CASOS DE COVID-19 NO BRASIL**\n",
        "\n",
        "---\n",
        "---\n",
        "\n",
        "Última atualização em 19 de junho de 2020\n",
        "\n",
        "---\n",
        ">**A origem do Coronavírus**\n",
        "\n",
        "Os coronavírus são uma grande família viral, que vem sendo estudada desde a década de 1960, que causam vários tipos doenças infecciosas em animais silvestres, animais de criação e animais de estimação. E os mais recentes hospedeiros, os seres humanos.\n",
        "\n",
        "Segundo o Ministério da Saúde, os primeiros coronavírus humanos foram isolados pela primeira vez em 1937. No entanto, foi em 1965 que o vírus foi descrito como coronavírus, em decorrência do perfil na microscopia, parecendo uma coroa.\n",
        "\n",
        ">**Manifestações Clínicas**\n",
        "\n",
        "Geralmente, em humanos, vários coronavírus causam doenças respiratórias leves ou moderadas, semelhantes a um resfriado comum. Os sintomas podem envolver coriza, tosse, dor de garganta e febre. Contudo, em alguns casos, as pessoas podem desenvolver infecções nas vias respiratórias inferiores, como pneumonia ou doenças mais graves, como a Síndrome Respiratória do Oriente Médio (MERS-CoV) e a Síndrome Respiratória Aguda Grave (SARS-CoV). O coronavírus recentemente descoberto é o causador da doença COVID-19.\n",
        "\n",
        ">**O que é a COVID-19? Quais os seus sintomas?**\n",
        "\n",
        "É uma doença infecciosa causada pelo novo coronavírus, descoberto recentemente a partir do início do surto em Wuhan, capital e maior cidade da província de Hubei, na China, em dezembro de 2019.\n",
        "\n",
        "De acordo com a Organização Mundial da Saúde, os sintomas mais comuns da COVID-19 são febre, cansaço e tosse seca. Sendo que alguns pacientes podem apresentar dores, congestão nasal, dor de garganta e diarreia. As pessoas idosas e as que têm doenças crônicas, como hipertensão ou problemas cardíacos e diabetes, possuem maior probabilidade de desenvolver doenças graves.\n",
        "\n",
        ">**Panorama da COVID-19 no Brasil**\n",
        "\n",
        "A pandemia do coronavírus teve início oficial no Brasil em 26 de fevereiro de 2020, quando o primeiro caso de infecção foi confirmado pelo Ministério da Saúde. O paciente foi um homem de 61 anos que viajou à Itália, e deu entrada no Hospital Albert Einstein no dia anterior. \n",
        "À essa altura, os casos de COVID-19 estavam avançados no restante do mundo, especialmente nos países eupopeus e asiáticos.\n",
        "Cerca de um mês depois, o Brasil já registrava mais de 2,4 mil casos de infecção e 57 mortes.\n",
        "\n",
        "Atualmente (junho de 2020), o país registra o segundo maior número de casos de COVID-19 no mundo, atrás apenas dos EUA.\n",
        "\n",
        "---"
      ]
    },
    {
      "cell_type": "markdown",
      "metadata": {
        "id": "378aqsuwBvws",
        "colab_type": "text"
      },
      "source": [
        "### **AQUISIÇÃO DOS DADOS**\n",
        "\n",
        ">**PROPOSTA DESTE ARTIGO**\n",
        "\n",
        "Atualmente, o país infrenta um problema acerca dos dados relacionados à pandemia, havendo conflitos entre os dados divulgados pelo Ministério da Saúde e governos estaduais. Dificultando ainda mais as análises desses dados, na tentativa de modelar e entender o atual cenário enfrentado pelo Brasil.\n",
        "\n",
        "Este *notebook* apresenta análises exploratória e preditiva baseada nos dados epidemiológicos do coronavírus disponibilizados pela ***Our World in Data*** através do seu [repositório no *GitHub*](https://github.com/owid/covid-19-data/tree/master/public/data). A partir de técnicas de previsão de séries temporais, é apresentada uma previsão do comportamento da pandemia da COVID-19 no Brasil.\n",
        "\n",
        "Outras bases de dados que podem ser utilizadas para o estudo da COVID-19:\n",
        "\n",
        "*   [Ministério da Saúde](https://covid.saude.gov.br)\n",
        "*   [Johns Hopkins University](https://github.com/CSSEGISandData/COVID-19)\n",
        "*   [Brasil.io](https://brasil.io/home/)\n",
        "\n",
        "\n",
        ">**Metodologia**\n",
        "\n",
        "A **análise preditiva** deste projeto foi realizada utilizando uma ferramenta *open source* desenvolvida pelo Facebook, o **Prophet**, *framework* de *forecasting* para séries temporais, que nos permite fazer previsões a partir de um determinado conjunto de dados. \n",
        "\n",
        "<center><img alt=\"Analisando Airbnb\" width=\"15%\" src=\"https://nextjournal.com/data/QmQfcfJDCwjxdNPMRTJZGbS8duREqmNXM7mVhXYcr3KPGE?content-type=image%2Fpng&filename=prophet-logo.png\"></center>\n",
        "\n",
        "\n",
        "Você pode conferir os detalhes sobre esta ferramenta neste [link](https://facebook.github.io/prophet/).\n",
        "\n",
        "---\n"
      ]
    },
    {
      "cell_type": "markdown",
      "metadata": {
        "id": "zK5nu4uGQ-xi",
        "colab_type": "text"
      },
      "source": [
        "### **ANÁLISE EXPLORATÓRIA INICIAL**\n",
        "\n",
        "Para esta análise exploratória inicial, será utilizado apenas o seguinte arquivo:\n",
        "\n",
        "*   `owid-covid-data.csv`\n",
        "\n",
        "O conjunto de dados usado neste projeto contém atualizações até o dia **19 de junho de 2020**, e pode ser acessado através deste [link](https://github.com/jeffersonverissimo/datasets)."
      ]
    },
    {
      "cell_type": "code",
      "metadata": {
        "id": "QwPQB5jX1_uA",
        "colab_type": "code",
        "colab": {}
      },
      "source": [
        "# IMPORTAÇÃO DAS BIBLIOTECAS NECESSÁRIAS PARA REALIZAR AS ANÁLISES\n",
        "\n",
        "import pandas as pd\n",
        "import numpy as np\n",
        "import matplotlib.pyplot as plt\n",
        "%matplotlib inline\n",
        "\n",
        "from fbprophet import Prophet"
      ],
      "execution_count": null,
      "outputs": []
    },
    {
      "cell_type": "code",
      "metadata": {
        "id": "Q_P0JZfISW0E",
        "colab_type": "code",
        "colab": {}
      },
      "source": [
        "# IMPORTAÇÃO DOS CONJUNTOS DE DADOS A SEREM ANALISADOS\n",
        "\n",
        "# Obs.: O dataset utilizado contém dados sobre a COVID-19 a nível global.\n",
        "\n",
        "df_global = pd.read_csv('https://raw.githubusercontent.com/jeffersonverissimo/datasets/master/owid-covid-data.csv')"
      ],
      "execution_count": null,
      "outputs": []
    },
    {
      "cell_type": "code",
      "metadata": {
        "id": "tAxJtG2ETs8-",
        "colab_type": "code",
        "colab": {
          "base_uri": "https://localhost:8080/",
          "height": 309
        },
        "outputId": "3b72f183-bfa3-4617-e88d-1f13e1831c9f"
      },
      "source": [
        "# VISUALIZAÇÃO DAS 5 PRIMEIRAS LINHAS DO DATASET\n",
        "\n",
        "df_global.head()"
      ],
      "execution_count": null,
      "outputs": [
        {
          "output_type": "execute_result",
          "data": {
            "text/html": [
              "<div>\n",
              "<style scoped>\n",
              "    .dataframe tbody tr th:only-of-type {\n",
              "        vertical-align: middle;\n",
              "    }\n",
              "\n",
              "    .dataframe tbody tr th {\n",
              "        vertical-align: top;\n",
              "    }\n",
              "\n",
              "    .dataframe thead th {\n",
              "        text-align: right;\n",
              "    }\n",
              "</style>\n",
              "<table border=\"1\" class=\"dataframe\">\n",
              "  <thead>\n",
              "    <tr style=\"text-align: right;\">\n",
              "      <th></th>\n",
              "      <th>iso_code</th>\n",
              "      <th>continent</th>\n",
              "      <th>location</th>\n",
              "      <th>date</th>\n",
              "      <th>total_cases</th>\n",
              "      <th>new_cases</th>\n",
              "      <th>total_deaths</th>\n",
              "      <th>new_deaths</th>\n",
              "      <th>total_cases_per_million</th>\n",
              "      <th>new_cases_per_million</th>\n",
              "      <th>total_deaths_per_million</th>\n",
              "      <th>new_deaths_per_million</th>\n",
              "      <th>total_tests</th>\n",
              "      <th>new_tests</th>\n",
              "      <th>total_tests_per_thousand</th>\n",
              "      <th>new_tests_per_thousand</th>\n",
              "      <th>new_tests_smoothed</th>\n",
              "      <th>new_tests_smoothed_per_thousand</th>\n",
              "      <th>tests_units</th>\n",
              "      <th>stringency_index</th>\n",
              "      <th>population</th>\n",
              "      <th>population_density</th>\n",
              "      <th>median_age</th>\n",
              "      <th>aged_65_older</th>\n",
              "      <th>aged_70_older</th>\n",
              "      <th>gdp_per_capita</th>\n",
              "      <th>extreme_poverty</th>\n",
              "      <th>cvd_death_rate</th>\n",
              "      <th>diabetes_prevalence</th>\n",
              "      <th>female_smokers</th>\n",
              "      <th>male_smokers</th>\n",
              "      <th>handwashing_facilities</th>\n",
              "      <th>hospital_beds_per_thousand</th>\n",
              "      <th>life_expectancy</th>\n",
              "    </tr>\n",
              "  </thead>\n",
              "  <tbody>\n",
              "    <tr>\n",
              "      <th>0</th>\n",
              "      <td>AFG</td>\n",
              "      <td>Asia</td>\n",
              "      <td>Afghanistan</td>\n",
              "      <td>2019-12-31</td>\n",
              "      <td>0.0</td>\n",
              "      <td>0.0</td>\n",
              "      <td>0.0</td>\n",
              "      <td>0.0</td>\n",
              "      <td>0.0</td>\n",
              "      <td>0.0</td>\n",
              "      <td>0.0</td>\n",
              "      <td>0.0</td>\n",
              "      <td>NaN</td>\n",
              "      <td>NaN</td>\n",
              "      <td>NaN</td>\n",
              "      <td>NaN</td>\n",
              "      <td>NaN</td>\n",
              "      <td>NaN</td>\n",
              "      <td>NaN</td>\n",
              "      <td>NaN</td>\n",
              "      <td>38928341</td>\n",
              "      <td>54.422</td>\n",
              "      <td>18.6</td>\n",
              "      <td>2.581</td>\n",
              "      <td>1.337</td>\n",
              "      <td>1803.987</td>\n",
              "      <td>NaN</td>\n",
              "      <td>597.029</td>\n",
              "      <td>9.59</td>\n",
              "      <td>NaN</td>\n",
              "      <td>NaN</td>\n",
              "      <td>37.746</td>\n",
              "      <td>0.5</td>\n",
              "      <td>64.83</td>\n",
              "    </tr>\n",
              "    <tr>\n",
              "      <th>1</th>\n",
              "      <td>AFG</td>\n",
              "      <td>Asia</td>\n",
              "      <td>Afghanistan</td>\n",
              "      <td>2020-01-01</td>\n",
              "      <td>0.0</td>\n",
              "      <td>0.0</td>\n",
              "      <td>0.0</td>\n",
              "      <td>0.0</td>\n",
              "      <td>0.0</td>\n",
              "      <td>0.0</td>\n",
              "      <td>0.0</td>\n",
              "      <td>0.0</td>\n",
              "      <td>NaN</td>\n",
              "      <td>NaN</td>\n",
              "      <td>NaN</td>\n",
              "      <td>NaN</td>\n",
              "      <td>NaN</td>\n",
              "      <td>NaN</td>\n",
              "      <td>NaN</td>\n",
              "      <td>0.0</td>\n",
              "      <td>38928341</td>\n",
              "      <td>54.422</td>\n",
              "      <td>18.6</td>\n",
              "      <td>2.581</td>\n",
              "      <td>1.337</td>\n",
              "      <td>1803.987</td>\n",
              "      <td>NaN</td>\n",
              "      <td>597.029</td>\n",
              "      <td>9.59</td>\n",
              "      <td>NaN</td>\n",
              "      <td>NaN</td>\n",
              "      <td>37.746</td>\n",
              "      <td>0.5</td>\n",
              "      <td>64.83</td>\n",
              "    </tr>\n",
              "    <tr>\n",
              "      <th>2</th>\n",
              "      <td>AFG</td>\n",
              "      <td>Asia</td>\n",
              "      <td>Afghanistan</td>\n",
              "      <td>2020-01-02</td>\n",
              "      <td>0.0</td>\n",
              "      <td>0.0</td>\n",
              "      <td>0.0</td>\n",
              "      <td>0.0</td>\n",
              "      <td>0.0</td>\n",
              "      <td>0.0</td>\n",
              "      <td>0.0</td>\n",
              "      <td>0.0</td>\n",
              "      <td>NaN</td>\n",
              "      <td>NaN</td>\n",
              "      <td>NaN</td>\n",
              "      <td>NaN</td>\n",
              "      <td>NaN</td>\n",
              "      <td>NaN</td>\n",
              "      <td>NaN</td>\n",
              "      <td>0.0</td>\n",
              "      <td>38928341</td>\n",
              "      <td>54.422</td>\n",
              "      <td>18.6</td>\n",
              "      <td>2.581</td>\n",
              "      <td>1.337</td>\n",
              "      <td>1803.987</td>\n",
              "      <td>NaN</td>\n",
              "      <td>597.029</td>\n",
              "      <td>9.59</td>\n",
              "      <td>NaN</td>\n",
              "      <td>NaN</td>\n",
              "      <td>37.746</td>\n",
              "      <td>0.5</td>\n",
              "      <td>64.83</td>\n",
              "    </tr>\n",
              "    <tr>\n",
              "      <th>3</th>\n",
              "      <td>AFG</td>\n",
              "      <td>Asia</td>\n",
              "      <td>Afghanistan</td>\n",
              "      <td>2020-01-03</td>\n",
              "      <td>0.0</td>\n",
              "      <td>0.0</td>\n",
              "      <td>0.0</td>\n",
              "      <td>0.0</td>\n",
              "      <td>0.0</td>\n",
              "      <td>0.0</td>\n",
              "      <td>0.0</td>\n",
              "      <td>0.0</td>\n",
              "      <td>NaN</td>\n",
              "      <td>NaN</td>\n",
              "      <td>NaN</td>\n",
              "      <td>NaN</td>\n",
              "      <td>NaN</td>\n",
              "      <td>NaN</td>\n",
              "      <td>NaN</td>\n",
              "      <td>0.0</td>\n",
              "      <td>38928341</td>\n",
              "      <td>54.422</td>\n",
              "      <td>18.6</td>\n",
              "      <td>2.581</td>\n",
              "      <td>1.337</td>\n",
              "      <td>1803.987</td>\n",
              "      <td>NaN</td>\n",
              "      <td>597.029</td>\n",
              "      <td>9.59</td>\n",
              "      <td>NaN</td>\n",
              "      <td>NaN</td>\n",
              "      <td>37.746</td>\n",
              "      <td>0.5</td>\n",
              "      <td>64.83</td>\n",
              "    </tr>\n",
              "    <tr>\n",
              "      <th>4</th>\n",
              "      <td>AFG</td>\n",
              "      <td>Asia</td>\n",
              "      <td>Afghanistan</td>\n",
              "      <td>2020-01-04</td>\n",
              "      <td>0.0</td>\n",
              "      <td>0.0</td>\n",
              "      <td>0.0</td>\n",
              "      <td>0.0</td>\n",
              "      <td>0.0</td>\n",
              "      <td>0.0</td>\n",
              "      <td>0.0</td>\n",
              "      <td>0.0</td>\n",
              "      <td>NaN</td>\n",
              "      <td>NaN</td>\n",
              "      <td>NaN</td>\n",
              "      <td>NaN</td>\n",
              "      <td>NaN</td>\n",
              "      <td>NaN</td>\n",
              "      <td>NaN</td>\n",
              "      <td>0.0</td>\n",
              "      <td>38928341</td>\n",
              "      <td>54.422</td>\n",
              "      <td>18.6</td>\n",
              "      <td>2.581</td>\n",
              "      <td>1.337</td>\n",
              "      <td>1803.987</td>\n",
              "      <td>NaN</td>\n",
              "      <td>597.029</td>\n",
              "      <td>9.59</td>\n",
              "      <td>NaN</td>\n",
              "      <td>NaN</td>\n",
              "      <td>37.746</td>\n",
              "      <td>0.5</td>\n",
              "      <td>64.83</td>\n",
              "    </tr>\n",
              "  </tbody>\n",
              "</table>\n",
              "</div>"
            ],
            "text/plain": [
              "  iso_code continent  ... hospital_beds_per_thousand life_expectancy\n",
              "0      AFG      Asia  ...                        0.5           64.83\n",
              "1      AFG      Asia  ...                        0.5           64.83\n",
              "2      AFG      Asia  ...                        0.5           64.83\n",
              "3      AFG      Asia  ...                        0.5           64.83\n",
              "4      AFG      Asia  ...                        0.5           64.83\n",
              "\n",
              "[5 rows x 34 columns]"
            ]
          },
          "metadata": {
            "tags": []
          },
          "execution_count": 53
        }
      ]
    },
    {
      "cell_type": "markdown",
      "metadata": {
        "id": "vt9qkF8DhASm",
        "colab_type": "text"
      },
      "source": [
        "**Para auxiliar no entendimento do conjunto de dados, abaixo é mostrada uma tabela que descreve com detalhes as variáveis presentes:**"
      ]
    },
    {
      "cell_type": "markdown",
      "metadata": {
        "id": "E8xX8oQyYFj0",
        "colab_type": "text"
      },
      "source": [
        "**VARIÁVEL** | **DESCRIÇÃO**\n",
        "--- | ---\n",
        "iso_code | ISO 3166-1 alfa-3 - códigos de países com três letras\n",
        "continent | Continente da localização geográfica\n",
        "location | Localização geográfica\n",
        "date | Data de observação\n",
        "total_cases | Total de casos confirmados de COVID-19\n",
        "new_cases | Novos casos confirmados de COVID-19\n",
        "total_deaths | Total de mortes atribuídas ao COVID-19\n",
        "new_deaths | Novas mortes atribuídas ao COVID-19\n",
        "total_cases_per_million | Total de casos confirmados de COVID-19 por 1 milhão de pessoas\n",
        "new_cases_per_million | Novos casos confirmados de COVID-19 por 1 milhão de pessoas\n",
        "total_deaths_per_million | Total de mortes atribuídas ao COVID-19 por 1 milhão de pessoas\n",
        "new_deaths_per_million | Novas mortes atribuídas ao COVID-19 por 1 milhão de pessoas\n",
        "total_tests\t| Total de testes para COVID-19\n",
        "new_tests\t| Novos testes para a COVID-19\n",
        "total_tests_per_thousand | Total de testes para COVID-19 por 1.000 pessoas\n",
        "new_tests_per_thousand\t| Total de novos testes para COVID-19 por 1.000 pessoas\n",
        "new_tests_smoothed\t| Novos testes para COVID-19 (Para países que não relatam dados de teste diariamente)\n",
        "new_tests_smoothed_per_thousand\t| Novos testes para COVID-19 (7 dias regularizados) por 1.000 pessoas\n",
        "tests_units\t| Unidades usadas pelo local para relatar seus dados de teste\n",
        "stringency_index\t| Índice de Rigidez da Resposta do Governo: ex: fechamento de escolas. Para um valor de 0 a 100 (100 = resposta mais estrita)\n",
        "population\t| Popolação em 2020\n",
        "population_density\t| Densidade populacional em 2020\n",
        "median_age\t| Idade média da população, projeção da ONU para 2020\n",
        "aged_65_older\t| Proporção da população com 65 anos ou mais, ano mais recente disponível\n",
        "aged_70_older\t| Percentagem da população com 70 anos ou mais em 2015\n",
        "gdp_per_capita\t| Produto interno bruto com paridade do poder de compra (dólares internacionais constantes de 2011), último ano disponível\n",
        "extreme_poverty\t| Percentagem da população que vive em extrema pobreza, último ano disponível desde 2010\n",
        "cvd_death_rate\t| Taxa de mortalidade por doenças cardiovasculares em 2017\n",
        "diabetes_prevalence\t| Prevalência de diabetes (% da população entre 20 e 79 anos) em 2017\n",
        "female_smokers\t| Percentagem de mulheres que fumam, último ano disponível\n",
        "male_smokers\t| Proporção de homens que fumam, último ano disponível\n",
        "handwashing_facilities\t| Proporção da população com instalações básicas de lavagem das mãos nas instalações, último ano disponível\n",
        "hospital_beds_per_thousand\t| Leitos de hospital por 1.000 pessoas, último ano disponível desde 2010\n",
        "life_expectancy| Expectativa de vida no nascimento em 2019"
      ]
    },
    {
      "cell_type": "markdown",
      "metadata": {
        "id": "m_ShYrZdi9Xv",
        "colab_type": "text"
      },
      "source": [
        "**A partir do conhecimento inicial do *dataset*, podemos extratir algumas informações básicas desse conjunto de dados.**"
      ]
    },
    {
      "cell_type": "code",
      "metadata": {
        "id": "eGpMQYpXUMr8",
        "colab_type": "code",
        "colab": {
          "base_uri": "https://localhost:8080/",
          "height": 34
        },
        "outputId": "4d6e6f49-847c-4c2d-b043-7e40c87d32bf"
      },
      "source": [
        "# VERIFICANDO O TAMANHO DO DATASET\n",
        "\n",
        "df_global.shape"
      ],
      "execution_count": null,
      "outputs": [
        {
          "output_type": "execute_result",
          "data": {
            "text/plain": [
              "(24535, 34)"
            ]
          },
          "metadata": {
            "tags": []
          },
          "execution_count": 54
        }
      ]
    },
    {
      "cell_type": "markdown",
      "metadata": {
        "id": "-KTG1PtWjTr9",
        "colab_type": "text"
      },
      "source": [
        "Esse conjunto de dados é composto por **24535 linhas** e **34 colunas**."
      ]
    },
    {
      "cell_type": "code",
      "metadata": {
        "id": "SFmhXTidjQbq",
        "colab_type": "code",
        "colab": {
          "base_uri": "https://localhost:8080/",
          "height": 612
        },
        "outputId": "0b46fbe5-9f66-46e1-b665-427ff5e57691"
      },
      "source": [
        "# TIPOS DE VARIÁVEIS PRESENTES\n",
        "\n",
        "df_global.dtypes"
      ],
      "execution_count": null,
      "outputs": [
        {
          "output_type": "execute_result",
          "data": {
            "text/plain": [
              "iso_code                            object\n",
              "continent                           object\n",
              "location                            object\n",
              "date                                object\n",
              "total_cases                        float64\n",
              "new_cases                          float64\n",
              "total_deaths                       float64\n",
              "new_deaths                         float64\n",
              "total_cases_per_million            float64\n",
              "new_cases_per_million              float64\n",
              "total_deaths_per_million           float64\n",
              "new_deaths_per_million             float64\n",
              "total_tests                        float64\n",
              "new_tests                          float64\n",
              "total_tests_per_thousand           float64\n",
              "new_tests_per_thousand             float64\n",
              "new_tests_smoothed                 float64\n",
              "new_tests_smoothed_per_thousand    float64\n",
              "tests_units                         object\n",
              "stringency_index                   float64\n",
              "population                           int64\n",
              "population_density                 float64\n",
              "median_age                         float64\n",
              "aged_65_older                      float64\n",
              "aged_70_older                      float64\n",
              "gdp_per_capita                     float64\n",
              "extreme_poverty                    float64\n",
              "cvd_death_rate                     float64\n",
              "diabetes_prevalence                float64\n",
              "female_smokers                     float64\n",
              "male_smokers                       float64\n",
              "handwashing_facilities             float64\n",
              "hospital_beds_per_thousand         float64\n",
              "life_expectancy                    float64\n",
              "dtype: object"
            ]
          },
          "metadata": {
            "tags": []
          },
          "execution_count": 55
        }
      ]
    },
    {
      "cell_type": "markdown",
      "metadata": {
        "id": "F6KYiA-NjriD",
        "colab_type": "text"
      },
      "source": [
        "O *dataset* possui, em sua maioria, dados do tipo *float*."
      ]
    },
    {
      "cell_type": "code",
      "metadata": {
        "id": "XixvYI6mjm2S",
        "colab_type": "code",
        "colab": {
          "base_uri": "https://localhost:8080/",
          "height": 612
        },
        "outputId": "54ca27d7-24c4-45f3-fb91-c8ff7bc1cf89"
      },
      "source": [
        "# VERIFICANDO A EXISTÊNCIA DE VALORES AUSENTES NAS COLUNAS\n",
        "\n",
        "((df_global.isnull().sum() / df_global.shape[0])*100).sort_values(ascending=False)"
      ],
      "execution_count": null,
      "outputs": [
        {
          "output_type": "execute_result",
          "data": {
            "text/plain": [
              "new_tests                          74.224577\n",
              "new_tests_per_thousand             74.224577\n",
              "total_tests_per_thousand           71.538618\n",
              "total_tests                        71.538618\n",
              "new_tests_smoothed_per_thousand    69.146118\n",
              "new_tests_smoothed                 69.146118\n",
              "tests_units                        66.631343\n",
              "handwashing_facilities             58.968820\n",
              "extreme_poverty                    39.425311\n",
              "male_smokers                       27.018545\n",
              "female_smokers                     26.178928\n",
              "stringency_index                   18.320766\n",
              "hospital_beds_per_thousand         15.924190\n",
              "gdp_per_capita                      9.643367\n",
              "aged_65_older                       9.570002\n",
              "aged_70_older                       8.754840\n",
              "median_age                          8.286122\n",
              "cvd_death_rate                      8.224985\n",
              "diabetes_prevalence                 5.225189\n",
              "population_density                  3.688608\n",
              "life_expectancy                     1.141227\n",
              "new_deaths_per_million              0.921133\n",
              "total_deaths_per_million            0.921133\n",
              "new_deaths                          0.921133\n",
              "total_deaths                        0.921133\n",
              "new_cases_per_million               0.917057\n",
              "total_cases_per_million             0.917057\n",
              "new_cases                           0.917057\n",
              "total_cases                         0.917057\n",
              "continent                           0.701039\n",
              "population                          0.000000\n",
              "date                                0.000000\n",
              "location                            0.000000\n",
              "iso_code                            0.000000\n",
              "dtype: float64"
            ]
          },
          "metadata": {
            "tags": []
          },
          "execution_count": 56
        }
      ]
    },
    {
      "cell_type": "markdown",
      "metadata": {
        "id": "NfGEJMivkhD1",
        "colab_type": "text"
      },
      "source": [
        "Pode-se perceber que a coluna *`new_tests`* possui o maior número de valores ausentes no conjunto de dados."
      ]
    },
    {
      "cell_type": "markdown",
      "metadata": {
        "id": "TzIZR1z1k8HK",
        "colab_type": "text"
      },
      "source": [
        "**Nas análises seguintes, iremos avaliar os eventos observados ao longo do tempo. Desta forma, faz-se necessário tratarmos o conjunto de dados a fim de transformar a coluna *`date`* para o padrão de datas da biblioteca Pandas.**"
      ]
    },
    {
      "cell_type": "code",
      "metadata": {
        "id": "VcmQBOXVmJH8",
        "colab_type": "code",
        "colab": {}
      },
      "source": [
        "# Transformando a coluna date no formato datetime\n",
        "\n",
        "df_global.date = pd.to_datetime(df_global.date)"
      ],
      "execution_count": null,
      "outputs": []
    },
    {
      "cell_type": "markdown",
      "metadata": {
        "id": "BRERbw8em_gT",
        "colab_type": "text"
      },
      "source": [
        "Agora, podemos começar a realizar análises mais complexas.\n",
        "\n",
        "Por exemplo, é possível verificar quais países registraram os maiores números de casos confirmados e de mortes por COVID-19."
      ]
    },
    {
      "cell_type": "code",
      "metadata": {
        "id": "kiN5Qx1MnXRk",
        "colab_type": "code",
        "colab": {
          "base_uri": "https://localhost:8080/",
          "height": 145
        },
        "outputId": "1568f684-9f72-43c0-b4fc-5af5dca85dda"
      },
      "source": [
        "# PAÍSES COM MAIS CASOS DE COVID-19 CONFIRMADOS\n",
        "\n",
        "global_casos_e_mortes = df_global.loc[df_global.date == '2020-06-19',['location','total_cases']].sort_values(by = ['total_cases'], ascending=False)\n",
        "global_casos_e_mortes[1:6].style.background_gradient(cmap ='Blues')"
      ],
      "execution_count": null,
      "outputs": [
        {
          "output_type": "execute_result",
          "data": {
            "text/html": [
              "<style  type=\"text/css\" >\n",
              "    #T_46f1b5b2_b25c_11ea_8e93_0242ac1c0002row0_col1 {\n",
              "            background-color:  #08306b;\n",
              "            color:  #f1f1f1;\n",
              "        }    #T_46f1b5b2_b25c_11ea_8e93_0242ac1c0002row1_col1 {\n",
              "            background-color:  #a4cce3;\n",
              "            color:  #000000;\n",
              "        }    #T_46f1b5b2_b25c_11ea_8e93_0242ac1c0002row2_col1 {\n",
              "            background-color:  #dce9f6;\n",
              "            color:  #000000;\n",
              "        }    #T_46f1b5b2_b25c_11ea_8e93_0242ac1c0002row3_col1 {\n",
              "            background-color:  #eff6fc;\n",
              "            color:  #000000;\n",
              "        }    #T_46f1b5b2_b25c_11ea_8e93_0242ac1c0002row4_col1 {\n",
              "            background-color:  #f7fbff;\n",
              "            color:  #000000;\n",
              "        }</style><table id=\"T_46f1b5b2_b25c_11ea_8e93_0242ac1c0002\" ><thead>    <tr>        <th class=\"blank level0\" ></th>        <th class=\"col_heading level0 col0\" >location</th>        <th class=\"col_heading level0 col1\" >total_cases</th>    </tr></thead><tbody>\n",
              "                <tr>\n",
              "                        <th id=\"T_46f1b5b2_b25c_11ea_8e93_0242ac1c0002level0_row0\" class=\"row_heading level0 row0\" >23504</th>\n",
              "                        <td id=\"T_46f1b5b2_b25c_11ea_8e93_0242ac1c0002row0_col0\" class=\"data row0 col0\" >United States</td>\n",
              "                        <td id=\"T_46f1b5b2_b25c_11ea_8e93_0242ac1c0002row0_col1\" class=\"data row0 col1\" >2191052.000000</td>\n",
              "            </tr>\n",
              "            <tr>\n",
              "                        <th id=\"T_46f1b5b2_b25c_11ea_8e93_0242ac1c0002level0_row1\" class=\"row_heading level0 row1\" >3376</th>\n",
              "                        <td id=\"T_46f1b5b2_b25c_11ea_8e93_0242ac1c0002row1_col0\" class=\"data row1 col0\" >Brazil</td>\n",
              "                        <td id=\"T_46f1b5b2_b25c_11ea_8e93_0242ac1c0002row1_col1\" class=\"data row1 col1\" >978142.000000</td>\n",
              "            </tr>\n",
              "            <tr>\n",
              "                        <th id=\"T_46f1b5b2_b25c_11ea_8e93_0242ac1c0002level0_row2\" class=\"row_heading level0 row2\" >18806</th>\n",
              "                        <td id=\"T_46f1b5b2_b25c_11ea_8e93_0242ac1c0002row2_col0\" class=\"data row2 col0\" >Russia</td>\n",
              "                        <td id=\"T_46f1b5b2_b25c_11ea_8e93_0242ac1c0002row2_col1\" class=\"data row2 col1\" >561091.000000</td>\n",
              "            </tr>\n",
              "            <tr>\n",
              "                        <th id=\"T_46f1b5b2_b25c_11ea_8e93_0242ac1c0002level0_row3\" class=\"row_heading level0 row3\" >10508</th>\n",
              "                        <td id=\"T_46f1b5b2_b25c_11ea_8e93_0242ac1c0002row3_col0\" class=\"data row3 col0\" >India</td>\n",
              "                        <td id=\"T_46f1b5b2_b25c_11ea_8e93_0242ac1c0002row3_col1\" class=\"data row3 col1\" >380532.000000</td>\n",
              "            </tr>\n",
              "            <tr>\n",
              "                        <th id=\"T_46f1b5b2_b25c_11ea_8e93_0242ac1c0002level0_row4\" class=\"row_heading level0 row4\" >23332</th>\n",
              "                        <td id=\"T_46f1b5b2_b25c_11ea_8e93_0242ac1c0002row4_col0\" class=\"data row4 col0\" >United Kingdom</td>\n",
              "                        <td id=\"T_46f1b5b2_b25c_11ea_8e93_0242ac1c0002row4_col1\" class=\"data row4 col1\" >300469.000000</td>\n",
              "            </tr>\n",
              "    </tbody></table>"
            ],
            "text/plain": [
              "<pandas.io.formats.style.Styler at 0x7f9ae1ebbcf8>"
            ]
          },
          "metadata": {
            "tags": []
          },
          "execution_count": 58
        }
      ]
    },
    {
      "cell_type": "code",
      "metadata": {
        "id": "wWCpA87c2rfW",
        "colab_type": "code",
        "colab": {
          "base_uri": "https://localhost:8080/",
          "height": 145
        },
        "outputId": "8c8199e0-1008-4f4f-ee94-366b6715bc0a"
      },
      "source": [
        "# PAÍSES COM MAIS MORTES POR COVID-19 CONFIRMADAS\n",
        "\n",
        "global_casos_e_mortes = df_global.loc[df_global.date == '2020-06-19',['location','total_deaths']].sort_values(by = ['total_deaths'], ascending=False)\n",
        "global_casos_e_mortes[1:6].style.background_gradient(cmap ='Reds')"
      ],
      "execution_count": null,
      "outputs": [
        {
          "output_type": "execute_result",
          "data": {
            "text/html": [
              "<style  type=\"text/css\" >\n",
              "    #T_46f546f0_b25c_11ea_8e93_0242ac1c0002row0_col1 {\n",
              "            background-color:  #67000d;\n",
              "            color:  #f1f1f1;\n",
              "        }    #T_46f546f0_b25c_11ea_8e93_0242ac1c0002row1_col1 {\n",
              "            background-color:  #fdc9b3;\n",
              "            color:  #000000;\n",
              "        }    #T_46f546f0_b25c_11ea_8e93_0242ac1c0002row2_col1 {\n",
              "            background-color:  #fedbcc;\n",
              "            color:  #000000;\n",
              "        }    #T_46f546f0_b25c_11ea_8e93_0242ac1c0002row3_col1 {\n",
              "            background-color:  #ffece3;\n",
              "            color:  #000000;\n",
              "        }    #T_46f546f0_b25c_11ea_8e93_0242ac1c0002row4_col1 {\n",
              "            background-color:  #fff5f0;\n",
              "            color:  #000000;\n",
              "        }</style><table id=\"T_46f546f0_b25c_11ea_8e93_0242ac1c0002\" ><thead>    <tr>        <th class=\"blank level0\" ></th>        <th class=\"col_heading level0 col0\" >location</th>        <th class=\"col_heading level0 col1\" >total_deaths</th>    </tr></thead><tbody>\n",
              "                <tr>\n",
              "                        <th id=\"T_46f546f0_b25c_11ea_8e93_0242ac1c0002level0_row0\" class=\"row_heading level0 row0\" >23504</th>\n",
              "                        <td id=\"T_46f546f0_b25c_11ea_8e93_0242ac1c0002row0_col0\" class=\"data row0 col0\" >United States</td>\n",
              "                        <td id=\"T_46f546f0_b25c_11ea_8e93_0242ac1c0002row0_col1\" class=\"data row0 col1\" >118434.000000</td>\n",
              "            </tr>\n",
              "            <tr>\n",
              "                        <th id=\"T_46f546f0_b25c_11ea_8e93_0242ac1c0002level0_row1\" class=\"row_heading level0 row1\" >3376</th>\n",
              "                        <td id=\"T_46f546f0_b25c_11ea_8e93_0242ac1c0002row1_col0\" class=\"data row1 col0\" >Brazil</td>\n",
              "                        <td id=\"T_46f546f0_b25c_11ea_8e93_0242ac1c0002row1_col1\" class=\"data row1 col1\" >47748.000000</td>\n",
              "            </tr>\n",
              "            <tr>\n",
              "                        <th id=\"T_46f546f0_b25c_11ea_8e93_0242ac1c0002level0_row2\" class=\"row_heading level0 row2\" >23332</th>\n",
              "                        <td id=\"T_46f546f0_b25c_11ea_8e93_0242ac1c0002row2_col0\" class=\"data row2 col0\" >United Kingdom</td>\n",
              "                        <td id=\"T_46f546f0_b25c_11ea_8e93_0242ac1c0002row2_col1\" class=\"data row2 col1\" >42288.000000</td>\n",
              "            </tr>\n",
              "            <tr>\n",
              "                        <th id=\"T_46f546f0_b25c_11ea_8e93_0242ac1c0002level0_row3\" class=\"row_heading level0 row3\" >11621</th>\n",
              "                        <td id=\"T_46f546f0_b25c_11ea_8e93_0242ac1c0002row3_col0\" class=\"data row3 col0\" >Italy</td>\n",
              "                        <td id=\"T_46f546f0_b25c_11ea_8e93_0242ac1c0002row3_col1\" class=\"data row3 col1\" >34514.000000</td>\n",
              "            </tr>\n",
              "            <tr>\n",
              "                        <th id=\"T_46f546f0_b25c_11ea_8e93_0242ac1c0002level0_row4\" class=\"row_heading level0 row4\" >8116</th>\n",
              "                        <td id=\"T_46f546f0_b25c_11ea_8e93_0242ac1c0002row4_col0\" class=\"data row4 col0\" >France</td>\n",
              "                        <td id=\"T_46f546f0_b25c_11ea_8e93_0242ac1c0002row4_col1\" class=\"data row4 col1\" >29603.000000</td>\n",
              "            </tr>\n",
              "    </tbody></table>"
            ],
            "text/plain": [
              "<pandas.io.formats.style.Styler at 0x7f9ae1ebb898>"
            ]
          },
          "metadata": {
            "tags": []
          },
          "execution_count": 59
        }
      ]
    },
    {
      "cell_type": "markdown",
      "metadata": {
        "id": "l9xiKycPuYmN",
        "colab_type": "text"
      },
      "source": [
        "Assim, podemos verificar pela tabela acima, os 5 países que possuem mais casos e mortes registradas no dia 19-06-2020."
      ]
    },
    {
      "cell_type": "code",
      "metadata": {
        "id": "_HQ_kueKuFtu",
        "colab_type": "code",
        "colab": {
          "base_uri": "https://localhost:8080/",
          "height": 369
        },
        "outputId": "d7e2cf10-c122-44ac-a6c3-eaa2db5c7b54"
      },
      "source": [
        "# GRÁFICO DOS 5 PAÍSES COM MAIORES NÚEMROS DE MORTES POR COVID-19 REGISTRADAS\n",
        "\n",
        "top5_mortes = global_casos_e_mortes.sort_values(by = ['total_deaths'], ascending = False)[1:6]\n",
        "\n",
        "fig, ax = plt.subplots(figsize = (10,5))\n",
        "ax.bar('location', 'total_deaths', data = top5_mortes)\n",
        "ax.set_title('Top 5')\n",
        "ax.set_ylabel('N° de Mortes')\n",
        "\n",
        "plt.xticks(rotation = 45, ha = 'right')\n",
        "\n",
        "plt.tight_layout()"
      ],
      "execution_count": null,
      "outputs": [
        {
          "output_type": "display_data",
          "data": {
            "image/png": "[encoded data removed]",
            "text/plain": [
              "<Figure size 720x360 with 1 Axes>"
            ]
          },
          "metadata": {
            "tags": [],
            "needs_background": "light"
          }
        }
      ]
    },
    {
      "cell_type": "code",
      "metadata": {
        "id": "9Jbyo7UxwCfp",
        "colab_type": "code",
        "colab": {
          "base_uri": "https://localhost:8080/",
          "height": 334
        },
        "outputId": "bd026ebf-be1c-4d71-a7c9-c29029672aff"
      },
      "source": [
        "# EVOLUÇÃO DOS CASOS DE COVID-19 NO MUNDO\n",
        "\n",
        "df_evol = df_global.loc[df_global.location == \"World\", \"total_deaths\"].reset_index(drop = True)\n",
        "df_evol.plot(figsize = (10,5))\n",
        "plt.xlabel('Dias')\n",
        "plt.ylabel('N° de Mortes')\n",
        "plt.show()"
      ],
      "execution_count": null,
      "outputs": [
        {
          "output_type": "display_data",
          "data": {
            "image/png": "[encoded data removed]",
            "text/plain": [
              "<Figure size 720x360 with 1 Axes>"
            ]
          },
          "metadata": {
            "tags": [],
            "needs_background": "light"
          }
        }
      ]
    },
    {
      "cell_type": "markdown",
      "metadata": {
        "id": "az-GoCTrsPNC",
        "colab_type": "text"
      },
      "source": [
        "A partir do cálculo da taxa de mortalidade da doença, podemos ter uma noção do grau de devastação causado pela COVID-19."
      ]
    },
    {
      "cell_type": "code",
      "metadata": {
        "id": "KqmEkQ5qpxtC",
        "colab_type": "code",
        "colab": {
          "base_uri": "https://localhost:8080/",
          "height": 34
        },
        "outputId": "74a5761d-1ce1-4b2a-b423-19d114fe8f89"
      },
      "source": [
        "# TAXA DE MORTALIDADE\n",
        "mortalidade = (df_global.total_deaths.max() / df_global.total_cases.max())*100\n",
        "print('Taxa de Mortalidade: {:.2f}%'.format(mortalidade))"
      ],
      "execution_count": null,
      "outputs": [
        {
          "output_type": "stream",
          "text": [
            "Taxa de Mortalidade: 5.39%\n"
          ],
          "name": "stdout"
        }
      ]
    },
    {
      "cell_type": "markdown",
      "metadata": {
        "id": "CGECzN2Ys1Pg",
        "colab_type": "text"
      },
      "source": [
        "Em uma primeira análise, podemos achar que pelo fato da taca de mortalidade da COVID-19 ser relativamente baixa, apenas 5,39%, a doença não representa grande ameaça, pensamento esse totalmente equivocado, como podemos ver através dos números de mortes em todo o mundo."
      ]
    },
    {
      "cell_type": "markdown",
      "metadata": {
        "id": "OfWQxlth8oOJ",
        "colab_type": "text"
      },
      "source": [
        "### **ANÁLISE EXPLORATÓRIA PARA O BRASIL**"
      ]
    },
    {
      "cell_type": "markdown",
      "metadata": {
        "id": "Uknqtajf8t8D",
        "colab_type": "text"
      },
      "source": [
        "Inicialmente, vamos reduzir o nosso *dataset* original a fim de filtrar apenas as informações referentes ao Brasil."
      ]
    },
    {
      "cell_type": "code",
      "metadata": {
        "id": "rhhsjuXc2-mz",
        "colab_type": "code",
        "colab": {
          "base_uri": "https://localhost:8080/",
          "height": 235
        },
        "outputId": "d1825aa5-2767-4279-896d-5f6b8b6bb8fd"
      },
      "source": [
        "# SELECIONANDO UM NOVO DATAFRAME\n",
        "\n",
        "df_brasil = df_global.loc[df_global.location == \"Brazil\", [\"date\",\"total_cases\",\"total_deaths\"]].reset_index(drop = True)\n",
        "df_brasil = pd.DataFrame(df_brasil)\n",
        "\n",
        "# CONVERTENDO OS DADOS DA COLUNA 'DATE' PARA O FORMAT DE DATAS DO PANDAS\n",
        "\n",
        "df_brasil.date = pd.to_datetime(df_brasil.date)\n",
        "\n",
        "df_brasil.set_index('date', inplace = True)\n",
        "\n",
        "# VISUALIZANDO\n",
        "\n",
        "df_brasil.head()"
      ],
      "execution_count": null,
      "outputs": [
        {
          "output_type": "execute_result",
          "data": {
            "text/html": [
              "<div>\n",
              "<style scoped>\n",
              "    .dataframe tbody tr th:only-of-type {\n",
              "        vertical-align: middle;\n",
              "    }\n",
              "\n",
              "    .dataframe tbody tr th {\n",
              "        vertical-align: top;\n",
              "    }\n",
              "\n",
              "    .dataframe thead th {\n",
              "        text-align: right;\n",
              "    }\n",
              "</style>\n",
              "<table border=\"1\" class=\"dataframe\">\n",
              "  <thead>\n",
              "    <tr style=\"text-align: right;\">\n",
              "      <th></th>\n",
              "      <th>total_cases</th>\n",
              "      <th>total_deaths</th>\n",
              "    </tr>\n",
              "    <tr>\n",
              "      <th>date</th>\n",
              "      <th></th>\n",
              "      <th></th>\n",
              "    </tr>\n",
              "  </thead>\n",
              "  <tbody>\n",
              "    <tr>\n",
              "      <th>2019-12-31</th>\n",
              "      <td>0.0</td>\n",
              "      <td>0.0</td>\n",
              "    </tr>\n",
              "    <tr>\n",
              "      <th>2020-01-01</th>\n",
              "      <td>0.0</td>\n",
              "      <td>0.0</td>\n",
              "    </tr>\n",
              "    <tr>\n",
              "      <th>2020-01-02</th>\n",
              "      <td>0.0</td>\n",
              "      <td>0.0</td>\n",
              "    </tr>\n",
              "    <tr>\n",
              "      <th>2020-01-03</th>\n",
              "      <td>0.0</td>\n",
              "      <td>0.0</td>\n",
              "    </tr>\n",
              "    <tr>\n",
              "      <th>2020-01-04</th>\n",
              "      <td>0.0</td>\n",
              "      <td>0.0</td>\n",
              "    </tr>\n",
              "  </tbody>\n",
              "</table>\n",
              "</div>"
            ],
            "text/plain": [
              "            total_cases  total_deaths\n",
              "date                                 \n",
              "2019-12-31          0.0           0.0\n",
              "2020-01-01          0.0           0.0\n",
              "2020-01-02          0.0           0.0\n",
              "2020-01-03          0.0           0.0\n",
              "2020-01-04          0.0           0.0"
            ]
          },
          "metadata": {
            "tags": []
          },
          "execution_count": 63
        }
      ]
    },
    {
      "cell_type": "markdown",
      "metadata": {
        "id": "x04A_eFmEt_t",
        "colab_type": "text"
      },
      "source": [
        "A partir desse novo *dataframe* chamado *'df_brasil'*, podemos analisar os casos de COVID-19 no Brasil, tendo um conjunto de dados mais \"limpo\"."
      ]
    },
    {
      "cell_type": "code",
      "metadata": {
        "id": "pFdSZNJvA6Xm",
        "colab_type": "code",
        "colab": {
          "base_uri": "https://localhost:8080/",
          "height": 369
        },
        "outputId": "0a77002c-5bf6-4383-96e0-f072bcf91672"
      },
      "source": [
        "# GRÁFICO DO NÚMERO DE CASOS DE COVID-19 NO BRASIL\n",
        "\n",
        "fig, ax = plt.subplots(figsize = (10,5))\n",
        "\n",
        "ax.plot('total_cases', data = df_brasil)\n",
        "ax.set_title('COVID-19 no Brasil')\n",
        "ax.set_xlabel('Data')\n",
        "ax.set_ylabel('N° de Casos')\n",
        "plt.tight_layout()"
      ],
      "execution_count": null,
      "outputs": [
        {
          "output_type": "display_data",
          "data": {
            "image/png": "[encoded data removed]",
            "text/plain": [
              "<Figure size 720x360 with 1 Axes>"
            ]
          },
          "metadata": {
            "tags": [],
            "needs_background": "light"
          }
        }
      ]
    },
    {
      "cell_type": "code",
      "metadata": {
        "id": "fGJQOTRkFWXS",
        "colab_type": "code",
        "colab": {
          "base_uri": "https://localhost:8080/",
          "height": 369
        },
        "outputId": "74708f81-c3e2-476d-e3d5-e188466f2e22"
      },
      "source": [
        "# GRÁFICO DO NÚMERO DE MORTES POR COVID-19 NO BRASIL\n",
        "\n",
        "fig, ax = plt.subplots(figsize = (10,5))\n",
        "\n",
        "ax.plot('total_deaths','r' ,data = df_brasil)\n",
        "ax.set_title('COVID-19 no Brasil')\n",
        "ax.set_xlabel('Data')\n",
        "ax.set_ylabel('N° de Mortes')\n",
        "plt.tight_layout()"
      ],
      "execution_count": null,
      "outputs": [
        {
          "output_type": "display_data",
          "data": {
            "image/png": "[encoded data removed]",
            "text/plain": [
              "<Figure size 720x360 with 1 Axes>"
            ]
          },
          "metadata": {
            "tags": [],
            "needs_background": "light"
          }
        }
      ]
    },
    {
      "cell_type": "code",
      "metadata": {
        "id": "YJw_BG8cL3Zz",
        "colab_type": "code",
        "colab": {
          "base_uri": "https://localhost:8080/",
          "height": 111
        },
        "outputId": "fc6b33f7-1331-49f1-d75f-6ab17eba7543"
      },
      "source": [
        "# IDENTIFICANDO A DATA DO PRIMEIRO CASO CONFIRMADO DE COVID-19\n",
        "\n",
        "first_case = df_brasil.loc[df_brasil.total_cases != 0, ['total_cases']].sort_values(by = 'total_cases', ascending = True)[:1]\n",
        "first_case\n"
      ],
      "execution_count": null,
      "outputs": [
        {
          "output_type": "execute_result",
          "data": {
            "text/html": [
              "<div>\n",
              "<style scoped>\n",
              "    .dataframe tbody tr th:only-of-type {\n",
              "        vertical-align: middle;\n",
              "    }\n",
              "\n",
              "    .dataframe tbody tr th {\n",
              "        vertical-align: top;\n",
              "    }\n",
              "\n",
              "    .dataframe thead th {\n",
              "        text-align: right;\n",
              "    }\n",
              "</style>\n",
              "<table border=\"1\" class=\"dataframe\">\n",
              "  <thead>\n",
              "    <tr style=\"text-align: right;\">\n",
              "      <th></th>\n",
              "      <th>total_cases</th>\n",
              "    </tr>\n",
              "    <tr>\n",
              "      <th>date</th>\n",
              "      <th></th>\n",
              "    </tr>\n",
              "  </thead>\n",
              "  <tbody>\n",
              "    <tr>\n",
              "      <th>2020-02-26</th>\n",
              "      <td>1.0</td>\n",
              "    </tr>\n",
              "  </tbody>\n",
              "</table>\n",
              "</div>"
            ],
            "text/plain": [
              "            total_cases\n",
              "date                   \n",
              "2020-02-26          1.0"
            ]
          },
          "metadata": {
            "tags": []
          },
          "execution_count": 66
        }
      ]
    },
    {
      "cell_type": "code",
      "metadata": {
        "id": "Z96f9UsVNptD",
        "colab_type": "code",
        "colab": {
          "base_uri": "https://localhost:8080/",
          "height": 111
        },
        "outputId": "4397ad93-d247-40f6-c81e-254117780f53"
      },
      "source": [
        "# IDENTIFICANDO A DATA DA PRIMEIRA MORTE CONFIRMADA POR COVID-19\n",
        "\n",
        "first_death = df_brasil.loc[df_brasil.total_deaths != 0, ['total_deaths']].sort_values(by = 'total_deaths', ascending = True)[:1]\n",
        "first_death"
      ],
      "execution_count": null,
      "outputs": [
        {
          "output_type": "execute_result",
          "data": {
            "text/html": [
              "<div>\n",
              "<style scoped>\n",
              "    .dataframe tbody tr th:only-of-type {\n",
              "        vertical-align: middle;\n",
              "    }\n",
              "\n",
              "    .dataframe tbody tr th {\n",
              "        vertical-align: top;\n",
              "    }\n",
              "\n",
              "    .dataframe thead th {\n",
              "        text-align: right;\n",
              "    }\n",
              "</style>\n",
              "<table border=\"1\" class=\"dataframe\">\n",
              "  <thead>\n",
              "    <tr style=\"text-align: right;\">\n",
              "      <th></th>\n",
              "      <th>total_deaths</th>\n",
              "    </tr>\n",
              "    <tr>\n",
              "      <th>date</th>\n",
              "      <th></th>\n",
              "    </tr>\n",
              "  </thead>\n",
              "  <tbody>\n",
              "    <tr>\n",
              "      <th>2020-03-18</th>\n",
              "      <td>1.0</td>\n",
              "    </tr>\n",
              "  </tbody>\n",
              "</table>\n",
              "</div>"
            ],
            "text/plain": [
              "            total_deaths\n",
              "date                    \n",
              "2020-03-18           1.0"
            ]
          },
          "metadata": {
            "tags": []
          },
          "execution_count": 67
        }
      ]
    },
    {
      "cell_type": "markdown",
      "metadata": {
        "id": "yDtNNrI2PA-K",
        "colab_type": "text"
      },
      "source": [
        "O Brasil teve o primeiro caso confirmado da COVID-19 em **26-02-2020** e a primeira morte confirmada foi no dia **18-03-2020**"
      ]
    },
    {
      "cell_type": "markdown",
      "metadata": {
        "id": "Xg_DiqGv0KKt",
        "colab_type": "text"
      },
      "source": [
        "**Cálculo da taxa de mortalidade no Brasil**"
      ]
    },
    {
      "cell_type": "code",
      "metadata": {
        "id": "gIgXbEmx0EV5",
        "colab_type": "code",
        "colab": {
          "base_uri": "https://localhost:8080/",
          "height": 34
        },
        "outputId": "41c47409-a90b-425a-a4d2-7884ca73c8ef"
      },
      "source": [
        "# TAXA DE MORTALIDADE NO BRASIL\n",
        "\n",
        "mortalidade_brasil = (df_brasil.total_deaths.max() / df_brasil.total_cases.max())*100\n",
        "print('Taxa de Mortalidade: {:.2f}%'.format(mortalidade_brasil))"
      ],
      "execution_count": null,
      "outputs": [
        {
          "output_type": "stream",
          "text": [
            "Taxa de Mortalidade: 4.88%\n"
          ],
          "name": "stdout"
        }
      ]
    },
    {
      "cell_type": "markdown",
      "metadata": {
        "id": "K8sEw0gn0SIA",
        "colab_type": "text"
      },
      "source": [
        "Podemos observar que a taxa de mortalidade no Brasil é menor quando comparado aos números globais. Contudo, ainda assim, o país ocupa o segundo lugar no número de mortes devido à COVID-19 em todo o mundo."
      ]
    },
    {
      "cell_type": "markdown",
      "metadata": {
        "id": "qddnEZ4KPdV0",
        "colab_type": "text"
      },
      "source": [
        "### **ANÁLISE PREDITIVA USANDO O PROPHET**\n",
        "\n",
        "O Prophet trabalha com formatos específicos de colunas. Neste caso, devemos fornecer as informações nos seguintes padrões: ds e y A coluna ds deve estar no formato **AAAA-MM-DD** para datas e a coluna **y** deve ser numérica, esta representa a medida que deseja-se prever.\n",
        "\n",
        "Assim, para implementar a ferramenta Prophet na nossa análise, deveremos escolher um único parâmetro para ser avaliado em relação ao tempo. Neste caso, devemos gerar um novo dataset e renomear as colunas para ds e y."
      ]
    },
    {
      "cell_type": "code",
      "metadata": {
        "id": "Jib_T8mSO0KM",
        "colab_type": "code",
        "colab": {
          "base_uri": "https://localhost:8080/",
          "height": 204
        },
        "outputId": "b4e24e01-cd99-44ef-f7f4-3ef879ab9836"
      },
      "source": [
        "# CRIANDO UM DATASET COM AS INFORMAÇÕES: DATA E MORTES CONFIRMADAS\n",
        "\n",
        "prophet_mortes = df_brasil[['total_deaths']].reset_index()\n",
        "prophet_mortes.columns = ['ds','y']\n",
        "prophet_mortes.head()"
      ],
      "execution_count": null,
      "outputs": [
        {
          "output_type": "execute_result",
          "data": {
            "text/html": [
              "<div>\n",
              "<style scoped>\n",
              "    .dataframe tbody tr th:only-of-type {\n",
              "        vertical-align: middle;\n",
              "    }\n",
              "\n",
              "    .dataframe tbody tr th {\n",
              "        vertical-align: top;\n",
              "    }\n",
              "\n",
              "    .dataframe thead th {\n",
              "        text-align: right;\n",
              "    }\n",
              "</style>\n",
              "<table border=\"1\" class=\"dataframe\">\n",
              "  <thead>\n",
              "    <tr style=\"text-align: right;\">\n",
              "      <th></th>\n",
              "      <th>ds</th>\n",
              "      <th>y</th>\n",
              "    </tr>\n",
              "  </thead>\n",
              "  <tbody>\n",
              "    <tr>\n",
              "      <th>0</th>\n",
              "      <td>2019-12-31</td>\n",
              "      <td>0.0</td>\n",
              "    </tr>\n",
              "    <tr>\n",
              "      <th>1</th>\n",
              "      <td>2020-01-01</td>\n",
              "      <td>0.0</td>\n",
              "    </tr>\n",
              "    <tr>\n",
              "      <th>2</th>\n",
              "      <td>2020-01-02</td>\n",
              "      <td>0.0</td>\n",
              "    </tr>\n",
              "    <tr>\n",
              "      <th>3</th>\n",
              "      <td>2020-01-03</td>\n",
              "      <td>0.0</td>\n",
              "    </tr>\n",
              "    <tr>\n",
              "      <th>4</th>\n",
              "      <td>2020-01-04</td>\n",
              "      <td>0.0</td>\n",
              "    </tr>\n",
              "  </tbody>\n",
              "</table>\n",
              "</div>"
            ],
            "text/plain": [
              "          ds    y\n",
              "0 2019-12-31  0.0\n",
              "1 2020-01-01  0.0\n",
              "2 2020-01-02  0.0\n",
              "3 2020-01-03  0.0\n",
              "4 2020-01-04  0.0"
            ]
          },
          "metadata": {
            "tags": []
          },
          "execution_count": 69
        }
      ]
    },
    {
      "cell_type": "markdown",
      "metadata": {
        "id": "cV86zCwyRd9r",
        "colab_type": "text"
      },
      "source": [
        "Com o nosso dataframe no devido formato, podemos montar a nossa previsão usando o Prophet."
      ]
    },
    {
      "cell_type": "markdown",
      "metadata": {
        "id": "JyN__sylRk9l",
        "colab_type": "text"
      },
      "source": [
        "Iremos realizar as análises adotando um **intervalor de confiança de 95%**.\n",
        "\n",
        "Admitir um determinado intervalo de confiança é essencial na análise de dados em Séries Temporais, uma vez que as tendências temporais dos dados mudam constantemente. Ou seja, devemos assumir que o futuro sofrerá mudanças. Nesta análise, assumiremos um **erro de 5%**."
      ]
    },
    {
      "cell_type": "code",
      "metadata": {
        "id": "X8sZSjeFQANc",
        "colab_type": "code",
        "colab": {}
      },
      "source": [
        "# CRIANDO A INSTÂNCIA DO PROPHET\n",
        "\n",
        "m = Prophet(interval_width=0.95, yearly_seasonality=False, daily_seasonality=False) # SAZONALIDADES ANUAL E DIÁRIAS IGNORADAS\n",
        "\n",
        "# Treinamento\n",
        "# Neste caso, podemos passar todo o dataframe, ao invés de dividir em treino e teste\n",
        "\n",
        "m.fit(prophet_mortes)\n",
        "\n",
        "# Quantidade de dias desejados\n",
        "dias = 30\n",
        "\n",
        "futuro_mortes = m.make_future_dataframe(periods = dias)"
      ],
      "execution_count": null,
      "outputs": []
    },
    {
      "cell_type": "code",
      "metadata": {
        "id": "usZPD8_nRxos",
        "colab_type": "code",
        "colab": {
          "base_uri": "https://localhost:8080/",
          "height": 979
        },
        "outputId": "c55d8ced-5429-46c2-cd84-19088107263c"
      },
      "source": [
        "# VISUALIZANDO OS DIAS DE PREVISÃO GERADOS\n",
        "\n",
        "futuro_mortes.tail(dias)"
      ],
      "execution_count": null,
      "outputs": [
        {
          "output_type": "execute_result",
          "data": {
            "text/html": [
              "<div>\n",
              "<style scoped>\n",
              "    .dataframe tbody tr th:only-of-type {\n",
              "        vertical-align: middle;\n",
              "    }\n",
              "\n",
              "    .dataframe tbody tr th {\n",
              "        vertical-align: top;\n",
              "    }\n",
              "\n",
              "    .dataframe thead th {\n",
              "        text-align: right;\n",
              "    }\n",
              "</style>\n",
              "<table border=\"1\" class=\"dataframe\">\n",
              "  <thead>\n",
              "    <tr style=\"text-align: right;\">\n",
              "      <th></th>\n",
              "      <th>ds</th>\n",
              "    </tr>\n",
              "  </thead>\n",
              "  <tbody>\n",
              "    <tr>\n",
              "      <th>172</th>\n",
              "      <td>2020-06-20</td>\n",
              "    </tr>\n",
              "    <tr>\n",
              "      <th>173</th>\n",
              "      <td>2020-06-21</td>\n",
              "    </tr>\n",
              "    <tr>\n",
              "      <th>174</th>\n",
              "      <td>2020-06-22</td>\n",
              "    </tr>\n",
              "    <tr>\n",
              "      <th>175</th>\n",
              "      <td>2020-06-23</td>\n",
              "    </tr>\n",
              "    <tr>\n",
              "      <th>176</th>\n",
              "      <td>2020-06-24</td>\n",
              "    </tr>\n",
              "    <tr>\n",
              "      <th>177</th>\n",
              "      <td>2020-06-25</td>\n",
              "    </tr>\n",
              "    <tr>\n",
              "      <th>178</th>\n",
              "      <td>2020-06-26</td>\n",
              "    </tr>\n",
              "    <tr>\n",
              "      <th>179</th>\n",
              "      <td>2020-06-27</td>\n",
              "    </tr>\n",
              "    <tr>\n",
              "      <th>180</th>\n",
              "      <td>2020-06-28</td>\n",
              "    </tr>\n",
              "    <tr>\n",
              "      <th>181</th>\n",
              "      <td>2020-06-29</td>\n",
              "    </tr>\n",
              "    <tr>\n",
              "      <th>182</th>\n",
              "      <td>2020-06-30</td>\n",
              "    </tr>\n",
              "    <tr>\n",
              "      <th>183</th>\n",
              "      <td>2020-07-01</td>\n",
              "    </tr>\n",
              "    <tr>\n",
              "      <th>184</th>\n",
              "      <td>2020-07-02</td>\n",
              "    </tr>\n",
              "    <tr>\n",
              "      <th>185</th>\n",
              "      <td>2020-07-03</td>\n",
              "    </tr>\n",
              "    <tr>\n",
              "      <th>186</th>\n",
              "      <td>2020-07-04</td>\n",
              "    </tr>\n",
              "    <tr>\n",
              "      <th>187</th>\n",
              "      <td>2020-07-05</td>\n",
              "    </tr>\n",
              "    <tr>\n",
              "      <th>188</th>\n",
              "      <td>2020-07-06</td>\n",
              "    </tr>\n",
              "    <tr>\n",
              "      <th>189</th>\n",
              "      <td>2020-07-07</td>\n",
              "    </tr>\n",
              "    <tr>\n",
              "      <th>190</th>\n",
              "      <td>2020-07-08</td>\n",
              "    </tr>\n",
              "    <tr>\n",
              "      <th>191</th>\n",
              "      <td>2020-07-09</td>\n",
              "    </tr>\n",
              "    <tr>\n",
              "      <th>192</th>\n",
              "      <td>2020-07-10</td>\n",
              "    </tr>\n",
              "    <tr>\n",
              "      <th>193</th>\n",
              "      <td>2020-07-11</td>\n",
              "    </tr>\n",
              "    <tr>\n",
              "      <th>194</th>\n",
              "      <td>2020-07-12</td>\n",
              "    </tr>\n",
              "    <tr>\n",
              "      <th>195</th>\n",
              "      <td>2020-07-13</td>\n",
              "    </tr>\n",
              "    <tr>\n",
              "      <th>196</th>\n",
              "      <td>2020-07-14</td>\n",
              "    </tr>\n",
              "    <tr>\n",
              "      <th>197</th>\n",
              "      <td>2020-07-15</td>\n",
              "    </tr>\n",
              "    <tr>\n",
              "      <th>198</th>\n",
              "      <td>2020-07-16</td>\n",
              "    </tr>\n",
              "    <tr>\n",
              "      <th>199</th>\n",
              "      <td>2020-07-17</td>\n",
              "    </tr>\n",
              "    <tr>\n",
              "      <th>200</th>\n",
              "      <td>2020-07-18</td>\n",
              "    </tr>\n",
              "    <tr>\n",
              "      <th>201</th>\n",
              "      <td>2020-07-19</td>\n",
              "    </tr>\n",
              "  </tbody>\n",
              "</table>\n",
              "</div>"
            ],
            "text/plain": [
              "            ds\n",
              "172 2020-06-20\n",
              "173 2020-06-21\n",
              "174 2020-06-22\n",
              "175 2020-06-23\n",
              "176 2020-06-24\n",
              "177 2020-06-25\n",
              "178 2020-06-26\n",
              "179 2020-06-27\n",
              "180 2020-06-28\n",
              "181 2020-06-29\n",
              "182 2020-06-30\n",
              "183 2020-07-01\n",
              "184 2020-07-02\n",
              "185 2020-07-03\n",
              "186 2020-07-04\n",
              "187 2020-07-05\n",
              "188 2020-07-06\n",
              "189 2020-07-07\n",
              "190 2020-07-08\n",
              "191 2020-07-09\n",
              "192 2020-07-10\n",
              "193 2020-07-11\n",
              "194 2020-07-12\n",
              "195 2020-07-13\n",
              "196 2020-07-14\n",
              "197 2020-07-15\n",
              "198 2020-07-16\n",
              "199 2020-07-17\n",
              "200 2020-07-18\n",
              "201 2020-07-19"
            ]
          },
          "metadata": {
            "tags": []
          },
          "execution_count": 71
        }
      ]
    },
    {
      "cell_type": "markdown",
      "metadata": {
        "id": "UrNveIAmR82D",
        "colab_type": "text"
      },
      "source": [
        "Perceba que, no dataframe **prophet_mortes** (antes de gerar os dias de previsão), a última data era 2020-06-19.\n",
        "Agora, temos até o dia 2020-07-19, ou seja, **30 dias** depois, como especificado.\n",
        "\n",
        "**E isso também pode ser feito para mais dias.**"
      ]
    },
    {
      "cell_type": "code",
      "metadata": {
        "id": "73tdXW4YR1iz",
        "colab_type": "code",
        "colab": {
          "base_uri": "https://localhost:8080/",
          "height": 1000
        },
        "outputId": "40a97b7e-8f14-40e6-dba4-12a8af537842"
      },
      "source": [
        "# GERANDO DATAFRAME COM PREVISÕES DO PROPHET\n",
        "\n",
        "previsao_mortes = m.predict(futuro_mortes)\n",
        "\n",
        "# Visualizando o dataframe gerado\n",
        "\n",
        "previsao_mortes.tail(dias)"
      ],
      "execution_count": null,
      "outputs": [
        {
          "output_type": "execute_result",
          "data": {
            "text/html": [
              "<div>\n",
              "<style scoped>\n",
              "    .dataframe tbody tr th:only-of-type {\n",
              "        vertical-align: middle;\n",
              "    }\n",
              "\n",
              "    .dataframe tbody tr th {\n",
              "        vertical-align: top;\n",
              "    }\n",
              "\n",
              "    .dataframe thead th {\n",
              "        text-align: right;\n",
              "    }\n",
              "</style>\n",
              "<table border=\"1\" class=\"dataframe\">\n",
              "  <thead>\n",
              "    <tr style=\"text-align: right;\">\n",
              "      <th></th>\n",
              "      <th>ds</th>\n",
              "      <th>trend</th>\n",
              "      <th>yhat_lower</th>\n",
              "      <th>yhat_upper</th>\n",
              "      <th>trend_lower</th>\n",
              "      <th>trend_upper</th>\n",
              "      <th>additive_terms</th>\n",
              "      <th>additive_terms_lower</th>\n",
              "      <th>additive_terms_upper</th>\n",
              "      <th>weekly</th>\n",
              "      <th>weekly_lower</th>\n",
              "      <th>weekly_upper</th>\n",
              "      <th>multiplicative_terms</th>\n",
              "      <th>multiplicative_terms_lower</th>\n",
              "      <th>multiplicative_terms_upper</th>\n",
              "      <th>yhat</th>\n",
              "    </tr>\n",
              "  </thead>\n",
              "  <tbody>\n",
              "    <tr>\n",
              "      <th>172</th>\n",
              "      <td>2020-06-20</td>\n",
              "      <td>48215.892374</td>\n",
              "      <td>48000.572297</td>\n",
              "      <td>48588.111392</td>\n",
              "      <td>48198.731669</td>\n",
              "      <td>48228.963878</td>\n",
              "      <td>71.859721</td>\n",
              "      <td>71.859721</td>\n",
              "      <td>71.859721</td>\n",
              "      <td>71.859721</td>\n",
              "      <td>71.859721</td>\n",
              "      <td>71.859721</td>\n",
              "      <td>0.0</td>\n",
              "      <td>0.0</td>\n",
              "      <td>0.0</td>\n",
              "      <td>48287.752095</td>\n",
              "    </tr>\n",
              "    <tr>\n",
              "      <th>173</th>\n",
              "      <td>2020-06-21</td>\n",
              "      <td>49186.140287</td>\n",
              "      <td>48934.698315</td>\n",
              "      <td>49578.754853</td>\n",
              "      <td>49116.915885</td>\n",
              "      <td>49242.908534</td>\n",
              "      <td>66.133872</td>\n",
              "      <td>66.133872</td>\n",
              "      <td>66.133872</td>\n",
              "      <td>66.133872</td>\n",
              "      <td>66.133872</td>\n",
              "      <td>66.133872</td>\n",
              "      <td>0.0</td>\n",
              "      <td>0.0</td>\n",
              "      <td>0.0</td>\n",
              "      <td>49252.274159</td>\n",
              "    </tr>\n",
              "    <tr>\n",
              "      <th>174</th>\n",
              "      <td>2020-06-22</td>\n",
              "      <td>50156.388200</td>\n",
              "      <td>49764.117901</td>\n",
              "      <td>50426.662054</td>\n",
              "      <td>50020.550417</td>\n",
              "      <td>50264.532292</td>\n",
              "      <td>-42.431675</td>\n",
              "      <td>-42.431675</td>\n",
              "      <td>-42.431675</td>\n",
              "      <td>-42.431675</td>\n",
              "      <td>-42.431675</td>\n",
              "      <td>-42.431675</td>\n",
              "      <td>0.0</td>\n",
              "      <td>0.0</td>\n",
              "      <td>0.0</td>\n",
              "      <td>50113.956525</td>\n",
              "    </tr>\n",
              "    <tr>\n",
              "      <th>175</th>\n",
              "      <td>2020-06-23</td>\n",
              "      <td>51126.636113</td>\n",
              "      <td>50611.844094</td>\n",
              "      <td>51332.544791</td>\n",
              "      <td>50927.099321</td>\n",
              "      <td>51319.920638</td>\n",
              "      <td>-120.827840</td>\n",
              "      <td>-120.827840</td>\n",
              "      <td>-120.827840</td>\n",
              "      <td>-120.827840</td>\n",
              "      <td>-120.827840</td>\n",
              "      <td>-120.827840</td>\n",
              "      <td>0.0</td>\n",
              "      <td>0.0</td>\n",
              "      <td>0.0</td>\n",
              "      <td>51005.808273</td>\n",
              "    </tr>\n",
              "    <tr>\n",
              "      <th>176</th>\n",
              "      <td>2020-06-24</td>\n",
              "      <td>52096.884025</td>\n",
              "      <td>51668.862542</td>\n",
              "      <td>52456.921932</td>\n",
              "      <td>51825.209126</td>\n",
              "      <td>52373.049738</td>\n",
              "      <td>-51.983570</td>\n",
              "      <td>-51.983570</td>\n",
              "      <td>-51.983570</td>\n",
              "      <td>-51.983570</td>\n",
              "      <td>-51.983570</td>\n",
              "      <td>-51.983570</td>\n",
              "      <td>0.0</td>\n",
              "      <td>0.0</td>\n",
              "      <td>0.0</td>\n",
              "      <td>52044.900456</td>\n",
              "    </tr>\n",
              "    <tr>\n",
              "      <th>177</th>\n",
              "      <td>2020-06-25</td>\n",
              "      <td>53067.131938</td>\n",
              "      <td>52647.179427</td>\n",
              "      <td>53468.621604</td>\n",
              "      <td>52716.507022</td>\n",
              "      <td>53422.311094</td>\n",
              "      <td>0.076255</td>\n",
              "      <td>0.076255</td>\n",
              "      <td>0.076255</td>\n",
              "      <td>0.076255</td>\n",
              "      <td>0.076255</td>\n",
              "      <td>0.076255</td>\n",
              "      <td>0.0</td>\n",
              "      <td>0.0</td>\n",
              "      <td>0.0</td>\n",
              "      <td>53067.208194</td>\n",
              "    </tr>\n",
              "    <tr>\n",
              "      <th>178</th>\n",
              "      <td>2020-06-26</td>\n",
              "      <td>54037.379851</td>\n",
              "      <td>53567.626244</td>\n",
              "      <td>54631.853857</td>\n",
              "      <td>53610.379772</td>\n",
              "      <td>54504.366378</td>\n",
              "      <td>77.173236</td>\n",
              "      <td>77.173236</td>\n",
              "      <td>77.173236</td>\n",
              "      <td>77.173236</td>\n",
              "      <td>77.173236</td>\n",
              "      <td>77.173236</td>\n",
              "      <td>0.0</td>\n",
              "      <td>0.0</td>\n",
              "      <td>0.0</td>\n",
              "      <td>54114.553087</td>\n",
              "    </tr>\n",
              "    <tr>\n",
              "      <th>179</th>\n",
              "      <td>2020-06-27</td>\n",
              "      <td>55007.627764</td>\n",
              "      <td>54473.940703</td>\n",
              "      <td>55638.521457</td>\n",
              "      <td>54489.080370</td>\n",
              "      <td>55571.761347</td>\n",
              "      <td>71.859721</td>\n",
              "      <td>71.859721</td>\n",
              "      <td>71.859721</td>\n",
              "      <td>71.859721</td>\n",
              "      <td>71.859721</td>\n",
              "      <td>71.859721</td>\n",
              "      <td>0.0</td>\n",
              "      <td>0.0</td>\n",
              "      <td>0.0</td>\n",
              "      <td>55079.487485</td>\n",
              "    </tr>\n",
              "    <tr>\n",
              "      <th>180</th>\n",
              "      <td>2020-06-28</td>\n",
              "      <td>55977.875677</td>\n",
              "      <td>55338.365202</td>\n",
              "      <td>56706.185023</td>\n",
              "      <td>55334.333123</td>\n",
              "      <td>56649.097871</td>\n",
              "      <td>66.133872</td>\n",
              "      <td>66.133872</td>\n",
              "      <td>66.133872</td>\n",
              "      <td>66.133872</td>\n",
              "      <td>66.133872</td>\n",
              "      <td>66.133872</td>\n",
              "      <td>0.0</td>\n",
              "      <td>0.0</td>\n",
              "      <td>0.0</td>\n",
              "      <td>56044.009549</td>\n",
              "    </tr>\n",
              "    <tr>\n",
              "      <th>181</th>\n",
              "      <td>2020-06-29</td>\n",
              "      <td>56948.123590</td>\n",
              "      <td>56132.821302</td>\n",
              "      <td>57672.146701</td>\n",
              "      <td>56205.170579</td>\n",
              "      <td>57733.196538</td>\n",
              "      <td>-42.431675</td>\n",
              "      <td>-42.431675</td>\n",
              "      <td>-42.431675</td>\n",
              "      <td>-42.431675</td>\n",
              "      <td>-42.431675</td>\n",
              "      <td>-42.431675</td>\n",
              "      <td>0.0</td>\n",
              "      <td>0.0</td>\n",
              "      <td>0.0</td>\n",
              "      <td>56905.691915</td>\n",
              "    </tr>\n",
              "    <tr>\n",
              "      <th>182</th>\n",
              "      <td>2020-06-30</td>\n",
              "      <td>57918.371503</td>\n",
              "      <td>56845.581435</td>\n",
              "      <td>58742.525020</td>\n",
              "      <td>57016.188317</td>\n",
              "      <td>58790.128292</td>\n",
              "      <td>-120.827840</td>\n",
              "      <td>-120.827840</td>\n",
              "      <td>-120.827840</td>\n",
              "      <td>-120.827840</td>\n",
              "      <td>-120.827840</td>\n",
              "      <td>-120.827840</td>\n",
              "      <td>0.0</td>\n",
              "      <td>0.0</td>\n",
              "      <td>0.0</td>\n",
              "      <td>57797.543663</td>\n",
              "    </tr>\n",
              "    <tr>\n",
              "      <th>183</th>\n",
              "      <td>2020-07-01</td>\n",
              "      <td>58888.619415</td>\n",
              "      <td>57684.893206</td>\n",
              "      <td>59821.616015</td>\n",
              "      <td>57797.250362</td>\n",
              "      <td>59858.035506</td>\n",
              "      <td>-51.983570</td>\n",
              "      <td>-51.983570</td>\n",
              "      <td>-51.983570</td>\n",
              "      <td>-51.983570</td>\n",
              "      <td>-51.983570</td>\n",
              "      <td>-51.983570</td>\n",
              "      <td>0.0</td>\n",
              "      <td>0.0</td>\n",
              "      <td>0.0</td>\n",
              "      <td>58836.635846</td>\n",
              "    </tr>\n",
              "    <tr>\n",
              "      <th>184</th>\n",
              "      <td>2020-07-02</td>\n",
              "      <td>59858.867328</td>\n",
              "      <td>58656.698594</td>\n",
              "      <td>60983.443979</td>\n",
              "      <td>58644.365781</td>\n",
              "      <td>60945.424167</td>\n",
              "      <td>0.076255</td>\n",
              "      <td>0.076255</td>\n",
              "      <td>0.076255</td>\n",
              "      <td>0.076255</td>\n",
              "      <td>0.076255</td>\n",
              "      <td>0.076255</td>\n",
              "      <td>0.0</td>\n",
              "      <td>0.0</td>\n",
              "      <td>0.0</td>\n",
              "      <td>59858.943584</td>\n",
              "    </tr>\n",
              "    <tr>\n",
              "      <th>185</th>\n",
              "      <td>2020-07-03</td>\n",
              "      <td>60829.115241</td>\n",
              "      <td>59560.584367</td>\n",
              "      <td>62130.959755</td>\n",
              "      <td>59521.370879</td>\n",
              "      <td>62060.962449</td>\n",
              "      <td>77.173236</td>\n",
              "      <td>77.173236</td>\n",
              "      <td>77.173236</td>\n",
              "      <td>77.173236</td>\n",
              "      <td>77.173236</td>\n",
              "      <td>77.173236</td>\n",
              "      <td>0.0</td>\n",
              "      <td>0.0</td>\n",
              "      <td>0.0</td>\n",
              "      <td>60906.288477</td>\n",
              "    </tr>\n",
              "    <tr>\n",
              "      <th>186</th>\n",
              "      <td>2020-07-04</td>\n",
              "      <td>61799.363154</td>\n",
              "      <td>60276.066705</td>\n",
              "      <td>63272.443935</td>\n",
              "      <td>60372.930329</td>\n",
              "      <td>63145.108764</td>\n",
              "      <td>71.859721</td>\n",
              "      <td>71.859721</td>\n",
              "      <td>71.859721</td>\n",
              "      <td>71.859721</td>\n",
              "      <td>71.859721</td>\n",
              "      <td>71.859721</td>\n",
              "      <td>0.0</td>\n",
              "      <td>0.0</td>\n",
              "      <td>0.0</td>\n",
              "      <td>61871.222875</td>\n",
              "    </tr>\n",
              "    <tr>\n",
              "      <th>187</th>\n",
              "      <td>2020-07-05</td>\n",
              "      <td>62769.611067</td>\n",
              "      <td>61251.113111</td>\n",
              "      <td>64331.656401</td>\n",
              "      <td>61165.690662</td>\n",
              "      <td>64216.405043</td>\n",
              "      <td>66.133872</td>\n",
              "      <td>66.133872</td>\n",
              "      <td>66.133872</td>\n",
              "      <td>66.133872</td>\n",
              "      <td>66.133872</td>\n",
              "      <td>66.133872</td>\n",
              "      <td>0.0</td>\n",
              "      <td>0.0</td>\n",
              "      <td>0.0</td>\n",
              "      <td>62835.744939</td>\n",
              "    </tr>\n",
              "    <tr>\n",
              "      <th>188</th>\n",
              "      <td>2020-07-06</td>\n",
              "      <td>63739.858980</td>\n",
              "      <td>61910.029259</td>\n",
              "      <td>65347.017347</td>\n",
              "      <td>61968.656436</td>\n",
              "      <td>65357.657305</td>\n",
              "      <td>-42.431675</td>\n",
              "      <td>-42.431675</td>\n",
              "      <td>-42.431675</td>\n",
              "      <td>-42.431675</td>\n",
              "      <td>-42.431675</td>\n",
              "      <td>-42.431675</td>\n",
              "      <td>0.0</td>\n",
              "      <td>0.0</td>\n",
              "      <td>0.0</td>\n",
              "      <td>63697.427305</td>\n",
              "    </tr>\n",
              "    <tr>\n",
              "      <th>189</th>\n",
              "      <td>2020-07-07</td>\n",
              "      <td>64710.106892</td>\n",
              "      <td>62612.413564</td>\n",
              "      <td>66340.230579</td>\n",
              "      <td>62756.538794</td>\n",
              "      <td>66458.739590</td>\n",
              "      <td>-120.827840</td>\n",
              "      <td>-120.827840</td>\n",
              "      <td>-120.827840</td>\n",
              "      <td>-120.827840</td>\n",
              "      <td>-120.827840</td>\n",
              "      <td>-120.827840</td>\n",
              "      <td>0.0</td>\n",
              "      <td>0.0</td>\n",
              "      <td>0.0</td>\n",
              "      <td>64589.279053</td>\n",
              "    </tr>\n",
              "    <tr>\n",
              "      <th>190</th>\n",
              "      <td>2020-07-08</td>\n",
              "      <td>65680.354805</td>\n",
              "      <td>63558.285464</td>\n",
              "      <td>67559.595197</td>\n",
              "      <td>63616.003597</td>\n",
              "      <td>67584.771506</td>\n",
              "      <td>-51.983570</td>\n",
              "      <td>-51.983570</td>\n",
              "      <td>-51.983570</td>\n",
              "      <td>-51.983570</td>\n",
              "      <td>-51.983570</td>\n",
              "      <td>-51.983570</td>\n",
              "      <td>0.0</td>\n",
              "      <td>0.0</td>\n",
              "      <td>0.0</td>\n",
              "      <td>65628.371236</td>\n",
              "    </tr>\n",
              "    <tr>\n",
              "      <th>191</th>\n",
              "      <td>2020-07-09</td>\n",
              "      <td>66650.602718</td>\n",
              "      <td>64366.278780</td>\n",
              "      <td>68756.173029</td>\n",
              "      <td>64415.989782</td>\n",
              "      <td>68706.106279</td>\n",
              "      <td>0.076255</td>\n",
              "      <td>0.076255</td>\n",
              "      <td>0.076255</td>\n",
              "      <td>0.076255</td>\n",
              "      <td>0.076255</td>\n",
              "      <td>0.076255</td>\n",
              "      <td>0.0</td>\n",
              "      <td>0.0</td>\n",
              "      <td>0.0</td>\n",
              "      <td>66650.678973</td>\n",
              "    </tr>\n",
              "    <tr>\n",
              "      <th>192</th>\n",
              "      <td>2020-07-10</td>\n",
              "      <td>67620.850631</td>\n",
              "      <td>65225.764252</td>\n",
              "      <td>69834.919333</td>\n",
              "      <td>65187.455273</td>\n",
              "      <td>69825.988333</td>\n",
              "      <td>77.173236</td>\n",
              "      <td>77.173236</td>\n",
              "      <td>77.173236</td>\n",
              "      <td>77.173236</td>\n",
              "      <td>77.173236</td>\n",
              "      <td>77.173236</td>\n",
              "      <td>0.0</td>\n",
              "      <td>0.0</td>\n",
              "      <td>0.0</td>\n",
              "      <td>67698.023867</td>\n",
              "    </tr>\n",
              "    <tr>\n",
              "      <th>193</th>\n",
              "      <td>2020-07-11</td>\n",
              "      <td>68591.098544</td>\n",
              "      <td>65982.907618</td>\n",
              "      <td>71199.561879</td>\n",
              "      <td>65958.920764</td>\n",
              "      <td>70913.192497</td>\n",
              "      <td>71.859721</td>\n",
              "      <td>71.859721</td>\n",
              "      <td>71.859721</td>\n",
              "      <td>71.859721</td>\n",
              "      <td>71.859721</td>\n",
              "      <td>71.859721</td>\n",
              "      <td>0.0</td>\n",
              "      <td>0.0</td>\n",
              "      <td>0.0</td>\n",
              "      <td>68662.958265</td>\n",
              "    </tr>\n",
              "    <tr>\n",
              "      <th>194</th>\n",
              "      <td>2020-07-12</td>\n",
              "      <td>69561.346457</td>\n",
              "      <td>66777.878231</td>\n",
              "      <td>72104.668362</td>\n",
              "      <td>66784.903772</td>\n",
              "      <td>72126.251340</td>\n",
              "      <td>66.133872</td>\n",
              "      <td>66.133872</td>\n",
              "      <td>66.133872</td>\n",
              "      <td>66.133872</td>\n",
              "      <td>66.133872</td>\n",
              "      <td>66.133872</td>\n",
              "      <td>0.0</td>\n",
              "      <td>0.0</td>\n",
              "      <td>0.0</td>\n",
              "      <td>69627.480329</td>\n",
              "    </tr>\n",
              "    <tr>\n",
              "      <th>195</th>\n",
              "      <td>2020-07-13</td>\n",
              "      <td>70531.594370</td>\n",
              "      <td>67490.745423</td>\n",
              "      <td>73265.627079</td>\n",
              "      <td>67523.846080</td>\n",
              "      <td>73251.040075</td>\n",
              "      <td>-42.431675</td>\n",
              "      <td>-42.431675</td>\n",
              "      <td>-42.431675</td>\n",
              "      <td>-42.431675</td>\n",
              "      <td>-42.431675</td>\n",
              "      <td>-42.431675</td>\n",
              "      <td>0.0</td>\n",
              "      <td>0.0</td>\n",
              "      <td>0.0</td>\n",
              "      <td>70489.162695</td>\n",
              "    </tr>\n",
              "    <tr>\n",
              "      <th>196</th>\n",
              "      <td>2020-07-14</td>\n",
              "      <td>71501.842282</td>\n",
              "      <td>68180.012997</td>\n",
              "      <td>74315.012272</td>\n",
              "      <td>68329.152989</td>\n",
              "      <td>74400.756503</td>\n",
              "      <td>-120.827840</td>\n",
              "      <td>-120.827840</td>\n",
              "      <td>-120.827840</td>\n",
              "      <td>-120.827840</td>\n",
              "      <td>-120.827840</td>\n",
              "      <td>-120.827840</td>\n",
              "      <td>0.0</td>\n",
              "      <td>0.0</td>\n",
              "      <td>0.0</td>\n",
              "      <td>71381.014443</td>\n",
              "    </tr>\n",
              "    <tr>\n",
              "      <th>197</th>\n",
              "      <td>2020-07-15</td>\n",
              "      <td>72472.090195</td>\n",
              "      <td>69078.736049</td>\n",
              "      <td>75413.983567</td>\n",
              "      <td>69182.934132</td>\n",
              "      <td>75559.696582</td>\n",
              "      <td>-51.983570</td>\n",
              "      <td>-51.983570</td>\n",
              "      <td>-51.983570</td>\n",
              "      <td>-51.983570</td>\n",
              "      <td>-51.983570</td>\n",
              "      <td>-51.983570</td>\n",
              "      <td>0.0</td>\n",
              "      <td>0.0</td>\n",
              "      <td>0.0</td>\n",
              "      <td>72420.106625</td>\n",
              "    </tr>\n",
              "    <tr>\n",
              "      <th>198</th>\n",
              "      <td>2020-07-16</td>\n",
              "      <td>73442.338108</td>\n",
              "      <td>69849.690241</td>\n",
              "      <td>76707.659716</td>\n",
              "      <td>69916.456267</td>\n",
              "      <td>76734.393462</td>\n",
              "      <td>0.076255</td>\n",
              "      <td>0.076255</td>\n",
              "      <td>0.076255</td>\n",
              "      <td>0.076255</td>\n",
              "      <td>0.076255</td>\n",
              "      <td>0.076255</td>\n",
              "      <td>0.0</td>\n",
              "      <td>0.0</td>\n",
              "      <td>0.0</td>\n",
              "      <td>73442.414363</td>\n",
              "    </tr>\n",
              "    <tr>\n",
              "      <th>199</th>\n",
              "      <td>2020-07-17</td>\n",
              "      <td>74412.586021</td>\n",
              "      <td>70694.601533</td>\n",
              "      <td>77906.006031</td>\n",
              "      <td>70596.089169</td>\n",
              "      <td>77876.942355</td>\n",
              "      <td>77.173236</td>\n",
              "      <td>77.173236</td>\n",
              "      <td>77.173236</td>\n",
              "      <td>77.173236</td>\n",
              "      <td>77.173236</td>\n",
              "      <td>77.173236</td>\n",
              "      <td>0.0</td>\n",
              "      <td>0.0</td>\n",
              "      <td>0.0</td>\n",
              "      <td>74489.759257</td>\n",
              "    </tr>\n",
              "    <tr>\n",
              "      <th>200</th>\n",
              "      <td>2020-07-18</td>\n",
              "      <td>75382.833934</td>\n",
              "      <td>71545.590907</td>\n",
              "      <td>79097.055127</td>\n",
              "      <td>71418.182924</td>\n",
              "      <td>78997.409647</td>\n",
              "      <td>71.859721</td>\n",
              "      <td>71.859721</td>\n",
              "      <td>71.859721</td>\n",
              "      <td>71.859721</td>\n",
              "      <td>71.859721</td>\n",
              "      <td>71.859721</td>\n",
              "      <td>0.0</td>\n",
              "      <td>0.0</td>\n",
              "      <td>0.0</td>\n",
              "      <td>75454.693655</td>\n",
              "    </tr>\n",
              "    <tr>\n",
              "      <th>201</th>\n",
              "      <td>2020-07-19</td>\n",
              "      <td>76353.081847</td>\n",
              "      <td>72272.152299</td>\n",
              "      <td>80252.082283</td>\n",
              "      <td>72253.703959</td>\n",
              "      <td>80094.821700</td>\n",
              "      <td>66.133872</td>\n",
              "      <td>66.133872</td>\n",
              "      <td>66.133872</td>\n",
              "      <td>66.133872</td>\n",
              "      <td>66.133872</td>\n",
              "      <td>66.133872</td>\n",
              "      <td>0.0</td>\n",
              "      <td>0.0</td>\n",
              "      <td>0.0</td>\n",
              "      <td>76419.215719</td>\n",
              "    </tr>\n",
              "  </tbody>\n",
              "</table>\n",
              "</div>"
            ],
            "text/plain": [
              "            ds         trend  ...  multiplicative_terms_upper          yhat\n",
              "172 2020-06-20  48215.892374  ...                         0.0  48287.752095\n",
              "173 2020-06-21  49186.140287  ...                         0.0  49252.274159\n",
              "174 2020-06-22  50156.388200  ...                         0.0  50113.956525\n",
              "175 2020-06-23  51126.636113  ...                         0.0  51005.808273\n",
              "176 2020-06-24  52096.884025  ...                         0.0  52044.900456\n",
              "177 2020-06-25  53067.131938  ...                         0.0  53067.208194\n",
              "178 2020-06-26  54037.379851  ...                         0.0  54114.553087\n",
              "179 2020-06-27  55007.627764  ...                         0.0  55079.487485\n",
              "180 2020-06-28  55977.875677  ...                         0.0  56044.009549\n",
              "181 2020-06-29  56948.123590  ...                         0.0  56905.691915\n",
              "182 2020-06-30  57918.371503  ...                         0.0  57797.543663\n",
              "183 2020-07-01  58888.619415  ...                         0.0  58836.635846\n",
              "184 2020-07-02  59858.867328  ...                         0.0  59858.943584\n",
              "185 2020-07-03  60829.115241  ...                         0.0  60906.288477\n",
              "186 2020-07-04  61799.363154  ...                         0.0  61871.222875\n",
              "187 2020-07-05  62769.611067  ...                         0.0  62835.744939\n",
              "188 2020-07-06  63739.858980  ...                         0.0  63697.427305\n",
              "189 2020-07-07  64710.106892  ...                         0.0  64589.279053\n",
              "190 2020-07-08  65680.354805  ...                         0.0  65628.371236\n",
              "191 2020-07-09  66650.602718  ...                         0.0  66650.678973\n",
              "192 2020-07-10  67620.850631  ...                         0.0  67698.023867\n",
              "193 2020-07-11  68591.098544  ...                         0.0  68662.958265\n",
              "194 2020-07-12  69561.346457  ...                         0.0  69627.480329\n",
              "195 2020-07-13  70531.594370  ...                         0.0  70489.162695\n",
              "196 2020-07-14  71501.842282  ...                         0.0  71381.014443\n",
              "197 2020-07-15  72472.090195  ...                         0.0  72420.106625\n",
              "198 2020-07-16  73442.338108  ...                         0.0  73442.414363\n",
              "199 2020-07-17  74412.586021  ...                         0.0  74489.759257\n",
              "200 2020-07-18  75382.833934  ...                         0.0  75454.693655\n",
              "201 2020-07-19  76353.081847  ...                         0.0  76419.215719\n",
              "\n",
              "[30 rows x 16 columns]"
            ]
          },
          "metadata": {
            "tags": []
          },
          "execution_count": 76
        }
      ]
    },
    {
      "cell_type": "markdown",
      "metadata": {
        "id": "SGqnQY2jSSXw",
        "colab_type": "text"
      },
      "source": [
        "As variáveis mais importantes para nós, neste momento, são:\n",
        "\n",
        "*   **ds** (dias)\n",
        "*   **yhat_lower** (previsão do número mínimo de mortes)\n",
        "*   **yhat_upper** (previsão do número máximo de mortes)\n",
        "*   **yhat** (previsão do número médio de mortes)\n",
        "\n",
        "A partir dessas variáveis, podemos gerar os gráficos para enterdermos a previsão feita pelo Prophet.\n",
        "\n",
        "Assim, devemos gerar um novo dataframe com essas variáveis e plotar um gráfico."
      ]
    },
    {
      "cell_type": "code",
      "metadata": {
        "id": "3Yq_Hf2BSMB1",
        "colab_type": "code",
        "colab": {
          "base_uri": "https://localhost:8080/",
          "height": 266
        },
        "outputId": "a3be27d2-e4c4-455d-e371-299a52eb32f1"
      },
      "source": [
        "# DATAFRAME - PREVISÃO\n",
        "\n",
        "previsao_prophet = previsao_mortes[['ds','yhat_lower','yhat','yhat_upper']]\n",
        "previsao_prophet.tail(7)"
      ],
      "execution_count": null,
      "outputs": [
        {
          "output_type": "execute_result",
          "data": {
            "text/html": [
              "<div>\n",
              "<style scoped>\n",
              "    .dataframe tbody tr th:only-of-type {\n",
              "        vertical-align: middle;\n",
              "    }\n",
              "\n",
              "    .dataframe tbody tr th {\n",
              "        vertical-align: top;\n",
              "    }\n",
              "\n",
              "    .dataframe thead th {\n",
              "        text-align: right;\n",
              "    }\n",
              "</style>\n",
              "<table border=\"1\" class=\"dataframe\">\n",
              "  <thead>\n",
              "    <tr style=\"text-align: right;\">\n",
              "      <th></th>\n",
              "      <th>ds</th>\n",
              "      <th>yhat_lower</th>\n",
              "      <th>yhat</th>\n",
              "      <th>yhat_upper</th>\n",
              "    </tr>\n",
              "  </thead>\n",
              "  <tbody>\n",
              "    <tr>\n",
              "      <th>195</th>\n",
              "      <td>2020-07-13</td>\n",
              "      <td>67490.745423</td>\n",
              "      <td>70489.162695</td>\n",
              "      <td>73265.627079</td>\n",
              "    </tr>\n",
              "    <tr>\n",
              "      <th>196</th>\n",
              "      <td>2020-07-14</td>\n",
              "      <td>68180.012997</td>\n",
              "      <td>71381.014443</td>\n",
              "      <td>74315.012272</td>\n",
              "    </tr>\n",
              "    <tr>\n",
              "      <th>197</th>\n",
              "      <td>2020-07-15</td>\n",
              "      <td>69078.736049</td>\n",
              "      <td>72420.106625</td>\n",
              "      <td>75413.983567</td>\n",
              "    </tr>\n",
              "    <tr>\n",
              "      <th>198</th>\n",
              "      <td>2020-07-16</td>\n",
              "      <td>69849.690241</td>\n",
              "      <td>73442.414363</td>\n",
              "      <td>76707.659716</td>\n",
              "    </tr>\n",
              "    <tr>\n",
              "      <th>199</th>\n",
              "      <td>2020-07-17</td>\n",
              "      <td>70694.601533</td>\n",
              "      <td>74489.759257</td>\n",
              "      <td>77906.006031</td>\n",
              "    </tr>\n",
              "    <tr>\n",
              "      <th>200</th>\n",
              "      <td>2020-07-18</td>\n",
              "      <td>71545.590907</td>\n",
              "      <td>75454.693655</td>\n",
              "      <td>79097.055127</td>\n",
              "    </tr>\n",
              "    <tr>\n",
              "      <th>201</th>\n",
              "      <td>2020-07-19</td>\n",
              "      <td>72272.152299</td>\n",
              "      <td>76419.215719</td>\n",
              "      <td>80252.082283</td>\n",
              "    </tr>\n",
              "  </tbody>\n",
              "</table>\n",
              "</div>"
            ],
            "text/plain": [
              "            ds    yhat_lower          yhat    yhat_upper\n",
              "195 2020-07-13  67490.745423  70489.162695  73265.627079\n",
              "196 2020-07-14  68180.012997  71381.014443  74315.012272\n",
              "197 2020-07-15  69078.736049  72420.106625  75413.983567\n",
              "198 2020-07-16  69849.690241  73442.414363  76707.659716\n",
              "199 2020-07-17  70694.601533  74489.759257  77906.006031\n",
              "200 2020-07-18  71545.590907  75454.693655  79097.055127\n",
              "201 2020-07-19  72272.152299  76419.215719  80252.082283"
            ]
          },
          "metadata": {
            "tags": []
          },
          "execution_count": 77
        }
      ]
    },
    {
      "cell_type": "markdown",
      "metadata": {
        "id": "ASwdQd5uSZzs",
        "colab_type": "text"
      },
      "source": [
        "### **PLOTANDO O GRÁFICO COM AS PREVISÕES**"
      ]
    },
    {
      "cell_type": "code",
      "metadata": {
        "id": "4JAMyCZPSWN8",
        "colab_type": "code",
        "colab": {
          "base_uri": "https://localhost:8080/",
          "height": 441
        },
        "outputId": "43aa2cf6-e490-4e10-c4ca-72f40e6ea90a"
      },
      "source": [
        "# PREVISÃO PARA 15 DIAS\n",
        "\n",
        "confirmed_forecast_plot = m.plot(previsao_prophet, xlabel = 'DATA', ylabel = 'MORTES')"
      ],
      "execution_count": null,
      "outputs": [
        {
          "output_type": "display_data",
          "data": {
            "image/png": "[encoded data removed]",
            "text/plain": [
              "<Figure size 720x432 with 1 Axes>"
            ]
          },
          "metadata": {
            "tags": []
          }
        }
      ]
    },
    {
      "cell_type": "markdown",
      "metadata": {
        "id": "Q7SQxcGYSyAC",
        "colab_type": "text"
      },
      "source": [
        "O gráfico gerado acima nos mostra os dados atuais (bolinhas pretas), a previsão do Prophet (linha azul) e a margem para mínimo e máximo (faixa azul claro)."
      ]
    },
    {
      "cell_type": "markdown",
      "metadata": {
        "id": "XsiEAFdJTWzH",
        "colab_type": "text"
      },
      "source": [
        "### **CONCLUSÕES**"
      ]
    },
    {
      "cell_type": "markdown",
      "metadata": {
        "id": "8OaSvIJ2T_6O",
        "colab_type": "text"
      },
      "source": [
        "Uma rápida análise dos dados da COVID-19 nos mostra números realmente assustadores. Atualmente, o mundo registra pouco mais de **8 milhões** de infectados. Onde os 5 países com mais infectados são:\n",
        "\n",
        "País | Número de Infectados\n",
        "--|--\n",
        "Estados Unidos | **2.191.052**\n",
        "Brasil |\t**978.142**\n",
        "Rússia | **561.091**\n",
        "Índia\t| **380.532**\n",
        "Reino Unido\t| **300.469**\n",
        "\n",
        "Já os números de mortes por COVID-19 se apresentam da seguinte forma:\n",
        "\n",
        "País | Número de Mortes\n",
        "--|--\n",
        "Estados Unidos | **118.434**\n",
        "Brasil | **47.748**\n",
        "Reino Unido | **42.288**\n",
        "Itália | **34.514**\n",
        "França | **29.603**\n",
        "\n",
        "Apesar de muitos países já estarem aliviando suas medidas de isolamento e voltando a normalidade nas suas atividades, em decorrência do , alguns países, como o EUA e o Brasil, estão com seus números de infectados em constante crescimento.\n",
        "\n",
        "Os dados mostram que os países que não aplicaram as medidas de isolamento com rigidez ou demoraram a tomar iniciativas para conter o avanço da COVID-19, atualmente, são os mais atingidos.\n",
        "\n",
        "\n",
        "**Predição usando o Prophet**\n",
        "\n",
        "Podemos concluir que o Prophet conseguiu prever de maneira precisa o comportamento das mortes no Brasil até o dia atual. Com isso, podemos esperar que o número de mortes que deverá ocorrer país até o dia 19-07-2020 esteja dentro da faixa da previsão do modelo.\n",
        "\n",
        "De acordo com o modelo, a previsão do número de mortes até o dia **19-07-2020** poderá ser:\n",
        "\n",
        "* Número mínimo de mortes: **72.272**\n",
        "* Número médio de mortes: **76.419**\n",
        "* Número máximo de mortes: **80.252**\n",
        "\n",
        "Com isso, percebemos que os prováveis cenários para o número de mortes total no Brasil ainda é bem preocupante. Desta forma, devemos seguir as recomendações dos órgãos de saúde, da maneria mais rigorosa possível, para evitar que esses números cresçam.\n",
        "\n",
        "A Ciência de Dados é uma poderosa aliada na guerra contra a COVID-19 e alguns experimentos já mostram a eficácia de algoritmos de Machine Learning e Deep Learning desenvolvidos ao longo dessa pandemia."
      ]
    },
    {
      "cell_type": "code",
      "metadata": {
        "id": "klnPafEa6mY2",
        "colab_type": "code",
        "colab": {}
      },
      "source": [
        ""
      ],
      "execution_count": null,
      "outputs": []
    }
  ]
}