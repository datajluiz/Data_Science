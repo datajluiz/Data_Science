{
  "nbformat": 4,
  "nbformat_minor": 0,
  "metadata": {
    "colab": {
      "name": "Estudo de Caso: COVID-19 no Brasil.ipynb",
      "provenance": [],
      "authorship_tag": "ABX9TyPzXbchgw9zsgsSZjeU5pDE",
      "include_colab_link": true
    },
    "kernelspec": {
      "name": "python3",
      "display_name": "Python 3"
    },
    "accelerator": "GPU"
  },
  "cells": [
    {
      "cell_type": "markdown",
      "metadata": {
        "id": "view-in-github",
        "colab_type": "text"
      },
      "source": [
        "<a href=\"https://colab.research.google.com/github/jeffersonverissimo/Data_Science/blob/master/Estudo_de_Caso_COVID_19_no_Brasil.ipynb\" target=\"_parent\"><img src=\"https://colab.research.google.com/assets/colab-badge.svg\" alt=\"Open In Colab\"/></a>"
      ]
    },
    {
      "cell_type": "markdown",
      "metadata": {
        "id": "oUPDzM-36sTe",
        "colab_type": "text"
      },
      "source": [
        "Projeto by [Jefferson Veríssimo](https://www.linkedin.com/in/jefferson-verissimo/)\n",
        "\n",
        "O estudo desenvolvido no presente projeto baseia-se nas aulas do curso **Data Science na Prática 2.0** da [Sigmoidal](https://sigmoidal.ai), ministrado pelo professor [Carlos Melo](https://www.linkedin.com/in/carlosfab/?lipi=urn%3Ali%3Apage%3Ad_flagship3_pulse_read%3BNu4sRrmMTYaLBGQSefJnFQ%3D%3D&)."
      ]
    },
    {
      "cell_type": "markdown",
      "metadata": {
        "id": "V9cnz7qU2-JQ",
        "colab_type": "text"
      },
      "source": [
        "![alt text](https://cdn.pixabay.com/photo/2016/11/09/16/24/virus-1812092_960_720.jpg)"
      ]
    },
    {
      "cell_type": "markdown",
      "metadata": {
        "id": "w2gkXaC52XSD",
        "colab_type": "text"
      },
      "source": [
        "---\n",
        "# **ANÁLISES EXPLORATÓRIA E PREDITIVA DOS CASOS DE COVID-19 NO BRASIL**\n",
        "\n",
        "---\n",
        "---\n",
        "\n",
        ">**A origem do Coronavírus**\n",
        "\n",
        "Os coronavírus são uma grande família viral, que vem sendo estudada desde a década de 1960, que causam vários tipos doenças infecciosas em animais silvestres, animais de criação e animais de estimação. E os mais recentes hospedeiros, os seres humanos.\n",
        "\n",
        "Segundo o Ministério da Saúde, os primeiros coronavírus humanos foram isolados pela primeira vez em 1937. No entanto, foi em 1965 que o vírus foi descrito como coronavírus, em decorrência do perfil na microscopia, parecendo uma coroa.\n",
        "\n",
        ">**Manifestações Clínicas**\n",
        "\n",
        "Geralmente, em humanos, vários coronavírus causam doenças respiratórias leves ou moderadas, semelhantes a um resfriado comum. Os sintomas podem envolver coriza, tosse, dor de garganta e febre. Contudo, em alguns casos, as pessoas podem desenvolver infecções nas vias respiratórias inferiores, como pneumonia ou doenças mais graves, como a Síndrome Respiratória do Oriente Médio (MERS-CoV) e a Síndrome Respiratória Aguda Grave (SARS-CoV). O coronavírus recentemente descoberto é o causador da doença COVID-19.\n",
        "\n",
        ">**O que é a COVID-19? Quais os seus sintomas?**\n",
        "\n",
        "É uma doença infecciosa causada pelo novo coronavírus, descoberto recentemente a paritr do início do surto em Wuhan, capital e maior cidade da província de Hubei, na China, em dezembro de 2019.\n",
        "\n",
        "De acordo com a Organização Mundial da Saúde, os sintomas mais comuns da COVID-19 são febre, cansaço e tosse seca. Sendo que alguns pacientes podem apresentar dores, congestão nasal, dor de garganta e diarreia. As pessoas idosas e as que têm doenças crônicas, como hipertensão ou problemas cardíacos e diabetes, possuem maior probabilidade de desenvolver doenças graves.\n",
        "\n",
        ">**Panorama da COVID-19 no Brasil**\n",
        "\n",
        "A pandemia do coronavírus teve início oficial no Brasil em 26 de feveriro de 2020, quando o primeiro caso de infecção foi confirmado pelo Ministério da Saúde. O paciente foi um homem de 61 anos que viajou à Itália, e deu entrada no Hospital Albert Einstein no dia anterior. \n",
        "À essa altura, os casos de COVID-19 estavam avançados no restante do mundo, especialmente nos países eupopeus e asiáticos.\n",
        "Cerca de um mês depois, o Brasil já registrava mais de 2,4 mil casos de infecção e 57 mortes.\n",
        "\n",
        "Atualmente (junho de 2020), o país registra o segundo maior número de casos de COVID-19 no mundo, atrás apenas dos EUA.\n",
        "\n",
        "---"
      ]
    },
    {
      "cell_type": "markdown",
      "metadata": {
        "id": "378aqsuwBvws",
        "colab_type": "text"
      },
      "source": [
        "### **AQUISIÇÃO DOS DADOS**\n",
        "\n",
        ">**PROPOSTA DESTE ARTIGO**\n",
        "\n",
        "Atualmente, o país infrenta um problema acerca dos dados relacionados à pandemia, havendo conflitos entre os dados divulgados pelo Ministério da Saúde e governos estaduais. Dificultando ainda mais as análises desses dados, na tentativa de modelar e entender o atual cenário enfrentado pelo Brasil.\n",
        "\n",
        "Este *notebook* apresenta análises exploratória e preditiva baseada nos dados epidemiológicos do coronavírus disponibilizados pela ***Our World in Data*** através do seu [repositório no *GitHub*](https://github.com/owid/covid-19-data/tree/master/public/data). A partir de técnicas de previsão de séries temporais, é apresentada uma previsão do comportamento da pandemia da COVID-19 no Brasil.\n",
        "\n",
        "Outras bases de dados que podem ser utilizadas para o estudo da COVID-19:\n",
        "\n",
        "*   [Ministério da Saúde](https://covid.saude.gov.br)\n",
        "*   [Johns Hopkins University](https://github.com/CSSEGISandData/COVID-19)\n",
        "*   [Brasil.io](https://brasil.io/home/)\n",
        "\n",
        "\n",
        ">**Metodologia**\n",
        "\n",
        "A **análise preditiva** deste projeto foi realizada utilizando uma ferramenta *open source* desenvolvida pelo Facebook, o **Prophet**, *framework* de *forecasting* para séries temporais, que nos permite fazer previsões a partir de um determinado conjunto de dados. \n",
        "\n",
        "<center><img alt=\"Analisando Airbnb\" width=\"15%\" src=\"https://nextjournal.com/data/QmQfcfJDCwjxdNPMRTJZGbS8duREqmNXM7mVhXYcr3KPGE?content-type=image%2Fpng&filename=prophet-logo.png\"></center>\n",
        "\n",
        "\n",
        "Você pode conferir os detalhes sobre esta ferramenta neste [link](https://facebook.github.io/prophet/).\n",
        "\n",
        "---\n"
      ]
    },
    {
      "cell_type": "markdown",
      "metadata": {
        "id": "zK5nu4uGQ-xi",
        "colab_type": "text"
      },
      "source": [
        "### **ANÁLISE EXPLORATÓRIA INICIAL**\n",
        "\n",
        "Para esta análise exploratória inicial, será utilizado apenas o seguinte arquivo:\n",
        "\n",
        "*   `owid-covid-data.csv`\n",
        "\n",
        "O conjunto de dados usado neste projeto contém atualizações até o dia xx de junho de 2020, e pode ser acessado através deste [link](https://github.com/jeffersonverissimo/datasets)."
      ]
    },
    {
      "cell_type": "code",
      "metadata": {
        "id": "QwPQB5jX1_uA",
        "colab_type": "code",
        "colab": {}
      },
      "source": [
        "# IMPORTAÇÃO DAS BIBLIOTECAS NECESSÁRIAS PARA REALIZAR AS ANÁLISES\n",
        "\n",
        "import pandas as pd\n",
        "import numpy as np\n",
        "import matplotlib.pyplot as plt\n",
        "%matplotlib inline\n",
        "\n",
        "from fbprophet import Prophet"
      ],
      "execution_count": null,
      "outputs": []
    },
    {
      "cell_type": "code",
      "metadata": {
        "id": "Q_P0JZfISW0E",
        "colab_type": "code",
        "colab": {}
      },
      "source": [
        "# IMPORTAÇÃO DOS CONJUNTOS DE DADOS A SEREM ANALISADOS\n",
        "\n",
        "# Obs.: O dataset utilizado contém dados sobre a COVID-19 a nível global.\n",
        "\n",
        "df_global = pd.read_csv('https://raw.githubusercontent.com/owid/covid-19-data/master/public/data/owid-covid-data.csv')"
      ],
      "execution_count": null,
      "outputs": []
    },
    {
      "cell_type": "code",
      "metadata": {
        "id": "tAxJtG2ETs8-",
        "colab_type": "code",
        "colab": {
          "base_uri": "https://localhost:8080/",
          "height": 309
        },
        "outputId": "fb2939bd-928d-4feb-d580-ad026dccb037"
      },
      "source": [
        "# VISUALIZAÇÃO DAS 5 PRIMEIRAS LINHAS DO DATASET\n",
        "\n",
        "df_global.head()"
      ],
      "execution_count": null,
      "outputs": [
        {
          "output_type": "execute_result",
          "data": {
            "text/html": [
              "<div>\n",
              "<style scoped>\n",
              "    .dataframe tbody tr th:only-of-type {\n",
              "        vertical-align: middle;\n",
              "    }\n",
              "\n",
              "    .dataframe tbody tr th {\n",
              "        vertical-align: top;\n",
              "    }\n",
              "\n",
              "    .dataframe thead th {\n",
              "        text-align: right;\n",
              "    }\n",
              "</style>\n",
              "<table border=\"1\" class=\"dataframe\">\n",
              "  <thead>\n",
              "    <tr style=\"text-align: right;\">\n",
              "      <th></th>\n",
              "      <th>iso_code</th>\n",
              "      <th>continent</th>\n",
              "      <th>location</th>\n",
              "      <th>date</th>\n",
              "      <th>total_cases</th>\n",
              "      <th>new_cases</th>\n",
              "      <th>total_deaths</th>\n",
              "      <th>new_deaths</th>\n",
              "      <th>total_cases_per_million</th>\n",
              "      <th>new_cases_per_million</th>\n",
              "      <th>total_deaths_per_million</th>\n",
              "      <th>new_deaths_per_million</th>\n",
              "      <th>total_tests</th>\n",
              "      <th>new_tests</th>\n",
              "      <th>total_tests_per_thousand</th>\n",
              "      <th>new_tests_per_thousand</th>\n",
              "      <th>new_tests_smoothed</th>\n",
              "      <th>new_tests_smoothed_per_thousand</th>\n",
              "      <th>tests_units</th>\n",
              "      <th>stringency_index</th>\n",
              "      <th>population</th>\n",
              "      <th>population_density</th>\n",
              "      <th>median_age</th>\n",
              "      <th>aged_65_older</th>\n",
              "      <th>aged_70_older</th>\n",
              "      <th>gdp_per_capita</th>\n",
              "      <th>extreme_poverty</th>\n",
              "      <th>cvd_death_rate</th>\n",
              "      <th>diabetes_prevalence</th>\n",
              "      <th>female_smokers</th>\n",
              "      <th>male_smokers</th>\n",
              "      <th>handwashing_facilities</th>\n",
              "      <th>hospital_beds_per_thousand</th>\n",
              "      <th>life_expectancy</th>\n",
              "    </tr>\n",
              "  </thead>\n",
              "  <tbody>\n",
              "    <tr>\n",
              "      <th>0</th>\n",
              "      <td>AFG</td>\n",
              "      <td>Asia</td>\n",
              "      <td>Afghanistan</td>\n",
              "      <td>2019-12-31</td>\n",
              "      <td>0.0</td>\n",
              "      <td>0.0</td>\n",
              "      <td>0.0</td>\n",
              "      <td>0.0</td>\n",
              "      <td>0.0</td>\n",
              "      <td>0.0</td>\n",
              "      <td>0.0</td>\n",
              "      <td>0.0</td>\n",
              "      <td>NaN</td>\n",
              "      <td>NaN</td>\n",
              "      <td>NaN</td>\n",
              "      <td>NaN</td>\n",
              "      <td>NaN</td>\n",
              "      <td>NaN</td>\n",
              "      <td>NaN</td>\n",
              "      <td>NaN</td>\n",
              "      <td>38928341</td>\n",
              "      <td>54.422</td>\n",
              "      <td>18.6</td>\n",
              "      <td>2.581</td>\n",
              "      <td>1.337</td>\n",
              "      <td>1803.987</td>\n",
              "      <td>NaN</td>\n",
              "      <td>597.029</td>\n",
              "      <td>9.59</td>\n",
              "      <td>NaN</td>\n",
              "      <td>NaN</td>\n",
              "      <td>37.746</td>\n",
              "      <td>0.5</td>\n",
              "      <td>64.83</td>\n",
              "    </tr>\n",
              "    <tr>\n",
              "      <th>1</th>\n",
              "      <td>AFG</td>\n",
              "      <td>Asia</td>\n",
              "      <td>Afghanistan</td>\n",
              "      <td>2020-01-01</td>\n",
              "      <td>0.0</td>\n",
              "      <td>0.0</td>\n",
              "      <td>0.0</td>\n",
              "      <td>0.0</td>\n",
              "      <td>0.0</td>\n",
              "      <td>0.0</td>\n",
              "      <td>0.0</td>\n",
              "      <td>0.0</td>\n",
              "      <td>NaN</td>\n",
              "      <td>NaN</td>\n",
              "      <td>NaN</td>\n",
              "      <td>NaN</td>\n",
              "      <td>NaN</td>\n",
              "      <td>NaN</td>\n",
              "      <td>NaN</td>\n",
              "      <td>0.0</td>\n",
              "      <td>38928341</td>\n",
              "      <td>54.422</td>\n",
              "      <td>18.6</td>\n",
              "      <td>2.581</td>\n",
              "      <td>1.337</td>\n",
              "      <td>1803.987</td>\n",
              "      <td>NaN</td>\n",
              "      <td>597.029</td>\n",
              "      <td>9.59</td>\n",
              "      <td>NaN</td>\n",
              "      <td>NaN</td>\n",
              "      <td>37.746</td>\n",
              "      <td>0.5</td>\n",
              "      <td>64.83</td>\n",
              "    </tr>\n",
              "    <tr>\n",
              "      <th>2</th>\n",
              "      <td>AFG</td>\n",
              "      <td>Asia</td>\n",
              "      <td>Afghanistan</td>\n",
              "      <td>2020-01-02</td>\n",
              "      <td>0.0</td>\n",
              "      <td>0.0</td>\n",
              "      <td>0.0</td>\n",
              "      <td>0.0</td>\n",
              "      <td>0.0</td>\n",
              "      <td>0.0</td>\n",
              "      <td>0.0</td>\n",
              "      <td>0.0</td>\n",
              "      <td>NaN</td>\n",
              "      <td>NaN</td>\n",
              "      <td>NaN</td>\n",
              "      <td>NaN</td>\n",
              "      <td>NaN</td>\n",
              "      <td>NaN</td>\n",
              "      <td>NaN</td>\n",
              "      <td>0.0</td>\n",
              "      <td>38928341</td>\n",
              "      <td>54.422</td>\n",
              "      <td>18.6</td>\n",
              "      <td>2.581</td>\n",
              "      <td>1.337</td>\n",
              "      <td>1803.987</td>\n",
              "      <td>NaN</td>\n",
              "      <td>597.029</td>\n",
              "      <td>9.59</td>\n",
              "      <td>NaN</td>\n",
              "      <td>NaN</td>\n",
              "      <td>37.746</td>\n",
              "      <td>0.5</td>\n",
              "      <td>64.83</td>\n",
              "    </tr>\n",
              "    <tr>\n",
              "      <th>3</th>\n",
              "      <td>AFG</td>\n",
              "      <td>Asia</td>\n",
              "      <td>Afghanistan</td>\n",
              "      <td>2020-01-03</td>\n",
              "      <td>0.0</td>\n",
              "      <td>0.0</td>\n",
              "      <td>0.0</td>\n",
              "      <td>0.0</td>\n",
              "      <td>0.0</td>\n",
              "      <td>0.0</td>\n",
              "      <td>0.0</td>\n",
              "      <td>0.0</td>\n",
              "      <td>NaN</td>\n",
              "      <td>NaN</td>\n",
              "      <td>NaN</td>\n",
              "      <td>NaN</td>\n",
              "      <td>NaN</td>\n",
              "      <td>NaN</td>\n",
              "      <td>NaN</td>\n",
              "      <td>0.0</td>\n",
              "      <td>38928341</td>\n",
              "      <td>54.422</td>\n",
              "      <td>18.6</td>\n",
              "      <td>2.581</td>\n",
              "      <td>1.337</td>\n",
              "      <td>1803.987</td>\n",
              "      <td>NaN</td>\n",
              "      <td>597.029</td>\n",
              "      <td>9.59</td>\n",
              "      <td>NaN</td>\n",
              "      <td>NaN</td>\n",
              "      <td>37.746</td>\n",
              "      <td>0.5</td>\n",
              "      <td>64.83</td>\n",
              "    </tr>\n",
              "    <tr>\n",
              "      <th>4</th>\n",
              "      <td>AFG</td>\n",
              "      <td>Asia</td>\n",
              "      <td>Afghanistan</td>\n",
              "      <td>2020-01-04</td>\n",
              "      <td>0.0</td>\n",
              "      <td>0.0</td>\n",
              "      <td>0.0</td>\n",
              "      <td>0.0</td>\n",
              "      <td>0.0</td>\n",
              "      <td>0.0</td>\n",
              "      <td>0.0</td>\n",
              "      <td>0.0</td>\n",
              "      <td>NaN</td>\n",
              "      <td>NaN</td>\n",
              "      <td>NaN</td>\n",
              "      <td>NaN</td>\n",
              "      <td>NaN</td>\n",
              "      <td>NaN</td>\n",
              "      <td>NaN</td>\n",
              "      <td>0.0</td>\n",
              "      <td>38928341</td>\n",
              "      <td>54.422</td>\n",
              "      <td>18.6</td>\n",
              "      <td>2.581</td>\n",
              "      <td>1.337</td>\n",
              "      <td>1803.987</td>\n",
              "      <td>NaN</td>\n",
              "      <td>597.029</td>\n",
              "      <td>9.59</td>\n",
              "      <td>NaN</td>\n",
              "      <td>NaN</td>\n",
              "      <td>37.746</td>\n",
              "      <td>0.5</td>\n",
              "      <td>64.83</td>\n",
              "    </tr>\n",
              "  </tbody>\n",
              "</table>\n",
              "</div>"
            ],
            "text/plain": [
              "  iso_code continent  ... hospital_beds_per_thousand life_expectancy\n",
              "0      AFG      Asia  ...                        0.5           64.83\n",
              "1      AFG      Asia  ...                        0.5           64.83\n",
              "2      AFG      Asia  ...                        0.5           64.83\n",
              "3      AFG      Asia  ...                        0.5           64.83\n",
              "4      AFG      Asia  ...                        0.5           64.83\n",
              "\n",
              "[5 rows x 34 columns]"
            ]
          },
          "metadata": {
            "tags": []
          },
          "execution_count": 153
        }
      ]
    },
    {
      "cell_type": "markdown",
      "metadata": {
        "id": "vt9qkF8DhASm",
        "colab_type": "text"
      },
      "source": [
        "**Para auxiliar no entendimento do conjunto de dados, abaixo é mostrada uma tabela que descreve com detalhes as variáveis presentes:**"
      ]
    },
    {
      "cell_type": "markdown",
      "metadata": {
        "id": "E8xX8oQyYFj0",
        "colab_type": "text"
      },
      "source": [
        "**VARIÁVEL** | **DESCRIÇÃO**\n",
        "--- | ---\n",
        "iso_code | ISO 3166-1 alfa-3 - códigos de países com três letras\n",
        "continent | Continente da localização geográfica\n",
        "location | Localização geográfica\n",
        "date | Data de observação\n",
        "total_cases | Total de casos confirmados de COVID-19\n",
        "new_cases | Novos casos confirmados de COVID-19\n",
        "total_deaths | Total de mortes atribuídas ao COVID-19\n",
        "new_deaths | Novas mortes atribuídas ao COVID-19\n",
        "total_cases_per_million | Total de casos confirmados de COVID-19 por 1 milhão de pessoas\n",
        "new_cases_per_million | Novos casos confirmados de COVID-19 por 1 milhão de pessoas\n",
        "total_deaths_per_million | Total de mortes atribuídas ao COVID-19 por 1 milhão de pessoas\n",
        "new_deaths_per_million | Novas mortes atribuídas ao COVID-19 por 1 milhão de pessoas\n",
        "total_tests\t| Total de testes para COVID-19\n",
        "new_tests\t| Novos testes para a COVID-19\n",
        "total_tests_per_thousand | Total de testes para COVID-19 por 1.000 pessoas\n",
        "new_tests_per_thousand\t| Total de novos testes para COVID-19 por 1.000 pessoas\n",
        "new_tests_smoothed\t| Novos testes para COVID-19 (Para países que não relatam dados de teste diariamente)\n",
        "new_tests_smoothed_per_thousand\t| Novos testes para COVID-19 (7 dias regularizados) por 1.000 pessoas\n",
        "tests_units\t| Unidades usadas pelo local para relatar seus dados de teste\n",
        "stringency_index\t| Índice de Rigidez da Resposta do Governo: ex: fechamento de escolas. Para um valor de 0 a 100 (100 = resposta mais estrita)\n",
        "population\t| Popolação em 2020\n",
        "population_density\t| Densidade populacional em 2020\n",
        "median_age\t| Idade média da população, projeção da ONU para 2020\n",
        "aged_65_older\t| Proporção da população com 65 anos ou mais, ano mais recente disponível\n",
        "aged_70_older\t| Percentagem da população com 70 anos ou mais em 2015\n",
        "gdp_per_capita\t| Produto interno bruto com paridade do poder de compra (dólares internacionais constantes de 2011), último ano disponível\n",
        "extreme_poverty\t| Percentagem da população que vive em extrema pobreza, último ano disponível desde 2010\n",
        "cvd_death_rate\t| Taxa de mortalidade por doenças cardiovasculares em 2017\n",
        "diabetes_prevalence\t| Prevalência de diabetes (% da população entre 20 e 79 anos) em 2017\n",
        "female_smokers\t| Percentagem de mulheres que fumam, último ano disponível\n",
        "male_smokers\t| Proporção de homens que fumam, último ano disponível\n",
        "handwashing_facilities\t| Proporção da população com instalações básicas de lavagem das mãos nas instalações, último ano disponível\n",
        "hospital_beds_per_thousand\t| Leitos de hospital por 1.000 pessoas, último ano disponível desde 2010\n",
        "life_expectancy| Expectativa de vida no nascimento em 2019"
      ]
    },
    {
      "cell_type": "markdown",
      "metadata": {
        "id": "m_ShYrZdi9Xv",
        "colab_type": "text"
      },
      "source": [
        "**A partir do conhecimento inicial do *dataset*, podemos extratir algumas informações básicas desse conjunto de dados.**"
      ]
    },
    {
      "cell_type": "code",
      "metadata": {
        "id": "eGpMQYpXUMr8",
        "colab_type": "code",
        "colab": {
          "base_uri": "https://localhost:8080/",
          "height": 34
        },
        "outputId": "db361d80-fe3e-46e4-bd90-0fb900ac39d8"
      },
      "source": [
        "# VERIFICANDO O TAMANHO DO DATASET\n",
        "\n",
        "df_global.shape"
      ],
      "execution_count": null,
      "outputs": [
        {
          "output_type": "execute_result",
          "data": {
            "text/plain": [
              "(24321, 34)"
            ]
          },
          "metadata": {
            "tags": []
          },
          "execution_count": 154
        }
      ]
    },
    {
      "cell_type": "markdown",
      "metadata": {
        "id": "-KTG1PtWjTr9",
        "colab_type": "text"
      },
      "source": [
        "Esse conjunto de dados é composto por **24321 linhas** e **34 colunas**."
      ]
    },
    {
      "cell_type": "code",
      "metadata": {
        "id": "SFmhXTidjQbq",
        "colab_type": "code",
        "colab": {
          "base_uri": "https://localhost:8080/",
          "height": 612
        },
        "outputId": "183e070a-2758-418e-bf58-be2acb43c5e1"
      },
      "source": [
        "# TIPOS DE VARIÁVEIS PRESENTES\n",
        "\n",
        "df_global.dtypes"
      ],
      "execution_count": null,
      "outputs": [
        {
          "output_type": "execute_result",
          "data": {
            "text/plain": [
              "iso_code                            object\n",
              "continent                           object\n",
              "location                            object\n",
              "date                                object\n",
              "total_cases                        float64\n",
              "new_cases                          float64\n",
              "total_deaths                       float64\n",
              "new_deaths                         float64\n",
              "total_cases_per_million            float64\n",
              "new_cases_per_million              float64\n",
              "total_deaths_per_million           float64\n",
              "new_deaths_per_million             float64\n",
              "total_tests                        float64\n",
              "new_tests                          float64\n",
              "total_tests_per_thousand           float64\n",
              "new_tests_per_thousand             float64\n",
              "new_tests_smoothed                 float64\n",
              "new_tests_smoothed_per_thousand    float64\n",
              "tests_units                         object\n",
              "stringency_index                   float64\n",
              "population                           int64\n",
              "population_density                 float64\n",
              "median_age                         float64\n",
              "aged_65_older                      float64\n",
              "aged_70_older                      float64\n",
              "gdp_per_capita                     float64\n",
              "extreme_poverty                    float64\n",
              "cvd_death_rate                     float64\n",
              "diabetes_prevalence                float64\n",
              "female_smokers                     float64\n",
              "male_smokers                       float64\n",
              "handwashing_facilities             float64\n",
              "hospital_beds_per_thousand         float64\n",
              "life_expectancy                    float64\n",
              "dtype: object"
            ]
          },
          "metadata": {
            "tags": []
          },
          "execution_count": 155
        }
      ]
    },
    {
      "cell_type": "markdown",
      "metadata": {
        "id": "F6KYiA-NjriD",
        "colab_type": "text"
      },
      "source": [
        "O *dataset* possui, em sua maioria, dados do tipo *float*."
      ]
    },
    {
      "cell_type": "code",
      "metadata": {
        "id": "XixvYI6mjm2S",
        "colab_type": "code",
        "colab": {
          "base_uri": "https://localhost:8080/",
          "height": 612
        },
        "outputId": "5acc5e41-af4c-4580-de3d-a76722e51eb7"
      },
      "source": [
        "# VERIFICANDO A EXISTÊNCIA DE VALORES AUSENTES NAS COLUNAS\n",
        "\n",
        "((df_global.isnull().sum() / df_global.shape[0])*100).sort_values(ascending=False)"
      ],
      "execution_count": null,
      "outputs": [
        {
          "output_type": "execute_result",
          "data": {
            "text/plain": [
              "new_tests                          74.914683\n",
              "new_tests_per_thousand             74.914683\n",
              "total_tests_per_thousand           72.151639\n",
              "total_tests                        72.151639\n",
              "new_tests_smoothed_per_thousand    69.951893\n",
              "new_tests_smoothed                 69.951893\n",
              "tests_units                        67.439661\n",
              "handwashing_facilities             58.986061\n",
              "extreme_poverty                    39.393939\n",
              "male_smokers                       26.947905\n",
              "female_smokers                     26.109124\n",
              "stringency_index                   18.761564\n",
              "hospital_beds_per_thousand         15.862835\n",
              "gdp_per_capita                      9.625427\n",
              "aged_65_older                       9.555528\n",
              "aged_70_older                       8.741417\n",
              "median_age                          8.272686\n",
              "cvd_death_rate                      8.182229\n",
              "diabetes_prevalence                 5.213601\n",
              "population_density                  3.679947\n",
              "life_expectancy                     1.138933\n",
              "new_deaths_per_million              0.900456\n",
              "total_deaths_per_million            0.900456\n",
              "new_deaths                          0.900456\n",
              "total_deaths                        0.900456\n",
              "new_cases_per_million               0.896345\n",
              "total_cases_per_million             0.896345\n",
              "new_cases                           0.896345\n",
              "total_cases                         0.896345\n",
              "continent                           0.703096\n",
              "population                          0.000000\n",
              "date                                0.000000\n",
              "location                            0.000000\n",
              "iso_code                            0.000000\n",
              "dtype: float64"
            ]
          },
          "metadata": {
            "tags": []
          },
          "execution_count": 156
        }
      ]
    },
    {
      "cell_type": "markdown",
      "metadata": {
        "id": "NfGEJMivkhD1",
        "colab_type": "text"
      },
      "source": [
        "Pode-se perceber que a coluna *`new_tests`* possui o maior número de valores ausentes no conjunto de dados."
      ]
    },
    {
      "cell_type": "markdown",
      "metadata": {
        "id": "TzIZR1z1k8HK",
        "colab_type": "text"
      },
      "source": [
        "**Nas análises seguintes, iremos avaliar os eventos observados ao longo do tempo. Desta forma, faz-se necessário tratarmos o conjunto de dados a fim de transformar a coluna *`date`* para o padrão de datas da biblioteca Pandas.**"
      ]
    },
    {
      "cell_type": "code",
      "metadata": {
        "id": "VcmQBOXVmJH8",
        "colab_type": "code",
        "colab": {}
      },
      "source": [
        "# Transformando a coluna date no formato datetime\n",
        "\n",
        "df_global.date = pd.to_datetime(df_global.date)"
      ],
      "execution_count": null,
      "outputs": []
    },
    {
      "cell_type": "markdown",
      "metadata": {
        "id": "BRERbw8em_gT",
        "colab_type": "text"
      },
      "source": [
        "Agora, podemos começar a realizar análises mais complexas.\n",
        "\n",
        "Por exemplo, é possível verificar quais países registraram os maiores números de casos confirmados e de mortes por COVID-19."
      ]
    },
    {
      "cell_type": "code",
      "metadata": {
        "id": "kiN5Qx1MnXRk",
        "colab_type": "code",
        "colab": {
          "base_uri": "https://localhost:8080/",
          "height": 145
        },
        "outputId": "28ce791a-da5a-4963-f48f-cd01d70226ce"
      },
      "source": [
        "# PAÍSES COM MAIS CASOS DE COVID-19 CONFIRMADOS\n",
        "\n",
        "global_casos_e_mortes = df_global.loc[df_global.date == '2020-06-18',['location','total_cases']].sort_values(by = ['total_cases'], ascending=False)\n",
        "global_casos_e_mortes[1:6].style.background_gradient(cmap ='Blues')"
      ],
      "execution_count": null,
      "outputs": [
        {
          "output_type": "execute_result",
          "data": {
            "text/html": [
              "<style  type=\"text/css\" >\n",
              "    #T_19629936_b1b2_11ea_8d18_0242ac1c0002row0_col1 {\n",
              "            background-color:  #08306b;\n",
              "            color:  #f1f1f1;\n",
              "        }    #T_19629936_b1b2_11ea_8d18_0242ac1c0002row1_col1 {\n",
              "            background-color:  #a5cde3;\n",
              "            color:  #000000;\n",
              "        }    #T_19629936_b1b2_11ea_8d18_0242ac1c0002row2_col1 {\n",
              "            background-color:  #dceaf6;\n",
              "            color:  #000000;\n",
              "        }    #T_19629936_b1b2_11ea_8d18_0242ac1c0002row3_col1 {\n",
              "            background-color:  #f0f6fd;\n",
              "            color:  #000000;\n",
              "        }    #T_19629936_b1b2_11ea_8d18_0242ac1c0002row4_col1 {\n",
              "            background-color:  #f7fbff;\n",
              "            color:  #000000;\n",
              "        }</style><table id=\"T_19629936_b1b2_11ea_8d18_0242ac1c0002\" ><thead>    <tr>        <th class=\"blank level0\" ></th>        <th class=\"col_heading level0 col0\" >location</th>        <th class=\"col_heading level0 col1\" >total_cases</th>    </tr></thead><tbody>\n",
              "                <tr>\n",
              "                        <th id=\"T_19629936_b1b2_11ea_8d18_0242ac1c0002level0_row0\" class=\"row_heading level0 row0\" >23300</th>\n",
              "                        <td id=\"T_19629936_b1b2_11ea_8d18_0242ac1c0002row0_col0\" class=\"data row0 col0\" >United States</td>\n",
              "                        <td id=\"T_19629936_b1b2_11ea_8d18_0242ac1c0002row0_col1\" class=\"data row0 col1\" >2163290.000000</td>\n",
              "            </tr>\n",
              "            <tr>\n",
              "                        <th id=\"T_19629936_b1b2_11ea_8d18_0242ac1c0002level0_row1\" class=\"row_heading level0 row1\" >3348</th>\n",
              "                        <td id=\"T_19629936_b1b2_11ea_8d18_0242ac1c0002row1_col0\" class=\"data row1 col0\" >Brazil</td>\n",
              "                        <td id=\"T_19629936_b1b2_11ea_8d18_0242ac1c0002row1_col1\" class=\"data row1 col1\" >955377.000000</td>\n",
              "            </tr>\n",
              "            <tr>\n",
              "                        <th id=\"T_19629936_b1b2_11ea_8d18_0242ac1c0002level0_row2\" class=\"row_heading level0 row2\" >18642</th>\n",
              "                        <td id=\"T_19629936_b1b2_11ea_8d18_0242ac1c0002row2_col0\" class=\"data row2 col0\" >Russia</td>\n",
              "                        <td id=\"T_19629936_b1b2_11ea_8d18_0242ac1c0002row2_col1\" class=\"data row2 col1\" >553301.000000</td>\n",
              "            </tr>\n",
              "            <tr>\n",
              "                        <th id=\"T_19629936_b1b2_11ea_8d18_0242ac1c0002level0_row3\" class=\"row_heading level0 row3\" >10411</th>\n",
              "                        <td id=\"T_19629936_b1b2_11ea_8d18_0242ac1c0002row3_col0\" class=\"data row3 col0\" >India</td>\n",
              "                        <td id=\"T_19629936_b1b2_11ea_8d18_0242ac1c0002row3_col1\" class=\"data row3 col1\" >366946.000000</td>\n",
              "            </tr>\n",
              "            <tr>\n",
              "                        <th id=\"T_19629936_b1b2_11ea_8d18_0242ac1c0002level0_row4\" class=\"row_heading level0 row4\" >23129</th>\n",
              "                        <td id=\"T_19629936_b1b2_11ea_8d18_0242ac1c0002row4_col0\" class=\"data row4 col0\" >United Kingdom</td>\n",
              "                        <td id=\"T_19629936_b1b2_11ea_8d18_0242ac1c0002row4_col1\" class=\"data row4 col1\" >299251.000000</td>\n",
              "            </tr>\n",
              "    </tbody></table>"
            ],
            "text/plain": [
              "<pandas.io.formats.style.Styler at 0x7fcd531543c8>"
            ]
          },
          "metadata": {
            "tags": []
          },
          "execution_count": 158
        }
      ]
    },
    {
      "cell_type": "code",
      "metadata": {
        "id": "wWCpA87c2rfW",
        "colab_type": "code",
        "colab": {
          "base_uri": "https://localhost:8080/",
          "height": 145
        },
        "outputId": "bc0daa8e-ce7c-4370-8b1f-43e354a025b1"
      },
      "source": [
        "# PAÍSES COM MAIS MORTES POR COVID-19 CONFIRMADAS\n",
        "\n",
        "global_casos_e_mortes = df_global.loc[df_global.date == '2020-06-18',['location','total_deaths']].sort_values(by = ['total_deaths'], ascending=False)\n",
        "global_casos_e_mortes[1:6].style.background_gradient(cmap ='Reds')"
      ],
      "execution_count": null,
      "outputs": [
        {
          "output_type": "execute_result",
          "data": {
            "text/html": [
              "<style  type=\"text/css\" >\n",
              "    #T_196642ac_b1b2_11ea_8d18_0242ac1c0002row0_col1 {\n",
              "            background-color:  #67000d;\n",
              "            color:  #f1f1f1;\n",
              "        }    #T_196642ac_b1b2_11ea_8d18_0242ac1c0002row1_col1 {\n",
              "            background-color:  #fdccb8;\n",
              "            color:  #000000;\n",
              "        }    #T_196642ac_b1b2_11ea_8d18_0242ac1c0002row2_col1 {\n",
              "            background-color:  #fedbcc;\n",
              "            color:  #000000;\n",
              "        }    #T_196642ac_b1b2_11ea_8d18_0242ac1c0002row3_col1 {\n",
              "            background-color:  #ffece3;\n",
              "            color:  #000000;\n",
              "        }    #T_196642ac_b1b2_11ea_8d18_0242ac1c0002row4_col1 {\n",
              "            background-color:  #fff5f0;\n",
              "            color:  #000000;\n",
              "        }</style><table id=\"T_196642ac_b1b2_11ea_8d18_0242ac1c0002\" ><thead>    <tr>        <th class=\"blank level0\" ></th>        <th class=\"col_heading level0 col0\" >location</th>        <th class=\"col_heading level0 col1\" >total_deaths</th>    </tr></thead><tbody>\n",
              "                <tr>\n",
              "                        <th id=\"T_196642ac_b1b2_11ea_8d18_0242ac1c0002level0_row0\" class=\"row_heading level0 row0\" >23300</th>\n",
              "                        <td id=\"T_196642ac_b1b2_11ea_8d18_0242ac1c0002row0_col0\" class=\"data row0 col0\" >United States</td>\n",
              "                        <td id=\"T_196642ac_b1b2_11ea_8d18_0242ac1c0002row0_col1\" class=\"data row0 col1\" >117717.000000</td>\n",
              "            </tr>\n",
              "            <tr>\n",
              "                        <th id=\"T_196642ac_b1b2_11ea_8d18_0242ac1c0002level0_row1\" class=\"row_heading level0 row1\" >3348</th>\n",
              "                        <td id=\"T_196642ac_b1b2_11ea_8d18_0242ac1c0002row1_col0\" class=\"data row1 col0\" >Brazil</td>\n",
              "                        <td id=\"T_196642ac_b1b2_11ea_8d18_0242ac1c0002row1_col1\" class=\"data row1 col1\" >46510.000000</td>\n",
              "            </tr>\n",
              "            <tr>\n",
              "                        <th id=\"T_196642ac_b1b2_11ea_8d18_0242ac1c0002level0_row2\" class=\"row_heading level0 row2\" >23129</th>\n",
              "                        <td id=\"T_196642ac_b1b2_11ea_8d18_0242ac1c0002row2_col0\" class=\"data row2 col0\" >United Kingdom</td>\n",
              "                        <td id=\"T_196642ac_b1b2_11ea_8d18_0242ac1c0002row2_col1\" class=\"data row2 col1\" >42153.000000</td>\n",
              "            </tr>\n",
              "            <tr>\n",
              "                        <th id=\"T_196642ac_b1b2_11ea_8d18_0242ac1c0002level0_row3\" class=\"row_heading level0 row3\" >11517</th>\n",
              "                        <td id=\"T_196642ac_b1b2_11ea_8d18_0242ac1c0002row3_col0\" class=\"data row3 col0\" >Italy</td>\n",
              "                        <td id=\"T_196642ac_b1b2_11ea_8d18_0242ac1c0002row3_col1\" class=\"data row3 col1\" >34448.000000</td>\n",
              "            </tr>\n",
              "            <tr>\n",
              "                        <th id=\"T_196642ac_b1b2_11ea_8d18_0242ac1c0002level0_row4\" class=\"row_heading level0 row4\" >8047</th>\n",
              "                        <td id=\"T_196642ac_b1b2_11ea_8d18_0242ac1c0002row4_col0\" class=\"data row4 col0\" >France</td>\n",
              "                        <td id=\"T_196642ac_b1b2_11ea_8d18_0242ac1c0002row4_col1\" class=\"data row4 col1\" >29575.000000</td>\n",
              "            </tr>\n",
              "    </tbody></table>"
            ],
            "text/plain": [
              "<pandas.io.formats.style.Styler at 0x7fcd531544a8>"
            ]
          },
          "metadata": {
            "tags": []
          },
          "execution_count": 159
        }
      ]
    },
    {
      "cell_type": "markdown",
      "metadata": {
        "id": "l9xiKycPuYmN",
        "colab_type": "text"
      },
      "source": [
        "Assim, podemos verificar pela tabela acima, os 5 países que possuem mais casos e mortes registradas no dia 18-06-2020."
      ]
    },
    {
      "cell_type": "code",
      "metadata": {
        "id": "_HQ_kueKuFtu",
        "colab_type": "code",
        "colab": {
          "base_uri": "https://localhost:8080/",
          "height": 369
        },
        "outputId": "6eda361d-663d-486a-bcc8-ab0b0b4eec35"
      },
      "source": [
        "# GRÁFICO DOS 5 PAÍSES COM MAIORES NÚEMROS DE MORTES POR COVID-19 REGISTRADAS\n",
        "\n",
        "top5_mortes = global_casos_e_mortes.sort_values(by = ['total_deaths'], ascending = False)[1:6]\n",
        "\n",
        "fig, ax = plt.subplots(figsize = (10,5))\n",
        "ax.bar('location', 'total_deaths', data = top5_mortes)\n",
        "ax.set_title('Top 5')\n",
        "ax.set_ylabel('N° de Mortes')\n",
        "\n",
        "plt.xticks(rotation = 45, ha = 'right')\n",
        "\n",
        "plt.tight_layout()"
      ],
      "execution_count": null,
      "outputs": [
        {
          "output_type": "display_data",
          "data": {
            "image/png": "[encoded data removed]",
            "text/plain": [
              "<Figure size 720x360 with 1 Axes>"
            ]
          },
          "metadata": {
            "tags": [],
            "needs_background": "light"
          }
        }
      ]
    },
    {
      "cell_type": "code",
      "metadata": {
        "id": "9Jbyo7UxwCfp",
        "colab_type": "code",
        "colab": {
          "base_uri": "https://localhost:8080/",
          "height": 334
        },
        "outputId": "1385170d-c489-4f27-f5c0-7873d0dea867"
      },
      "source": [
        "# EVOLUÇÃO DOS CASOS DE COVID-19 NO MUNDO\n",
        "\n",
        "df_evol = df_global.loc[df_global.location == \"World\", \"total_deaths\"].reset_index(drop = True)\n",
        "df_evol.plot(figsize = (10,5))\n",
        "plt.xlabel('Dias')\n",
        "plt.ylabel('N° de Mortes')\n",
        "plt.show()"
      ],
      "execution_count": null,
      "outputs": [
        {
          "output_type": "display_data",
          "data": {
            "image/png": "[encoded data removed]",
            "text/plain": [
              "<Figure size 720x360 with 1 Axes>"
            ]
          },
          "metadata": {
            "tags": [],
            "needs_background": "light"
          }
        }
      ]
    },
    {
      "cell_type": "markdown",
      "metadata": {
        "id": "OfWQxlth8oOJ",
        "colab_type": "text"
      },
      "source": [
        "### **ANÁLISE EXPLORATÓRIA PARA O BRASIL**"
      ]
    },
    {
      "cell_type": "markdown",
      "metadata": {
        "id": "Uknqtajf8t8D",
        "colab_type": "text"
      },
      "source": [
        "Inicialmente, vamos reduzir o nosso *dataset* original a fim de filtrar apenas as informações referentes ao Brasil."
      ]
    },
    {
      "cell_type": "code",
      "metadata": {
        "id": "rhhsjuXc2-mz",
        "colab_type": "code",
        "colab": {
          "base_uri": "https://localhost:8080/",
          "height": 235
        },
        "outputId": "88d1270c-0c4d-4cd7-c777-c14982079e0d"
      },
      "source": [
        "# SELECIONANDO UM NOVO DATAFRAME\n",
        "\n",
        "df_brasil = df_global.loc[df_global.location == \"Brazil\", [\"date\",\"total_cases\",\"total_deaths\"]].reset_index(drop = True)\n",
        "df_brasil = pd.DataFrame(df_brasil)\n",
        "\n",
        "# CONVERTENDO OS DADOS DA COLUNA 'DATE' PARA O FORMAT DE DATAS DO PANDAS\n",
        "\n",
        "df_brasil.date = pd.to_datetime(df_brasil.date)\n",
        "\n",
        "df_brasil.set_index('date', inplace = True)\n",
        "\n",
        "# VISUALIZANDO\n",
        "\n",
        "df_brasil.head()"
      ],
      "execution_count": null,
      "outputs": [
        {
          "output_type": "execute_result",
          "data": {
            "text/html": [
              "<div>\n",
              "<style scoped>\n",
              "    .dataframe tbody tr th:only-of-type {\n",
              "        vertical-align: middle;\n",
              "    }\n",
              "\n",
              "    .dataframe tbody tr th {\n",
              "        vertical-align: top;\n",
              "    }\n",
              "\n",
              "    .dataframe thead th {\n",
              "        text-align: right;\n",
              "    }\n",
              "</style>\n",
              "<table border=\"1\" class=\"dataframe\">\n",
              "  <thead>\n",
              "    <tr style=\"text-align: right;\">\n",
              "      <th></th>\n",
              "      <th>total_cases</th>\n",
              "      <th>total_deaths</th>\n",
              "    </tr>\n",
              "    <tr>\n",
              "      <th>date</th>\n",
              "      <th></th>\n",
              "      <th></th>\n",
              "    </tr>\n",
              "  </thead>\n",
              "  <tbody>\n",
              "    <tr>\n",
              "      <th>2019-12-31</th>\n",
              "      <td>0.0</td>\n",
              "      <td>0.0</td>\n",
              "    </tr>\n",
              "    <tr>\n",
              "      <th>2020-01-01</th>\n",
              "      <td>0.0</td>\n",
              "      <td>0.0</td>\n",
              "    </tr>\n",
              "    <tr>\n",
              "      <th>2020-01-02</th>\n",
              "      <td>0.0</td>\n",
              "      <td>0.0</td>\n",
              "    </tr>\n",
              "    <tr>\n",
              "      <th>2020-01-03</th>\n",
              "      <td>0.0</td>\n",
              "      <td>0.0</td>\n",
              "    </tr>\n",
              "    <tr>\n",
              "      <th>2020-01-04</th>\n",
              "      <td>0.0</td>\n",
              "      <td>0.0</td>\n",
              "    </tr>\n",
              "  </tbody>\n",
              "</table>\n",
              "</div>"
            ],
            "text/plain": [
              "            total_cases  total_deaths\n",
              "date                                 \n",
              "2019-12-31          0.0           0.0\n",
              "2020-01-01          0.0           0.0\n",
              "2020-01-02          0.0           0.0\n",
              "2020-01-03          0.0           0.0\n",
              "2020-01-04          0.0           0.0"
            ]
          },
          "metadata": {
            "tags": []
          },
          "execution_count": 162
        }
      ]
    },
    {
      "cell_type": "markdown",
      "metadata": {
        "id": "x04A_eFmEt_t",
        "colab_type": "text"
      },
      "source": [
        "A partir desse novo *dataframe* chamado *'df_brasil'*, podemos analisar os casos de COVID-19 no Brasil, tendo um conjunto de dados mais \"limpo\"."
      ]
    },
    {
      "cell_type": "code",
      "metadata": {
        "id": "pFdSZNJvA6Xm",
        "colab_type": "code",
        "colab": {
          "base_uri": "https://localhost:8080/",
          "height": 369
        },
        "outputId": "f411eeee-6d40-4d15-cb34-566747d60cfb"
      },
      "source": [
        "# GRÁFICO DO NÚMERO DE CASOS DE COVID-19 NO BRASIL\n",
        "\n",
        "fig, ax = plt.subplots(figsize = (10,5))\n",
        "\n",
        "ax.plot('total_cases', data = df_brasil)\n",
        "ax.set_title('COVID-19 no Brasil')\n",
        "ax.set_xlabel('Data')\n",
        "ax.set_ylabel('N° de Casos')\n",
        "\n",
        "plt.tight_layout()"
      ],
      "execution_count": null,
      "outputs": [
        {
          "output_type": "display_data",
          "data": {
            "image/png": "[encoded data removed]",
            "text/plain": [
              "<Figure size 720x360 with 1 Axes>"
            ]
          },
          "metadata": {
            "tags": [],
            "needs_background": "light"
          }
        }
      ]
    },
    {
      "cell_type": "code",
      "metadata": {
        "id": "fGJQOTRkFWXS",
        "colab_type": "code",
        "colab": {
          "base_uri": "https://localhost:8080/",
          "height": 369
        },
        "outputId": "7064e32b-7fd8-4286-f184-7fc0bade3d3d"
      },
      "source": [
        "# GRÁFICO DO NÚMERO DE MORTES POR COVID-19 NO BRASIL\n",
        "\n",
        "fig, ax = plt.subplots(figsize = (10,5))\n",
        "\n",
        "ax.plot('total_deaths','r' ,data = df_brasil)\n",
        "ax.set_title('COVID-19 no Brasil')\n",
        "ax.set_xlabel('Data')\n",
        "ax.set_ylabel('N° de Mortes')\n",
        "\n",
        "plt.tight_layout()"
      ],
      "execution_count": null,
      "outputs": [
        {
          "output_type": "display_data",
          "data": {
            "image/png": "[encoded data removed]",
            "text/plain": [
              "<Figure size 720x360 with 1 Axes>"
            ]
          },
          "metadata": {
            "tags": [],
            "needs_background": "light"
          }
        }
      ]
    },
    {
      "cell_type": "code",
      "metadata": {
        "id": "YJw_BG8cL3Zz",
        "colab_type": "code",
        "colab": {
          "base_uri": "https://localhost:8080/",
          "height": 111
        },
        "outputId": "03be31f1-a7bd-4134-cccc-893d39d13465"
      },
      "source": [
        "# IDENTIFICANDO A DATA DO PRIMEIRO CASO CONFIRMADO DE COVID-19\n",
        "\n",
        "first_case = df_brasil.loc[df_brasil.total_cases != 0, ['total_cases']].sort_values(by = 'total_cases', ascending = True)[:1]\n",
        "first_case\n"
      ],
      "execution_count": null,
      "outputs": [
        {
          "output_type": "execute_result",
          "data": {
            "text/html": [
              "<div>\n",
              "<style scoped>\n",
              "    .dataframe tbody tr th:only-of-type {\n",
              "        vertical-align: middle;\n",
              "    }\n",
              "\n",
              "    .dataframe tbody tr th {\n",
              "        vertical-align: top;\n",
              "    }\n",
              "\n",
              "    .dataframe thead th {\n",
              "        text-align: right;\n",
              "    }\n",
              "</style>\n",
              "<table border=\"1\" class=\"dataframe\">\n",
              "  <thead>\n",
              "    <tr style=\"text-align: right;\">\n",
              "      <th></th>\n",
              "      <th>total_cases</th>\n",
              "    </tr>\n",
              "    <tr>\n",
              "      <th>date</th>\n",
              "      <th></th>\n",
              "    </tr>\n",
              "  </thead>\n",
              "  <tbody>\n",
              "    <tr>\n",
              "      <th>2020-02-26</th>\n",
              "      <td>1.0</td>\n",
              "    </tr>\n",
              "  </tbody>\n",
              "</table>\n",
              "</div>"
            ],
            "text/plain": [
              "            total_cases\n",
              "date                   \n",
              "2020-02-26          1.0"
            ]
          },
          "metadata": {
            "tags": []
          },
          "execution_count": 165
        }
      ]
    },
    {
      "cell_type": "code",
      "metadata": {
        "id": "Z96f9UsVNptD",
        "colab_type": "code",
        "colab": {
          "base_uri": "https://localhost:8080/",
          "height": 111
        },
        "outputId": "10e4fad6-af17-4686-d5e6-59442a2a7725"
      },
      "source": [
        "# IDENTIFICANDO A DATA DA PRIMEIRA MORTE CONFIRMADA POR COVID-19\n",
        "\n",
        "first_death = df_brasil.loc[df_brasil.total_deaths != 0, ['total_deaths']].sort_values(by = 'total_deaths', ascending = True)[:1]\n",
        "first_death"
      ],
      "execution_count": null,
      "outputs": [
        {
          "output_type": "execute_result",
          "data": {
            "text/html": [
              "<div>\n",
              "<style scoped>\n",
              "    .dataframe tbody tr th:only-of-type {\n",
              "        vertical-align: middle;\n",
              "    }\n",
              "\n",
              "    .dataframe tbody tr th {\n",
              "        vertical-align: top;\n",
              "    }\n",
              "\n",
              "    .dataframe thead th {\n",
              "        text-align: right;\n",
              "    }\n",
              "</style>\n",
              "<table border=\"1\" class=\"dataframe\">\n",
              "  <thead>\n",
              "    <tr style=\"text-align: right;\">\n",
              "      <th></th>\n",
              "      <th>total_deaths</th>\n",
              "    </tr>\n",
              "    <tr>\n",
              "      <th>date</th>\n",
              "      <th></th>\n",
              "    </tr>\n",
              "  </thead>\n",
              "  <tbody>\n",
              "    <tr>\n",
              "      <th>2020-03-18</th>\n",
              "      <td>1.0</td>\n",
              "    </tr>\n",
              "  </tbody>\n",
              "</table>\n",
              "</div>"
            ],
            "text/plain": [
              "            total_deaths\n",
              "date                    \n",
              "2020-03-18           1.0"
            ]
          },
          "metadata": {
            "tags": []
          },
          "execution_count": 166
        }
      ]
    },
    {
      "cell_type": "markdown",
      "metadata": {
        "id": "yDtNNrI2PA-K",
        "colab_type": "text"
      },
      "source": [
        "O Brasil teve o primeiro caso confirmado da COVID-19 em **26-02-2020** e a primeira morte confirmada foi no dia **18-03-2020**"
      ]
    },
    {
      "cell_type": "markdown",
      "metadata": {
        "id": "qddnEZ4KPdV0",
        "colab_type": "text"
      },
      "source": [
        "### **ANÁLISE PREDITIVA USANDO O PROPHET**\n",
        "\n",
        "O Prophet trabalha com formatos específicos de colunas. Neste caso, devemos fornecer as informações nos seguintes padrões: ds e y A coluna ds deve estar no formato **AAAA-MM-DD** para datas e a coluna **y** deve ser numérica, esta representa a medida que deseja-se prever.\n",
        "\n",
        "Assim, para implementar a ferramenta Prophet na nossa análise, deveremos escolher um único parâmetro para ser avaliado em relação ao tempo. Neste caso, devemos gerar um novo dataset e renomear as colunas para ds e y."
      ]
    },
    {
      "cell_type": "code",
      "metadata": {
        "id": "Jib_T8mSO0KM",
        "colab_type": "code",
        "colab": {
          "base_uri": "https://localhost:8080/",
          "height": 204
        },
        "outputId": "fa487e35-8f86-4f8e-dd50-847a35f7c3c3"
      },
      "source": [
        "# CRIANDO UM DATASET COM AS INFORMAÇÕES: DATA E MORTES CONFIRMADAS\n",
        "\n",
        "prophet_mortes = df_brasil[['total_deaths']].reset_index()\n",
        "prophet_mortes.columns = ['ds','y']\n",
        "prophet_mortes.head()"
      ],
      "execution_count": null,
      "outputs": [
        {
          "output_type": "execute_result",
          "data": {
            "text/html": [
              "<div>\n",
              "<style scoped>\n",
              "    .dataframe tbody tr th:only-of-type {\n",
              "        vertical-align: middle;\n",
              "    }\n",
              "\n",
              "    .dataframe tbody tr th {\n",
              "        vertical-align: top;\n",
              "    }\n",
              "\n",
              "    .dataframe thead th {\n",
              "        text-align: right;\n",
              "    }\n",
              "</style>\n",
              "<table border=\"1\" class=\"dataframe\">\n",
              "  <thead>\n",
              "    <tr style=\"text-align: right;\">\n",
              "      <th></th>\n",
              "      <th>ds</th>\n",
              "      <th>y</th>\n",
              "    </tr>\n",
              "  </thead>\n",
              "  <tbody>\n",
              "    <tr>\n",
              "      <th>0</th>\n",
              "      <td>2019-12-31</td>\n",
              "      <td>0.0</td>\n",
              "    </tr>\n",
              "    <tr>\n",
              "      <th>1</th>\n",
              "      <td>2020-01-01</td>\n",
              "      <td>0.0</td>\n",
              "    </tr>\n",
              "    <tr>\n",
              "      <th>2</th>\n",
              "      <td>2020-01-02</td>\n",
              "      <td>0.0</td>\n",
              "    </tr>\n",
              "    <tr>\n",
              "      <th>3</th>\n",
              "      <td>2020-01-03</td>\n",
              "      <td>0.0</td>\n",
              "    </tr>\n",
              "    <tr>\n",
              "      <th>4</th>\n",
              "      <td>2020-01-04</td>\n",
              "      <td>0.0</td>\n",
              "    </tr>\n",
              "  </tbody>\n",
              "</table>\n",
              "</div>"
            ],
            "text/plain": [
              "          ds    y\n",
              "0 2019-12-31  0.0\n",
              "1 2020-01-01  0.0\n",
              "2 2020-01-02  0.0\n",
              "3 2020-01-03  0.0\n",
              "4 2020-01-04  0.0"
            ]
          },
          "metadata": {
            "tags": []
          },
          "execution_count": 167
        }
      ]
    },
    {
      "cell_type": "markdown",
      "metadata": {
        "id": "cV86zCwyRd9r",
        "colab_type": "text"
      },
      "source": [
        "Com o nosso dataframe no devido formato, podemos montar a nossa previsão usando o Prophet."
      ]
    },
    {
      "cell_type": "markdown",
      "metadata": {
        "id": "JyN__sylRk9l",
        "colab_type": "text"
      },
      "source": [
        "Iremos realizar as análises adotando um **intervalor de confiança de 95%**.\n",
        "\n",
        "Admitir um determinado intervalo de confiança é essencial na análise de dados em Séries Temporais, uma vez que as tendências temporais dos dados mudam constantemente. Ou seja, devemos assumir que o futuro sofrerá mudanças. Nesta análise, assumiremos um **erro de 5%**."
      ]
    },
    {
      "cell_type": "code",
      "metadata": {
        "id": "X8sZSjeFQANc",
        "colab_type": "code",
        "colab": {}
      },
      "source": [
        "# CRIANDO A INSTÂNCIA DO PROPHET\n",
        "\n",
        "m = Prophet(interval_width=0.95, yearly_seasonality=False, daily_seasonality=False) # SAZONALIDADES ANUAL E DIÁRIAS IGNORADAS\n",
        "\n",
        "# Treinamento\n",
        "# Neste caso, podemos passar todo o dataframe, ao invés de dividir em treino e teste\n",
        "\n",
        "m.fit(prophet_mortes)\n",
        "\n",
        "# Quantidade de dias desejados\n",
        "dias = 30\n",
        "\n",
        "futuro_mortes = m.make_future_dataframe(periods = dias)"
      ],
      "execution_count": null,
      "outputs": []
    },
    {
      "cell_type": "code",
      "metadata": {
        "id": "usZPD8_nRxos",
        "colab_type": "code",
        "colab": {
          "base_uri": "https://localhost:8080/",
          "height": 979
        },
        "outputId": "77a75936-3f69-4bba-e9f3-cbee424976ca"
      },
      "source": [
        "# VISUALIZANDO OS DIAS DE PREVISÃO GERADOS\n",
        "\n",
        "futuro_mortes.tail(dias)"
      ],
      "execution_count": null,
      "outputs": [
        {
          "output_type": "execute_result",
          "data": {
            "text/html": [
              "<div>\n",
              "<style scoped>\n",
              "    .dataframe tbody tr th:only-of-type {\n",
              "        vertical-align: middle;\n",
              "    }\n",
              "\n",
              "    .dataframe tbody tr th {\n",
              "        vertical-align: top;\n",
              "    }\n",
              "\n",
              "    .dataframe thead th {\n",
              "        text-align: right;\n",
              "    }\n",
              "</style>\n",
              "<table border=\"1\" class=\"dataframe\">\n",
              "  <thead>\n",
              "    <tr style=\"text-align: right;\">\n",
              "      <th></th>\n",
              "      <th>ds</th>\n",
              "    </tr>\n",
              "  </thead>\n",
              "  <tbody>\n",
              "    <tr>\n",
              "      <th>171</th>\n",
              "      <td>2020-06-19</td>\n",
              "    </tr>\n",
              "    <tr>\n",
              "      <th>172</th>\n",
              "      <td>2020-06-20</td>\n",
              "    </tr>\n",
              "    <tr>\n",
              "      <th>173</th>\n",
              "      <td>2020-06-21</td>\n",
              "    </tr>\n",
              "    <tr>\n",
              "      <th>174</th>\n",
              "      <td>2020-06-22</td>\n",
              "    </tr>\n",
              "    <tr>\n",
              "      <th>175</th>\n",
              "      <td>2020-06-23</td>\n",
              "    </tr>\n",
              "    <tr>\n",
              "      <th>176</th>\n",
              "      <td>2020-06-24</td>\n",
              "    </tr>\n",
              "    <tr>\n",
              "      <th>177</th>\n",
              "      <td>2020-06-25</td>\n",
              "    </tr>\n",
              "    <tr>\n",
              "      <th>178</th>\n",
              "      <td>2020-06-26</td>\n",
              "    </tr>\n",
              "    <tr>\n",
              "      <th>179</th>\n",
              "      <td>2020-06-27</td>\n",
              "    </tr>\n",
              "    <tr>\n",
              "      <th>180</th>\n",
              "      <td>2020-06-28</td>\n",
              "    </tr>\n",
              "    <tr>\n",
              "      <th>181</th>\n",
              "      <td>2020-06-29</td>\n",
              "    </tr>\n",
              "    <tr>\n",
              "      <th>182</th>\n",
              "      <td>2020-06-30</td>\n",
              "    </tr>\n",
              "    <tr>\n",
              "      <th>183</th>\n",
              "      <td>2020-07-01</td>\n",
              "    </tr>\n",
              "    <tr>\n",
              "      <th>184</th>\n",
              "      <td>2020-07-02</td>\n",
              "    </tr>\n",
              "    <tr>\n",
              "      <th>185</th>\n",
              "      <td>2020-07-03</td>\n",
              "    </tr>\n",
              "    <tr>\n",
              "      <th>186</th>\n",
              "      <td>2020-07-04</td>\n",
              "    </tr>\n",
              "    <tr>\n",
              "      <th>187</th>\n",
              "      <td>2020-07-05</td>\n",
              "    </tr>\n",
              "    <tr>\n",
              "      <th>188</th>\n",
              "      <td>2020-07-06</td>\n",
              "    </tr>\n",
              "    <tr>\n",
              "      <th>189</th>\n",
              "      <td>2020-07-07</td>\n",
              "    </tr>\n",
              "    <tr>\n",
              "      <th>190</th>\n",
              "      <td>2020-07-08</td>\n",
              "    </tr>\n",
              "    <tr>\n",
              "      <th>191</th>\n",
              "      <td>2020-07-09</td>\n",
              "    </tr>\n",
              "    <tr>\n",
              "      <th>192</th>\n",
              "      <td>2020-07-10</td>\n",
              "    </tr>\n",
              "    <tr>\n",
              "      <th>193</th>\n",
              "      <td>2020-07-11</td>\n",
              "    </tr>\n",
              "    <tr>\n",
              "      <th>194</th>\n",
              "      <td>2020-07-12</td>\n",
              "    </tr>\n",
              "    <tr>\n",
              "      <th>195</th>\n",
              "      <td>2020-07-13</td>\n",
              "    </tr>\n",
              "    <tr>\n",
              "      <th>196</th>\n",
              "      <td>2020-07-14</td>\n",
              "    </tr>\n",
              "    <tr>\n",
              "      <th>197</th>\n",
              "      <td>2020-07-15</td>\n",
              "    </tr>\n",
              "    <tr>\n",
              "      <th>198</th>\n",
              "      <td>2020-07-16</td>\n",
              "    </tr>\n",
              "    <tr>\n",
              "      <th>199</th>\n",
              "      <td>2020-07-17</td>\n",
              "    </tr>\n",
              "    <tr>\n",
              "      <th>200</th>\n",
              "      <td>2020-07-18</td>\n",
              "    </tr>\n",
              "  </tbody>\n",
              "</table>\n",
              "</div>"
            ],
            "text/plain": [
              "            ds\n",
              "171 2020-06-19\n",
              "172 2020-06-20\n",
              "173 2020-06-21\n",
              "174 2020-06-22\n",
              "175 2020-06-23\n",
              "176 2020-06-24\n",
              "177 2020-06-25\n",
              "178 2020-06-26\n",
              "179 2020-06-27\n",
              "180 2020-06-28\n",
              "181 2020-06-29\n",
              "182 2020-06-30\n",
              "183 2020-07-01\n",
              "184 2020-07-02\n",
              "185 2020-07-03\n",
              "186 2020-07-04\n",
              "187 2020-07-05\n",
              "188 2020-07-06\n",
              "189 2020-07-07\n",
              "190 2020-07-08\n",
              "191 2020-07-09\n",
              "192 2020-07-10\n",
              "193 2020-07-11\n",
              "194 2020-07-12\n",
              "195 2020-07-13\n",
              "196 2020-07-14\n",
              "197 2020-07-15\n",
              "198 2020-07-16\n",
              "199 2020-07-17\n",
              "200 2020-07-18"
            ]
          },
          "metadata": {
            "tags": []
          },
          "execution_count": 169
        }
      ]
    },
    {
      "cell_type": "markdown",
      "metadata": {
        "id": "UrNveIAmR82D",
        "colab_type": "text"
      },
      "source": [
        "Perceba que, no dataframe **prophet_mortes** (antes de gerar os dias de previsão), a última data era 2020-06-18.\n",
        "Agora, temos até o dia 2020-07-18, ou seja, **30 dias** depois, como especificado.\n",
        "\n",
        "**E isso também pode ser feito para mais dias.**"
      ]
    },
    {
      "cell_type": "code",
      "metadata": {
        "id": "73tdXW4YR1iz",
        "colab_type": "code",
        "colab": {
          "base_uri": "https://localhost:8080/",
          "height": 1000
        },
        "outputId": "befbd6a9-0846-4862-8ba4-bdc8c2c04781"
      },
      "source": [
        "# GERANDO DATAFRAME COM PREVISÕES DO PROPHET\n",
        "\n",
        "previsao_mortes = m.predict(futuro_mortes)\n",
        "\n",
        "# Visualizando o dataframe gerado\n",
        "\n",
        "previsao_mortes.tail(dias)"
      ],
      "execution_count": null,
      "outputs": [
        {
          "output_type": "execute_result",
          "data": {
            "text/html": [
              "<div>\n",
              "<style scoped>\n",
              "    .dataframe tbody tr th:only-of-type {\n",
              "        vertical-align: middle;\n",
              "    }\n",
              "\n",
              "    .dataframe tbody tr th {\n",
              "        vertical-align: top;\n",
              "    }\n",
              "\n",
              "    .dataframe thead th {\n",
              "        text-align: right;\n",
              "    }\n",
              "</style>\n",
              "<table border=\"1\" class=\"dataframe\">\n",
              "  <thead>\n",
              "    <tr style=\"text-align: right;\">\n",
              "      <th></th>\n",
              "      <th>ds</th>\n",
              "      <th>trend</th>\n",
              "      <th>yhat_lower</th>\n",
              "      <th>yhat_upper</th>\n",
              "      <th>trend_lower</th>\n",
              "      <th>trend_upper</th>\n",
              "      <th>additive_terms</th>\n",
              "      <th>additive_terms_lower</th>\n",
              "      <th>additive_terms_upper</th>\n",
              "      <th>weekly</th>\n",
              "      <th>weekly_lower</th>\n",
              "      <th>weekly_upper</th>\n",
              "      <th>multiplicative_terms</th>\n",
              "      <th>multiplicative_terms_lower</th>\n",
              "      <th>multiplicative_terms_upper</th>\n",
              "      <th>yhat</th>\n",
              "    </tr>\n",
              "  </thead>\n",
              "  <tbody>\n",
              "    <tr>\n",
              "      <th>171</th>\n",
              "      <td>2020-06-19</td>\n",
              "      <td>47133.294106</td>\n",
              "      <td>46831.595946</td>\n",
              "      <td>47531.792502</td>\n",
              "      <td>47116.224640</td>\n",
              "      <td>47147.614869</td>\n",
              "      <td>52.406990</td>\n",
              "      <td>52.406990</td>\n",
              "      <td>52.406990</td>\n",
              "      <td>52.406990</td>\n",
              "      <td>52.406990</td>\n",
              "      <td>52.406990</td>\n",
              "      <td>0.0</td>\n",
              "      <td>0.0</td>\n",
              "      <td>0.0</td>\n",
              "      <td>47185.701096</td>\n",
              "    </tr>\n",
              "    <tr>\n",
              "      <th>172</th>\n",
              "      <td>2020-06-20</td>\n",
              "      <td>48096.622385</td>\n",
              "      <td>47791.306233</td>\n",
              "      <td>48490.658952</td>\n",
              "      <td>48024.272128</td>\n",
              "      <td>48151.028930</td>\n",
              "      <td>69.000203</td>\n",
              "      <td>69.000203</td>\n",
              "      <td>69.000203</td>\n",
              "      <td>69.000203</td>\n",
              "      <td>69.000203</td>\n",
              "      <td>69.000203</td>\n",
              "      <td>0.0</td>\n",
              "      <td>0.0</td>\n",
              "      <td>0.0</td>\n",
              "      <td>48165.622588</td>\n",
              "    </tr>\n",
              "    <tr>\n",
              "      <th>173</th>\n",
              "      <td>2020-06-21</td>\n",
              "      <td>49059.950664</td>\n",
              "      <td>48760.323450</td>\n",
              "      <td>49488.050141</td>\n",
              "      <td>48919.987688</td>\n",
              "      <td>49178.069113</td>\n",
              "      <td>67.368193</td>\n",
              "      <td>67.368193</td>\n",
              "      <td>67.368193</td>\n",
              "      <td>67.368193</td>\n",
              "      <td>67.368193</td>\n",
              "      <td>67.368193</td>\n",
              "      <td>0.0</td>\n",
              "      <td>0.0</td>\n",
              "      <td>0.0</td>\n",
              "      <td>49127.318857</td>\n",
              "    </tr>\n",
              "    <tr>\n",
              "      <th>174</th>\n",
              "      <td>2020-06-22</td>\n",
              "      <td>50023.278943</td>\n",
              "      <td>49592.103954</td>\n",
              "      <td>50372.981542</td>\n",
              "      <td>49809.397455</td>\n",
              "      <td>50225.470627</td>\n",
              "      <td>-39.986860</td>\n",
              "      <td>-39.986860</td>\n",
              "      <td>-39.986860</td>\n",
              "      <td>-39.986860</td>\n",
              "      <td>-39.986860</td>\n",
              "      <td>-39.986860</td>\n",
              "      <td>0.0</td>\n",
              "      <td>0.0</td>\n",
              "      <td>0.0</td>\n",
              "      <td>49983.292083</td>\n",
              "    </tr>\n",
              "    <tr>\n",
              "      <th>175</th>\n",
              "      <td>2020-06-23</td>\n",
              "      <td>50986.607222</td>\n",
              "      <td>50466.855021</td>\n",
              "      <td>51280.583092</td>\n",
              "      <td>50675.538502</td>\n",
              "      <td>51256.334207</td>\n",
              "      <td>-114.229926</td>\n",
              "      <td>-114.229926</td>\n",
              "      <td>-114.229926</td>\n",
              "      <td>-114.229926</td>\n",
              "      <td>-114.229926</td>\n",
              "      <td>-114.229926</td>\n",
              "      <td>0.0</td>\n",
              "      <td>0.0</td>\n",
              "      <td>0.0</td>\n",
              "      <td>50872.377296</td>\n",
              "    </tr>\n",
              "    <tr>\n",
              "      <th>176</th>\n",
              "      <td>2020-06-24</td>\n",
              "      <td>51949.935501</td>\n",
              "      <td>51404.314699</td>\n",
              "      <td>52426.226961</td>\n",
              "      <td>51536.815582</td>\n",
              "      <td>52345.528863</td>\n",
              "      <td>-43.663156</td>\n",
              "      <td>-43.663156</td>\n",
              "      <td>-43.663156</td>\n",
              "      <td>-43.663156</td>\n",
              "      <td>-43.663156</td>\n",
              "      <td>-43.663156</td>\n",
              "      <td>0.0</td>\n",
              "      <td>0.0</td>\n",
              "      <td>0.0</td>\n",
              "      <td>51906.272346</td>\n",
              "    </tr>\n",
              "    <tr>\n",
              "      <th>177</th>\n",
              "      <td>2020-06-25</td>\n",
              "      <td>52913.263780</td>\n",
              "      <td>52331.734804</td>\n",
              "      <td>53518.728796</td>\n",
              "      <td>52385.827061</td>\n",
              "      <td>53400.816552</td>\n",
              "      <td>9.104556</td>\n",
              "      <td>9.104556</td>\n",
              "      <td>9.104556</td>\n",
              "      <td>9.104556</td>\n",
              "      <td>9.104556</td>\n",
              "      <td>9.104556</td>\n",
              "      <td>0.0</td>\n",
              "      <td>0.0</td>\n",
              "      <td>0.0</td>\n",
              "      <td>52922.368336</td>\n",
              "    </tr>\n",
              "    <tr>\n",
              "      <th>178</th>\n",
              "      <td>2020-06-26</td>\n",
              "      <td>53876.592059</td>\n",
              "      <td>53239.505698</td>\n",
              "      <td>54644.135181</td>\n",
              "      <td>53255.700515</td>\n",
              "      <td>54458.691190</td>\n",
              "      <td>52.406990</td>\n",
              "      <td>52.406990</td>\n",
              "      <td>52.406990</td>\n",
              "      <td>52.406990</td>\n",
              "      <td>52.406990</td>\n",
              "      <td>52.406990</td>\n",
              "      <td>0.0</td>\n",
              "      <td>0.0</td>\n",
              "      <td>0.0</td>\n",
              "      <td>53928.999049</td>\n",
              "    </tr>\n",
              "    <tr>\n",
              "      <th>179</th>\n",
              "      <td>2020-06-27</td>\n",
              "      <td>54839.920338</td>\n",
              "      <td>54065.103952</td>\n",
              "      <td>55715.467104</td>\n",
              "      <td>54122.581670</td>\n",
              "      <td>55540.200736</td>\n",
              "      <td>69.000203</td>\n",
              "      <td>69.000203</td>\n",
              "      <td>69.000203</td>\n",
              "      <td>69.000203</td>\n",
              "      <td>69.000203</td>\n",
              "      <td>69.000203</td>\n",
              "      <td>0.0</td>\n",
              "      <td>0.0</td>\n",
              "      <td>0.0</td>\n",
              "      <td>54908.920541</td>\n",
              "    </tr>\n",
              "    <tr>\n",
              "      <th>180</th>\n",
              "      <td>2020-06-28</td>\n",
              "      <td>55803.248617</td>\n",
              "      <td>54963.404662</td>\n",
              "      <td>56762.789189</td>\n",
              "      <td>54942.695546</td>\n",
              "      <td>56625.194487</td>\n",
              "      <td>67.368193</td>\n",
              "      <td>67.368193</td>\n",
              "      <td>67.368193</td>\n",
              "      <td>67.368193</td>\n",
              "      <td>67.368193</td>\n",
              "      <td>67.368193</td>\n",
              "      <td>0.0</td>\n",
              "      <td>0.0</td>\n",
              "      <td>0.0</td>\n",
              "      <td>55870.616810</td>\n",
              "    </tr>\n",
              "    <tr>\n",
              "      <th>181</th>\n",
              "      <td>2020-06-29</td>\n",
              "      <td>56766.576896</td>\n",
              "      <td>55687.108271</td>\n",
              "      <td>57668.698000</td>\n",
              "      <td>55762.064765</td>\n",
              "      <td>57714.512393</td>\n",
              "      <td>-39.986860</td>\n",
              "      <td>-39.986860</td>\n",
              "      <td>-39.986860</td>\n",
              "      <td>-39.986860</td>\n",
              "      <td>-39.986860</td>\n",
              "      <td>-39.986860</td>\n",
              "      <td>0.0</td>\n",
              "      <td>0.0</td>\n",
              "      <td>0.0</td>\n",
              "      <td>56726.590036</td>\n",
              "    </tr>\n",
              "    <tr>\n",
              "      <th>182</th>\n",
              "      <td>2020-06-30</td>\n",
              "      <td>57729.905175</td>\n",
              "      <td>56455.892269</td>\n",
              "      <td>58662.275711</td>\n",
              "      <td>56575.004470</td>\n",
              "      <td>58790.976647</td>\n",
              "      <td>-114.229926</td>\n",
              "      <td>-114.229926</td>\n",
              "      <td>-114.229926</td>\n",
              "      <td>-114.229926</td>\n",
              "      <td>-114.229926</td>\n",
              "      <td>-114.229926</td>\n",
              "      <td>0.0</td>\n",
              "      <td>0.0</td>\n",
              "      <td>0.0</td>\n",
              "      <td>57615.675249</td>\n",
              "    </tr>\n",
              "    <tr>\n",
              "      <th>183</th>\n",
              "      <td>2020-07-01</td>\n",
              "      <td>58693.233454</td>\n",
              "      <td>57396.496958</td>\n",
              "      <td>59829.188395</td>\n",
              "      <td>57420.817263</td>\n",
              "      <td>59933.578257</td>\n",
              "      <td>-43.663156</td>\n",
              "      <td>-43.663156</td>\n",
              "      <td>-43.663156</td>\n",
              "      <td>-43.663156</td>\n",
              "      <td>-43.663156</td>\n",
              "      <td>-43.663156</td>\n",
              "      <td>0.0</td>\n",
              "      <td>0.0</td>\n",
              "      <td>0.0</td>\n",
              "      <td>58649.570298</td>\n",
              "    </tr>\n",
              "    <tr>\n",
              "      <th>184</th>\n",
              "      <td>2020-07-02</td>\n",
              "      <td>59656.561733</td>\n",
              "      <td>58222.774902</td>\n",
              "      <td>60996.324220</td>\n",
              "      <td>58265.233234</td>\n",
              "      <td>61013.428808</td>\n",
              "      <td>9.104556</td>\n",
              "      <td>9.104556</td>\n",
              "      <td>9.104556</td>\n",
              "      <td>9.104556</td>\n",
              "      <td>9.104556</td>\n",
              "      <td>9.104556</td>\n",
              "      <td>0.0</td>\n",
              "      <td>0.0</td>\n",
              "      <td>0.0</td>\n",
              "      <td>59665.666289</td>\n",
              "    </tr>\n",
              "    <tr>\n",
              "      <th>185</th>\n",
              "      <td>2020-07-03</td>\n",
              "      <td>60619.890012</td>\n",
              "      <td>59190.258902</td>\n",
              "      <td>62147.608790</td>\n",
              "      <td>59113.259484</td>\n",
              "      <td>62178.616957</td>\n",
              "      <td>52.406990</td>\n",
              "      <td>52.406990</td>\n",
              "      <td>52.406990</td>\n",
              "      <td>52.406990</td>\n",
              "      <td>52.406990</td>\n",
              "      <td>52.406990</td>\n",
              "      <td>0.0</td>\n",
              "      <td>0.0</td>\n",
              "      <td>0.0</td>\n",
              "      <td>60672.297002</td>\n",
              "    </tr>\n",
              "    <tr>\n",
              "      <th>186</th>\n",
              "      <td>2020-07-04</td>\n",
              "      <td>61583.218291</td>\n",
              "      <td>60034.322384</td>\n",
              "      <td>63431.775322</td>\n",
              "      <td>59973.141804</td>\n",
              "      <td>63300.965429</td>\n",
              "      <td>69.000203</td>\n",
              "      <td>69.000203</td>\n",
              "      <td>69.000203</td>\n",
              "      <td>69.000203</td>\n",
              "      <td>69.000203</td>\n",
              "      <td>69.000203</td>\n",
              "      <td>0.0</td>\n",
              "      <td>0.0</td>\n",
              "      <td>0.0</td>\n",
              "      <td>61652.218494</td>\n",
              "    </tr>\n",
              "    <tr>\n",
              "      <th>187</th>\n",
              "      <td>2020-07-05</td>\n",
              "      <td>62546.546570</td>\n",
              "      <td>60814.929163</td>\n",
              "      <td>64389.385840</td>\n",
              "      <td>60805.521620</td>\n",
              "      <td>64453.789501</td>\n",
              "      <td>67.368193</td>\n",
              "      <td>67.368193</td>\n",
              "      <td>67.368193</td>\n",
              "      <td>67.368193</td>\n",
              "      <td>67.368193</td>\n",
              "      <td>67.368193</td>\n",
              "      <td>0.0</td>\n",
              "      <td>0.0</td>\n",
              "      <td>0.0</td>\n",
              "      <td>62613.914763</td>\n",
              "    </tr>\n",
              "    <tr>\n",
              "      <th>188</th>\n",
              "      <td>2020-07-06</td>\n",
              "      <td>63509.874849</td>\n",
              "      <td>61537.613894</td>\n",
              "      <td>65488.995001</td>\n",
              "      <td>61639.740776</td>\n",
              "      <td>65605.470588</td>\n",
              "      <td>-39.986860</td>\n",
              "      <td>-39.986860</td>\n",
              "      <td>-39.986860</td>\n",
              "      <td>-39.986860</td>\n",
              "      <td>-39.986860</td>\n",
              "      <td>-39.986860</td>\n",
              "      <td>0.0</td>\n",
              "      <td>0.0</td>\n",
              "      <td>0.0</td>\n",
              "      <td>63469.887989</td>\n",
              "    </tr>\n",
              "    <tr>\n",
              "      <th>189</th>\n",
              "      <td>2020-07-07</td>\n",
              "      <td>64473.203128</td>\n",
              "      <td>62216.202632</td>\n",
              "      <td>66590.491606</td>\n",
              "      <td>62423.265106</td>\n",
              "      <td>66692.624285</td>\n",
              "      <td>-114.229926</td>\n",
              "      <td>-114.229926</td>\n",
              "      <td>-114.229926</td>\n",
              "      <td>-114.229926</td>\n",
              "      <td>-114.229926</td>\n",
              "      <td>-114.229926</td>\n",
              "      <td>0.0</td>\n",
              "      <td>0.0</td>\n",
              "      <td>0.0</td>\n",
              "      <td>64358.973202</td>\n",
              "    </tr>\n",
              "    <tr>\n",
              "      <th>190</th>\n",
              "      <td>2020-07-08</td>\n",
              "      <td>65436.531407</td>\n",
              "      <td>63151.848812</td>\n",
              "      <td>67715.298997</td>\n",
              "      <td>63219.444237</td>\n",
              "      <td>67757.191605</td>\n",
              "      <td>-43.663156</td>\n",
              "      <td>-43.663156</td>\n",
              "      <td>-43.663156</td>\n",
              "      <td>-43.663156</td>\n",
              "      <td>-43.663156</td>\n",
              "      <td>-43.663156</td>\n",
              "      <td>0.0</td>\n",
              "      <td>0.0</td>\n",
              "      <td>0.0</td>\n",
              "      <td>65392.868251</td>\n",
              "    </tr>\n",
              "    <tr>\n",
              "      <th>191</th>\n",
              "      <td>2020-07-09</td>\n",
              "      <td>66399.859686</td>\n",
              "      <td>64125.720221</td>\n",
              "      <td>68999.403639</td>\n",
              "      <td>64080.510595</td>\n",
              "      <td>68827.616184</td>\n",
              "      <td>9.104556</td>\n",
              "      <td>9.104556</td>\n",
              "      <td>9.104556</td>\n",
              "      <td>9.104556</td>\n",
              "      <td>9.104556</td>\n",
              "      <td>9.104556</td>\n",
              "      <td>0.0</td>\n",
              "      <td>0.0</td>\n",
              "      <td>0.0</td>\n",
              "      <td>66408.964242</td>\n",
              "    </tr>\n",
              "    <tr>\n",
              "      <th>192</th>\n",
              "      <td>2020-07-10</td>\n",
              "      <td>67363.187965</td>\n",
              "      <td>64793.438742</td>\n",
              "      <td>69974.280508</td>\n",
              "      <td>64875.807842</td>\n",
              "      <td>69884.096018</td>\n",
              "      <td>52.406990</td>\n",
              "      <td>52.406990</td>\n",
              "      <td>52.406990</td>\n",
              "      <td>52.406990</td>\n",
              "      <td>52.406990</td>\n",
              "      <td>52.406990</td>\n",
              "      <td>0.0</td>\n",
              "      <td>0.0</td>\n",
              "      <td>0.0</td>\n",
              "      <td>67415.594955</td>\n",
              "    </tr>\n",
              "    <tr>\n",
              "      <th>193</th>\n",
              "      <td>2020-07-11</td>\n",
              "      <td>68326.516244</td>\n",
              "      <td>65653.521342</td>\n",
              "      <td>71112.853809</td>\n",
              "      <td>65650.767375</td>\n",
              "      <td>70973.289909</td>\n",
              "      <td>69.000203</td>\n",
              "      <td>69.000203</td>\n",
              "      <td>69.000203</td>\n",
              "      <td>69.000203</td>\n",
              "      <td>69.000203</td>\n",
              "      <td>69.000203</td>\n",
              "      <td>0.0</td>\n",
              "      <td>0.0</td>\n",
              "      <td>0.0</td>\n",
              "      <td>68395.516447</td>\n",
              "    </tr>\n",
              "    <tr>\n",
              "      <th>194</th>\n",
              "      <td>2020-07-12</td>\n",
              "      <td>69289.844523</td>\n",
              "      <td>66629.189683</td>\n",
              "      <td>72175.739106</td>\n",
              "      <td>66446.157261</td>\n",
              "      <td>72089.588558</td>\n",
              "      <td>67.368193</td>\n",
              "      <td>67.368193</td>\n",
              "      <td>67.368193</td>\n",
              "      <td>67.368193</td>\n",
              "      <td>67.368193</td>\n",
              "      <td>67.368193</td>\n",
              "      <td>0.0</td>\n",
              "      <td>0.0</td>\n",
              "      <td>0.0</td>\n",
              "      <td>69357.212716</td>\n",
              "    </tr>\n",
              "    <tr>\n",
              "      <th>195</th>\n",
              "      <td>2020-07-13</td>\n",
              "      <td>70253.172802</td>\n",
              "      <td>67222.943441</td>\n",
              "      <td>73246.461630</td>\n",
              "      <td>67253.746900</td>\n",
              "      <td>73244.914885</td>\n",
              "      <td>-39.986860</td>\n",
              "      <td>-39.986860</td>\n",
              "      <td>-39.986860</td>\n",
              "      <td>-39.986860</td>\n",
              "      <td>-39.986860</td>\n",
              "      <td>-39.986860</td>\n",
              "      <td>0.0</td>\n",
              "      <td>0.0</td>\n",
              "      <td>0.0</td>\n",
              "      <td>70213.185942</td>\n",
              "    </tr>\n",
              "    <tr>\n",
              "      <th>196</th>\n",
              "      <td>2020-07-14</td>\n",
              "      <td>71216.501081</td>\n",
              "      <td>67851.769396</td>\n",
              "      <td>74211.065293</td>\n",
              "      <td>68093.184635</td>\n",
              "      <td>74371.639663</td>\n",
              "      <td>-114.229926</td>\n",
              "      <td>-114.229926</td>\n",
              "      <td>-114.229926</td>\n",
              "      <td>-114.229926</td>\n",
              "      <td>-114.229926</td>\n",
              "      <td>-114.229926</td>\n",
              "      <td>0.0</td>\n",
              "      <td>0.0</td>\n",
              "      <td>0.0</td>\n",
              "      <td>71102.271155</td>\n",
              "    </tr>\n",
              "    <tr>\n",
              "      <th>197</th>\n",
              "      <td>2020-07-15</td>\n",
              "      <td>72179.829360</td>\n",
              "      <td>68809.240212</td>\n",
              "      <td>75422.741431</td>\n",
              "      <td>68881.959056</td>\n",
              "      <td>75498.364441</td>\n",
              "      <td>-43.663156</td>\n",
              "      <td>-43.663156</td>\n",
              "      <td>-43.663156</td>\n",
              "      <td>-43.663156</td>\n",
              "      <td>-43.663156</td>\n",
              "      <td>-43.663156</td>\n",
              "      <td>0.0</td>\n",
              "      <td>0.0</td>\n",
              "      <td>0.0</td>\n",
              "      <td>72136.166204</td>\n",
              "    </tr>\n",
              "    <tr>\n",
              "      <th>198</th>\n",
              "      <td>2020-07-16</td>\n",
              "      <td>73143.157639</td>\n",
              "      <td>69619.226947</td>\n",
              "      <td>76718.340199</td>\n",
              "      <td>69654.933483</td>\n",
              "      <td>76594.990637</td>\n",
              "      <td>9.104556</td>\n",
              "      <td>9.104556</td>\n",
              "      <td>9.104556</td>\n",
              "      <td>9.104556</td>\n",
              "      <td>9.104556</td>\n",
              "      <td>9.104556</td>\n",
              "      <td>0.0</td>\n",
              "      <td>0.0</td>\n",
              "      <td>0.0</td>\n",
              "      <td>73152.262195</td>\n",
              "    </tr>\n",
              "    <tr>\n",
              "      <th>199</th>\n",
              "      <td>2020-07-17</td>\n",
              "      <td>74106.485918</td>\n",
              "      <td>70428.686094</td>\n",
              "      <td>77797.457057</td>\n",
              "      <td>70375.714965</td>\n",
              "      <td>77738.913278</td>\n",
              "      <td>52.406990</td>\n",
              "      <td>52.406990</td>\n",
              "      <td>52.406990</td>\n",
              "      <td>52.406990</td>\n",
              "      <td>52.406990</td>\n",
              "      <td>52.406990</td>\n",
              "      <td>0.0</td>\n",
              "      <td>0.0</td>\n",
              "      <td>0.0</td>\n",
              "      <td>74158.892908</td>\n",
              "    </tr>\n",
              "    <tr>\n",
              "      <th>200</th>\n",
              "      <td>2020-07-18</td>\n",
              "      <td>75069.814197</td>\n",
              "      <td>71047.343547</td>\n",
              "      <td>78894.969558</td>\n",
              "      <td>71122.426736</td>\n",
              "      <td>78881.812768</td>\n",
              "      <td>69.000203</td>\n",
              "      <td>69.000203</td>\n",
              "      <td>69.000203</td>\n",
              "      <td>69.000203</td>\n",
              "      <td>69.000203</td>\n",
              "      <td>69.000203</td>\n",
              "      <td>0.0</td>\n",
              "      <td>0.0</td>\n",
              "      <td>0.0</td>\n",
              "      <td>75138.814400</td>\n",
              "    </tr>\n",
              "  </tbody>\n",
              "</table>\n",
              "</div>"
            ],
            "text/plain": [
              "            ds         trend  ...  multiplicative_terms_upper          yhat\n",
              "171 2020-06-19  47133.294106  ...                         0.0  47185.701096\n",
              "172 2020-06-20  48096.622385  ...                         0.0  48165.622588\n",
              "173 2020-06-21  49059.950664  ...                         0.0  49127.318857\n",
              "174 2020-06-22  50023.278943  ...                         0.0  49983.292083\n",
              "175 2020-06-23  50986.607222  ...                         0.0  50872.377296\n",
              "176 2020-06-24  51949.935501  ...                         0.0  51906.272346\n",
              "177 2020-06-25  52913.263780  ...                         0.0  52922.368336\n",
              "178 2020-06-26  53876.592059  ...                         0.0  53928.999049\n",
              "179 2020-06-27  54839.920338  ...                         0.0  54908.920541\n",
              "180 2020-06-28  55803.248617  ...                         0.0  55870.616810\n",
              "181 2020-06-29  56766.576896  ...                         0.0  56726.590036\n",
              "182 2020-06-30  57729.905175  ...                         0.0  57615.675249\n",
              "183 2020-07-01  58693.233454  ...                         0.0  58649.570298\n",
              "184 2020-07-02  59656.561733  ...                         0.0  59665.666289\n",
              "185 2020-07-03  60619.890012  ...                         0.0  60672.297002\n",
              "186 2020-07-04  61583.218291  ...                         0.0  61652.218494\n",
              "187 2020-07-05  62546.546570  ...                         0.0  62613.914763\n",
              "188 2020-07-06  63509.874849  ...                         0.0  63469.887989\n",
              "189 2020-07-07  64473.203128  ...                         0.0  64358.973202\n",
              "190 2020-07-08  65436.531407  ...                         0.0  65392.868251\n",
              "191 2020-07-09  66399.859686  ...                         0.0  66408.964242\n",
              "192 2020-07-10  67363.187965  ...                         0.0  67415.594955\n",
              "193 2020-07-11  68326.516244  ...                         0.0  68395.516447\n",
              "194 2020-07-12  69289.844523  ...                         0.0  69357.212716\n",
              "195 2020-07-13  70253.172802  ...                         0.0  70213.185942\n",
              "196 2020-07-14  71216.501081  ...                         0.0  71102.271155\n",
              "197 2020-07-15  72179.829360  ...                         0.0  72136.166204\n",
              "198 2020-07-16  73143.157639  ...                         0.0  73152.262195\n",
              "199 2020-07-17  74106.485918  ...                         0.0  74158.892908\n",
              "200 2020-07-18  75069.814197  ...                         0.0  75138.814400\n",
              "\n",
              "[30 rows x 16 columns]"
            ]
          },
          "metadata": {
            "tags": []
          },
          "execution_count": 170
        }
      ]
    },
    {
      "cell_type": "markdown",
      "metadata": {
        "id": "SGqnQY2jSSXw",
        "colab_type": "text"
      },
      "source": [
        "As variáveis mais importantes para nós, neste momento, são:\n",
        "\n",
        "*   **ds** (dias)\n",
        "*   **yhat_lower** (previsão do número mínimo de mortes)\n",
        "*   **yhat_upper** (previsão do número máximo de mortes)\n",
        "*   **yhat** (previsão do número médio de mortes)\n",
        "\n",
        "A partir dessas variáveis, podemos gerar os gráficos para enterdermos a previsão feita pelo Prophet.\n",
        "\n",
        "Assim, devemos gerar um novo dataframe com essas variáveis e plotar um gráfico."
      ]
    },
    {
      "cell_type": "code",
      "metadata": {
        "id": "3Yq_Hf2BSMB1",
        "colab_type": "code",
        "colab": {
          "base_uri": "https://localhost:8080/",
          "height": 266
        },
        "outputId": "cc243bf1-9999-4a01-87da-c714b0eef93d"
      },
      "source": [
        "# DATAFRAME - PREVISÃO\n",
        "\n",
        "previsao_prophet = previsao_mortes[['ds','yhat_lower','yhat','yhat_upper']]\n",
        "previsao_prophet.tail(7)"
      ],
      "execution_count": null,
      "outputs": [
        {
          "output_type": "execute_result",
          "data": {
            "text/html": [
              "<div>\n",
              "<style scoped>\n",
              "    .dataframe tbody tr th:only-of-type {\n",
              "        vertical-align: middle;\n",
              "    }\n",
              "\n",
              "    .dataframe tbody tr th {\n",
              "        vertical-align: top;\n",
              "    }\n",
              "\n",
              "    .dataframe thead th {\n",
              "        text-align: right;\n",
              "    }\n",
              "</style>\n",
              "<table border=\"1\" class=\"dataframe\">\n",
              "  <thead>\n",
              "    <tr style=\"text-align: right;\">\n",
              "      <th></th>\n",
              "      <th>ds</th>\n",
              "      <th>yhat_lower</th>\n",
              "      <th>yhat</th>\n",
              "      <th>yhat_upper</th>\n",
              "    </tr>\n",
              "  </thead>\n",
              "  <tbody>\n",
              "    <tr>\n",
              "      <th>194</th>\n",
              "      <td>2020-07-12</td>\n",
              "      <td>66629.189683</td>\n",
              "      <td>69357.212716</td>\n",
              "      <td>72175.739106</td>\n",
              "    </tr>\n",
              "    <tr>\n",
              "      <th>195</th>\n",
              "      <td>2020-07-13</td>\n",
              "      <td>67222.943441</td>\n",
              "      <td>70213.185942</td>\n",
              "      <td>73246.461630</td>\n",
              "    </tr>\n",
              "    <tr>\n",
              "      <th>196</th>\n",
              "      <td>2020-07-14</td>\n",
              "      <td>67851.769396</td>\n",
              "      <td>71102.271155</td>\n",
              "      <td>74211.065293</td>\n",
              "    </tr>\n",
              "    <tr>\n",
              "      <th>197</th>\n",
              "      <td>2020-07-15</td>\n",
              "      <td>68809.240212</td>\n",
              "      <td>72136.166204</td>\n",
              "      <td>75422.741431</td>\n",
              "    </tr>\n",
              "    <tr>\n",
              "      <th>198</th>\n",
              "      <td>2020-07-16</td>\n",
              "      <td>69619.226947</td>\n",
              "      <td>73152.262195</td>\n",
              "      <td>76718.340199</td>\n",
              "    </tr>\n",
              "    <tr>\n",
              "      <th>199</th>\n",
              "      <td>2020-07-17</td>\n",
              "      <td>70428.686094</td>\n",
              "      <td>74158.892908</td>\n",
              "      <td>77797.457057</td>\n",
              "    </tr>\n",
              "    <tr>\n",
              "      <th>200</th>\n",
              "      <td>2020-07-18</td>\n",
              "      <td>71047.343547</td>\n",
              "      <td>75138.814400</td>\n",
              "      <td>78894.969558</td>\n",
              "    </tr>\n",
              "  </tbody>\n",
              "</table>\n",
              "</div>"
            ],
            "text/plain": [
              "            ds    yhat_lower          yhat    yhat_upper\n",
              "194 2020-07-12  66629.189683  69357.212716  72175.739106\n",
              "195 2020-07-13  67222.943441  70213.185942  73246.461630\n",
              "196 2020-07-14  67851.769396  71102.271155  74211.065293\n",
              "197 2020-07-15  68809.240212  72136.166204  75422.741431\n",
              "198 2020-07-16  69619.226947  73152.262195  76718.340199\n",
              "199 2020-07-17  70428.686094  74158.892908  77797.457057\n",
              "200 2020-07-18  71047.343547  75138.814400  78894.969558"
            ]
          },
          "metadata": {
            "tags": []
          },
          "execution_count": 171
        }
      ]
    },
    {
      "cell_type": "markdown",
      "metadata": {
        "id": "ASwdQd5uSZzs",
        "colab_type": "text"
      },
      "source": [
        "### **PLOTANDO O GRÁFICO COM AS PREVISÕES**"
      ]
    },
    {
      "cell_type": "code",
      "metadata": {
        "id": "4JAMyCZPSWN8",
        "colab_type": "code",
        "colab": {
          "base_uri": "https://localhost:8080/",
          "height": 441
        },
        "outputId": "a69ecea9-8687-4ea7-f911-3755373a181b"
      },
      "source": [
        "# PREVISÃO PARA 15 DIAS\n",
        "\n",
        "confirmed_forecast_plot = m.plot(previsao_prophet, xlabel = 'DATA', ylabel = 'MORTES')"
      ],
      "execution_count": null,
      "outputs": [
        {
          "output_type": "display_data",
          "data": {
            "image/png": "[encoded data removed]",
            "text/plain": [
              "<Figure size 720x432 with 1 Axes>"
            ]
          },
          "metadata": {
            "tags": []
          }
        }
      ]
    },
    {
      "cell_type": "markdown",
      "metadata": {
        "id": "Q7SQxcGYSyAC",
        "colab_type": "text"
      },
      "source": [
        "O gráfico gerado acima nos mostra os dados atuais (bolinhas pretas), a previsão do Prophet (linha azul) e a margem para mínimo e máximo (faixa azul claro)."
      ]
    },
    {
      "cell_type": "markdown",
      "metadata": {
        "id": "XsiEAFdJTWzH",
        "colab_type": "text"
      },
      "source": [
        "### **CONCLUSÕES**"
      ]
    },
    {
      "cell_type": "markdown",
      "metadata": {
        "id": "8OaSvIJ2T_6O",
        "colab_type": "text"
      },
      "source": [
        "Uma rápida análise dos dados da COVID-19 nos mostra números realmente assustadores. Atualmente, o mundo registra pouco mais de **8 milhões** de infectados. Onde os 5 países com mais infectados são:\n",
        "\n",
        "País | Número de Infectados\n",
        "--|--\n",
        "Estados Unidos | **2.163.290**\n",
        "Brasil |\t**955.377**\n",
        "Rússia | **553.301**\n",
        "Índia\t| **366.946**\n",
        "Reino Unido\t| **299.251**\n",
        "\n",
        "Já os números de mortes por COVID-19 se apresentam da seguinte forma:\n",
        "\n",
        "País | Número de Mortes\n",
        "--|--\n",
        "Estados Unidos | **117.717**\n",
        "Brasil | **46.510**\n",
        "Reino Unido | **42.153**\n",
        "Itália | **34.448**\n",
        "França | **29.575**\n",
        "\n",
        "Apesar de muitos países já estarem aliviando suas medidas de isolamento e voltando a normalidade nas suas atividades, em decorrência do , alguns países, como o EUA e o Brasil, estão com seus números de infectados em constante crescimento.\n",
        "\n",
        "Os dados mostram que os países que não aplicaram as medidas de isolamento com rigidez ou demoraram a tomar iniciativas para conter o avanço da COVID-19, atualmente, são os mais atingidos.\n",
        "\n",
        "\n",
        "**Predição usando o Prophet**\n",
        "\n",
        "Podemos concluir que o Prophet conseguiu prever de maneira precisa o comportamento das mortes no Brasil até o dia atual. Com isso, podemos esperar que o número de mortes que deverá ocorrer país até o dia 18-07-2020 esteja dentro da faixa da previsão do modelo.\n",
        "\n",
        "De acordo com o modelo, a previsão do número de mortes até o dia **18-07-2020** podemos ser:\n",
        "\n",
        "* Número mínimo de mortes: **71181**\n",
        "* Número médio de mortes: **75138**\n",
        "* Número máximo de mortes: **79226**\n",
        "\n",
        "Com isso, percebemos que os prováveis cenários para o número de mortes total no Brasil ainda é bem preocupante. Desta forma, devemos seguir as recomendações dos órgãos de saúde, da maneria mais rigorosa possível, para evitar que esses números cresçam.\n",
        "\n",
        "A Ciência de Dados é uma poderosa aliada guerra contra a COVID-19 e alguns experimentos já mostram a eficácia de algoritmos de Machine Learning e Deep Learning desenvolvidos."
      ]
    },
    {
      "cell_type": "code",
      "metadata": {
        "id": "xrQ3p5BwSm5U",
        "colab_type": "code",
        "colab": {}
      },
      "source": [
        ""
      ],
      "execution_count": null,
      "outputs": []
    }
  ]
}