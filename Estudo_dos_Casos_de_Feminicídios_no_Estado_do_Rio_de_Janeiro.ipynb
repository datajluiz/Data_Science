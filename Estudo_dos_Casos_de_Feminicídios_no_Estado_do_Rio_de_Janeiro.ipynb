{
  "nbformat": 4,
  "nbformat_minor": 0,
  "metadata": {
    "colab": {
      "name": "Estudo dos Casos de Feminicídios no Estado do Rio de Janeiro.ipynb",
      "provenance": [],
      "collapsed_sections": [],
      "authorship_tag": "ABX9TyNll8mVUJrYlMZnN6konrvf",
      "include_colab_link": true
    },
    "kernelspec": {
      "name": "python3",
      "display_name": "Python 3"
    }
  },
  "cells": [
    {
      "cell_type": "markdown",
      "metadata": {
        "id": "view-in-github",
        "colab_type": "text"
      },
      "source": [
        "<a href=\"https://colab.research.google.com/github/jeffersonverissimo/Data_Science/blob/master/Estudo_dos_Casos_de_Feminic%C3%ADdios_no_Estado_do_Rio_de_Janeiro.ipynb\" target=\"_parent\"><img src=\"https://colab.research.google.com/assets/colab-badge.svg\" alt=\"Open In Colab\"/></a>"
      ]
    },
    {
      "cell_type": "markdown",
      "metadata": {
        "id": "cdbJGSFWKXsR",
        "colab_type": "text"
      },
      "source": [
        "<img src=\"https://2.bp.blogspot.com/-g4CVNa-bhqg/WWJsx1l6ZuI/AAAAAAAARzQ/ZoFFKyZvQEslUDJJTJvdg9nQ96oIryIxgCK4BGAYYCw/s640/SUICIDIO.jpg\" width=\"1500\" height=\"600\">"
      ]
    },
    {
      "cell_type": "markdown",
      "metadata": {
        "id": "Yz2gsWPsbwJN",
        "colab_type": "text"
      },
      "source": [
        "# **ANÁLISE DE DADOS DE FEMINICÍDIO NO RIO DE JANEIRO**\n",
        "---\n",
        "---\n",
        "\n",
        "Desde os primórdios da história, as mulheres são tradadas com desigualdade e vistas como inferiores nas civilizações humanas, chegando a serem violentadas das mais variadas formas em diversos casos. E até os dias atuais esse cenário não mudou muito, infelizmente. Segundo Garcia (2013), a expressão máxima da violência contra a mulher é o óbito. As mortes de mulheres decorrentes de conflitos de gênero, ou seja, pelo fato de serem mulheres, são denominados feminicídios ou femicídios.\n",
        "\n",
        "De acordo com o **Instituto Interamericano de Derechos Humanos (IIDH), conforme citado por Meneghel (2017)**, o conceito de femicídio foi utilizado pela primeira vez por Diana Russel em 1976, perante o Tribunal Internacional Sobre Crimes Contra as Mulheres, realizado em Bruxelas, para caracterizar o assassinato de mulheres pelo fato de serem mulheres, definindo-o como uma forma de terrorismo sexual ou genocídio de mulheres.\n",
        "\n",
        "Para tentar mudar essa realidade, há alguns anos foi criada a **Lei do Feminicídio**. Essa lei, também conhecida como **13.104/15**, estabelece que, se um homicídio for cometido contra uma mulher como resultado ou em conjunto de violência doméstica e familiar ou como fruto do menosprezo ou discriminação em razão da condição da mulher (discriminação por gênero), o agravante feminicídio pode ser imputado.\n",
        "\n",
        "**Os casos de feminicídios podem ser compreendidos principalmente como:**\n",
        "\n",
        "* Doméstico: quando o crime ocorre em ambiente doméstico, familiar ou é praticado por familiares;\n",
        "\n",
        "* Sexual: quando a morte da vítima decorre de abuso e violência sexual ou o homicídio é praticado acompanhado de estupro e violência sexual; e\n",
        "\n",
        "* Reprodutivo: quando a morte da mulher decorre da prática irregular do abordo.\n",
        "\n",
        "\n",
        "**Feminicídio no Brasil**\n",
        "\n",
        "De acordo com o relatório do Conselho Nacional de Justiça (CNJ), o Brasil ocupa o 5° lugar no *ranking* mundial de casos de assassinatos de mulheres, onde nosso país só perde para El Salvdor, Colômbia, Guatemala e Russia. No período de 2001 a 2011, estima-se que ocorreram mais de 50 mil feminicídios no Brasil, o que corresponde a 5 mil mortes por ano. Acredita-se que a maioria desses assassinatos de mulheres decorreram de violência em ambientes domésticos e familiares.\n",
        "\n",
        "Segundo pesquisas do **Instituto de Pesquisa Econômica Aplicada (IPEA)**, conforme citado por Garcia (2013), os casos de feminicídio no Brasil os principais resultados:\n",
        "\n",
        "* As regiões Nordeste, Centro-Oeste e Norte apresentaram as taxas de feminicídios mais\n",
        "elevadas, respectivamente, 6,90, 6,86 e 6,42 óbitos por 100.000 mulheres;\n",
        "\n",
        "* Mulheres jovens foram as principais vítimas: 31% estavam na faixa etária de 20 a 29 anos e\n",
        "23% de 30 a 39 anos. Mais da metade dos óbitos (54%) foram de mulheres de 20 a 39 anos;\n",
        "\n",
        "* A maior parte das vítimas tinham baixa escolaridade, 48% daquelas com 15 ou mais anos de\n",
        "idade tinham até 8 anos de estudo;\n",
        "\n",
        "* 29% dos feminicídios ocorreram no domicílio, 31% em via pública e 25% em hospital ou outro\n",
        "estabelecimento de saúde.\n",
        "\n",
        "---"
      ]
    },
    {
      "cell_type": "markdown",
      "metadata": {
        "id": "rGfVxOqMrggM",
        "colab_type": "text"
      },
      "source": [
        "### **Aquisição dos Dados**\n",
        "\n",
        "---\n",
        "O Instituto de Segurança Pública (ISP) do Estado do Rio de Janeiro, disponibiliza alguns conjuntos de dados sobre as estatísticas de segurança do estado, desta forma, os dados aqui analisados puderam ser obtidos através do [site do ISP](https://http://www.ispdados.rj.gov.br/estatistica.html).\n",
        "\n",
        "\n",
        "\n",
        "\n",
        "\n",
        "\n",
        "---"
      ]
    },
    {
      "cell_type": "code",
      "metadata": {
        "id": "A784L4sORh_G",
        "colab_type": "code",
        "colab": {}
      },
      "source": [
        "# IMPORTANDO AS PRINCIPAIS BIBLIOTECAS PARA A ANÁLISE\n",
        "\n",
        "import pandas as pd\n",
        "import matplotlib.pyplot as plt\n",
        "import seaborn as sbn\n",
        "\n",
        "%matplotlib inline"
      ],
      "execution_count": 0,
      "outputs": []
    },
    {
      "cell_type": "code",
      "metadata": {
        "id": "9XHFxt-NVLzv",
        "colab_type": "code",
        "colab": {}
      },
      "source": [
        "# IMPORTANDO O ARQUVIO A SER ESTUDADO NO FORMATO .CSV\n",
        "\n",
        "df = pd.read_csv(\"http://www.ispdados.rj.gov.br/Arquivos/BaseFeminicidioEvolucaoMensalCisp.csv\",sep=';',encoding='ISO-8859-1')"
      ],
      "execution_count": 0,
      "outputs": []
    },
    {
      "cell_type": "code",
      "metadata": {
        "id": "mCTtuIvdqQLV",
        "colab_type": "code",
        "outputId": "05c90e05-d5eb-4ecd-845b-8b6ea13750ed",
        "colab": {
          "base_uri": "https://localhost:8080/",
          "height": 34
        }
      },
      "source": [
        "# VERIFICANDO A DIMENSÃO DO NOSSO CONJUNTO DE DADOS\n",
        "\n",
        "df.shape"
      ],
      "execution_count": 12,
      "outputs": [
        {
          "output_type": "execute_result",
          "data": {
            "text/plain": [
              "(5507, 6)"
            ]
          },
          "metadata": {
            "tags": []
          },
          "execution_count": 12
        }
      ]
    },
    {
      "cell_type": "markdown",
      "metadata": {
        "id": "Xs4heptxqc9b",
        "colab_type": "text"
      },
      "source": [
        "Nosso *dataset* possui 5507 linhas e 6 colunas."
      ]
    },
    {
      "cell_type": "code",
      "metadata": {
        "id": "g5BNvlFAY6_f",
        "colab_type": "code",
        "outputId": "325b02fb-5195-4e4e-cd73-1383ad520f15",
        "colab": {
          "base_uri": "https://localhost:8080/",
          "height": 34
        }
      },
      "source": [
        "# DESCOBRINCO QUAIS AS COLUNAS DO NOSSO DATASET\n",
        "\n",
        "df.columns"
      ],
      "execution_count": 13,
      "outputs": [
        {
          "output_type": "execute_result",
          "data": {
            "text/plain": [
              "Index(['cisp', 'vano', 'mes', 'feminicidio', 'feminicidio_tentativa', 'FASE'], dtype='object')"
            ]
          },
          "metadata": {
            "tags": []
          },
          "execution_count": 13
        }
      ]
    },
    {
      "cell_type": "markdown",
      "metadata": {
        "id": "mCTJuJn3qBnx",
        "colab_type": "text"
      },
      "source": [
        "Remoção das colunas 'cisp' e 'FASE' através do comando \".drop('coluna',inplace=True,axis=1)\""
      ]
    },
    {
      "cell_type": "code",
      "metadata": {
        "id": "GTPvSPjSLbEM",
        "colab_type": "code",
        "colab": {}
      },
      "source": [
        "df.drop('cisp',inplace=True,axis=1)\n",
        "df.drop('FASE',inplace=True,axis=1)"
      ],
      "execution_count": 0,
      "outputs": []
    },
    {
      "cell_type": "code",
      "metadata": {
        "id": "Cack4Ie4pxvR",
        "colab_type": "code",
        "outputId": "30b28529-3e25-42fc-a960-49948d985c1f",
        "colab": {
          "base_uri": "https://localhost:8080/",
          "height": 204
        }
      },
      "source": [
        "# PODEMOS OBTER UMA IDEIA GERAL DA \"CARA\" DO NOSSO DATASET ATRAVÉS DO COMANDO 'df.head()'\n",
        "# DESTA FORMA, ELE NOS RETORNA AS 5 PRIMEIRAS LINHAS DO CONJUNTO DE DADOS\n",
        "\n",
        "df.head()"
      ],
      "execution_count": 15,
      "outputs": [
        {
          "output_type": "execute_result",
          "data": {
            "text/html": [
              "<div>\n",
              "<style scoped>\n",
              "    .dataframe tbody tr th:only-of-type {\n",
              "        vertical-align: middle;\n",
              "    }\n",
              "\n",
              "    .dataframe tbody tr th {\n",
              "        vertical-align: top;\n",
              "    }\n",
              "\n",
              "    .dataframe thead th {\n",
              "        text-align: right;\n",
              "    }\n",
              "</style>\n",
              "<table border=\"1\" class=\"dataframe\">\n",
              "  <thead>\n",
              "    <tr style=\"text-align: right;\">\n",
              "      <th></th>\n",
              "      <th>vano</th>\n",
              "      <th>mes</th>\n",
              "      <th>feminicidio</th>\n",
              "      <th>feminicidio_tentativa</th>\n",
              "    </tr>\n",
              "  </thead>\n",
              "  <tbody>\n",
              "    <tr>\n",
              "      <th>0</th>\n",
              "      <td>2016</td>\n",
              "      <td>10</td>\n",
              "      <td>0</td>\n",
              "      <td>0</td>\n",
              "    </tr>\n",
              "    <tr>\n",
              "      <th>1</th>\n",
              "      <td>2016</td>\n",
              "      <td>10</td>\n",
              "      <td>0</td>\n",
              "      <td>0</td>\n",
              "    </tr>\n",
              "    <tr>\n",
              "      <th>2</th>\n",
              "      <td>2016</td>\n",
              "      <td>10</td>\n",
              "      <td>0</td>\n",
              "      <td>0</td>\n",
              "    </tr>\n",
              "    <tr>\n",
              "      <th>3</th>\n",
              "      <td>2016</td>\n",
              "      <td>10</td>\n",
              "      <td>0</td>\n",
              "      <td>1</td>\n",
              "    </tr>\n",
              "    <tr>\n",
              "      <th>4</th>\n",
              "      <td>2016</td>\n",
              "      <td>10</td>\n",
              "      <td>0</td>\n",
              "      <td>0</td>\n",
              "    </tr>\n",
              "  </tbody>\n",
              "</table>\n",
              "</div>"
            ],
            "text/plain": [
              "   vano  mes  feminicidio  feminicidio_tentativa\n",
              "0  2016   10            0                      0\n",
              "1  2016   10            0                      0\n",
              "2  2016   10            0                      0\n",
              "3  2016   10            0                      1\n",
              "4  2016   10            0                      0"
            ]
          },
          "metadata": {
            "tags": []
          },
          "execution_count": 15
        }
      ]
    },
    {
      "cell_type": "markdown",
      "metadata": {
        "id": "bRGGpxGws6jl",
        "colab_type": "text"
      },
      "source": [
        "**Dicionário de variáveis**\n",
        "\n",
        "*   `vano` - *ano da tentativa de/ou feminicídio*;\n",
        "*   `mes` - *mês do acontecimento;*\n",
        "*   `feminicídio` - *quando ocorreu a morte da vítima;*\n",
        "*   `feminicídio_tentativa` - *quando houve a tentativa.*\n",
        "\n"
      ]
    },
    {
      "cell_type": "markdown",
      "metadata": {
        "id": "Mi9c9lTLseyL",
        "colab_type": "text"
      },
      "source": [
        "### **Quais são os tipos de variáveis dentro do nosso *dataset*?**"
      ]
    },
    {
      "cell_type": "code",
      "metadata": {
        "id": "7tcLpFHGsZAm",
        "colab_type": "code",
        "outputId": "9d7ae4ad-e10c-466e-ea82-47dcb74d7dbf",
        "colab": {
          "base_uri": "https://localhost:8080/",
          "height": 102
        }
      },
      "source": [
        "df.dtypes"
      ],
      "execution_count": 16,
      "outputs": [
        {
          "output_type": "execute_result",
          "data": {
            "text/plain": [
              "vano                     int64\n",
              "mes                      int64\n",
              "feminicidio              int64\n",
              "feminicidio_tentativa    int64\n",
              "dtype: object"
            ]
          },
          "metadata": {
            "tags": []
          },
          "execution_count": 16
        }
      ]
    },
    {
      "cell_type": "markdown",
      "metadata": {
        "id": "FkFjYpOUqmeE",
        "colab_type": "text"
      },
      "source": [
        "### **Nosso conjunto de dados possui algumas entrada com valor nulo?**"
      ]
    },
    {
      "cell_type": "code",
      "metadata": {
        "id": "OmoLR5Y9qUYi",
        "colab_type": "code",
        "outputId": "a6756c61-ae12-4932-dea8-3822b07d70d3",
        "colab": {
          "base_uri": "https://localhost:8080/",
          "height": 102
        }
      },
      "source": [
        "# PARA VERIFICAR SE HÁ ENTRADAS NULAS, PODEMOS FAZER O SOMATÓRIO DE TODAS OS VALORES NULOS CONTIDOS DO DATASET\n",
        "\n",
        "df.isnull().sum()"
      ],
      "execution_count": 17,
      "outputs": [
        {
          "output_type": "execute_result",
          "data": {
            "text/plain": [
              "vano                     0\n",
              "mes                      0\n",
              "feminicidio              0\n",
              "feminicidio_tentativa    0\n",
              "dtype: int64"
            ]
          },
          "metadata": {
            "tags": []
          },
          "execution_count": 17
        }
      ]
    },
    {
      "cell_type": "markdown",
      "metadata": {
        "id": "lTU-iArdqwqA",
        "colab_type": "text"
      },
      "source": [
        "Desta forma, pudemos verificar que que não há entradas nulas no nosso dataset. Ou seja, temos todas as linhas de todas as colunas preenchidas. "
      ]
    },
    {
      "cell_type": "code",
      "metadata": {
        "id": "ttTNani904dG",
        "colab_type": "code",
        "outputId": "2e52de62-f873-461f-c823-538f000e0104",
        "colab": {
          "base_uri": "https://localhost:8080/",
          "height": 297
        }
      },
      "source": [
        "# ATRAVÉS DO COMANDO \"df.descrive()\", PODEMOS OBTER UM RESUMO ESTATÍSTICO DO NOSSO CONJUNTO DE DADOS\n",
        "\n",
        "df.describe()"
      ],
      "execution_count": 18,
      "outputs": [
        {
          "output_type": "execute_result",
          "data": {
            "text/html": [
              "<div>\n",
              "<style scoped>\n",
              "    .dataframe tbody tr th:only-of-type {\n",
              "        vertical-align: middle;\n",
              "    }\n",
              "\n",
              "    .dataframe tbody tr th {\n",
              "        vertical-align: top;\n",
              "    }\n",
              "\n",
              "    .dataframe thead th {\n",
              "        text-align: right;\n",
              "    }\n",
              "</style>\n",
              "<table border=\"1\" class=\"dataframe\">\n",
              "  <thead>\n",
              "    <tr style=\"text-align: right;\">\n",
              "      <th></th>\n",
              "      <th>vano</th>\n",
              "      <th>mes</th>\n",
              "      <th>feminicidio</th>\n",
              "      <th>feminicidio_tentativa</th>\n",
              "    </tr>\n",
              "  </thead>\n",
              "  <tbody>\n",
              "    <tr>\n",
              "      <th>count</th>\n",
              "      <td>5507.000000</td>\n",
              "      <td>5507.000000</td>\n",
              "      <td>5507.000000</td>\n",
              "      <td>5507.000000</td>\n",
              "    </tr>\n",
              "    <tr>\n",
              "      <th>mean</th>\n",
              "      <td>2017.897222</td>\n",
              "      <td>6.701471</td>\n",
              "      <td>0.044489</td>\n",
              "      <td>0.172871</td>\n",
              "    </tr>\n",
              "    <tr>\n",
              "      <th>std</th>\n",
              "      <td>0.994521</td>\n",
              "      <td>3.607093</td>\n",
              "      <td>0.218180</td>\n",
              "      <td>0.527388</td>\n",
              "    </tr>\n",
              "    <tr>\n",
              "      <th>min</th>\n",
              "      <td>2016.000000</td>\n",
              "      <td>1.000000</td>\n",
              "      <td>0.000000</td>\n",
              "      <td>0.000000</td>\n",
              "    </tr>\n",
              "    <tr>\n",
              "      <th>25%</th>\n",
              "      <td>2017.000000</td>\n",
              "      <td>4.000000</td>\n",
              "      <td>0.000000</td>\n",
              "      <td>0.000000</td>\n",
              "    </tr>\n",
              "    <tr>\n",
              "      <th>50%</th>\n",
              "      <td>2018.000000</td>\n",
              "      <td>7.000000</td>\n",
              "      <td>0.000000</td>\n",
              "      <td>0.000000</td>\n",
              "    </tr>\n",
              "    <tr>\n",
              "      <th>75%</th>\n",
              "      <td>2019.000000</td>\n",
              "      <td>10.000000</td>\n",
              "      <td>0.000000</td>\n",
              "      <td>0.000000</td>\n",
              "    </tr>\n",
              "    <tr>\n",
              "      <th>max</th>\n",
              "      <td>2020.000000</td>\n",
              "      <td>12.000000</td>\n",
              "      <td>3.000000</td>\n",
              "      <td>8.000000</td>\n",
              "    </tr>\n",
              "  </tbody>\n",
              "</table>\n",
              "</div>"
            ],
            "text/plain": [
              "              vano          mes  feminicidio  feminicidio_tentativa\n",
              "count  5507.000000  5507.000000  5507.000000            5507.000000\n",
              "mean   2017.897222     6.701471     0.044489               0.172871\n",
              "std       0.994521     3.607093     0.218180               0.527388\n",
              "min    2016.000000     1.000000     0.000000               0.000000\n",
              "25%    2017.000000     4.000000     0.000000               0.000000\n",
              "50%    2018.000000     7.000000     0.000000               0.000000\n",
              "75%    2019.000000    10.000000     0.000000               0.000000\n",
              "max    2020.000000    12.000000     3.000000               8.000000"
            ]
          },
          "metadata": {
            "tags": []
          },
          "execution_count": 18
        }
      ]
    },
    {
      "cell_type": "markdown",
      "metadata": {
        "id": "EnXLTGwT3CDF",
        "colab_type": "text"
      },
      "source": [
        "**Descrição das entradas**\n",
        "\n",
        "*   `count` - *número de entradas;*\n",
        "*   `mean` - *média dos valores;*\n",
        "*   `std` - *desvio padrão;*\n",
        "*   `min` - *valor mínimo da coluna;*\n",
        "*   `25%` - *percentual de 25%;*\n",
        "*   `50%` - *percentual de 50% e valor a mediana;*\n",
        "*   `75%` - *percentual de 75%;*\n",
        "*   `max` - *valor máximo da coluna.*\n",
        "\n",
        "\n",
        "\n"
      ]
    },
    {
      "cell_type": "markdown",
      "metadata": {
        "id": "8IpIRlkj5HRq",
        "colab_type": "text"
      },
      "source": [
        "Podemos obter uma ideia geral das informações referentes ao número de feminicídio e/ou tentativas através das médias dos valores."
      ]
    },
    {
      "cell_type": "code",
      "metadata": {
        "id": "pH21VKMP1EUW",
        "colab_type": "code",
        "outputId": "07f51807-6b3e-475a-9233-de7c95fdf978",
        "colab": {
          "base_uri": "https://localhost:8080/",
          "height": 34
        }
      },
      "source": [
        "# MÉDIA DO NÚMERO DE TENTATIVAS DE FEMINICÍDIO\n",
        "\n",
        "media_tentativa = df.feminicidio_tentativa.mean()\n",
        "print(media_tentativa)"
      ],
      "execution_count": 19,
      "outputs": [
        {
          "output_type": "stream",
          "text": [
            "0.17287089159251862\n"
          ],
          "name": "stdout"
        }
      ]
    },
    {
      "cell_type": "code",
      "metadata": {
        "id": "eubZD5C25nLD",
        "colab_type": "code",
        "outputId": "35cd0906-9673-44f7-fbae-cdf14ddd0a7e",
        "colab": {
          "base_uri": "https://localhost:8080/",
          "height": 34
        }
      },
      "source": [
        "# MÉDIA DO NÚMERO DE FEMINICÍDIO\n",
        "\n",
        "media_feminicidio = df.feminicidio.mean()\n",
        "print(media_feminicidio)"
      ],
      "execution_count": 20,
      "outputs": [
        {
          "output_type": "stream",
          "text": [
            "0.04448883239513347\n"
          ],
          "name": "stdout"
        }
      ]
    },
    {
      "cell_type": "markdown",
      "metadata": {
        "id": "g5kgs6VZ6RJI",
        "colab_type": "text"
      },
      "source": [
        "É importante ressaltar que esses dados se referem apenas ao estado do Rio de Janeiro, desta forma, os \"pequenos valores das médias\" para os casos feminicídio podem ser compreensivos. Especialmente, quando supomos que nem todos os casos são computados ou acabam caracterizados (indevidamente) como outro tipo de crime."
      ]
    },
    {
      "cell_type": "markdown",
      "metadata": {
        "id": "jmpIX6qyRdq1",
        "colab_type": "text"
      },
      "source": [
        "### **Gráficos**"
      ]
    },
    {
      "cell_type": "markdown",
      "metadata": {
        "id": "S4W_-J_8Rira",
        "colab_type": "text"
      },
      "source": [
        "Através da análise dos gráficos gerados a partir dos dados obtidos no nosso dataframe, podemos melhorar o entendimento sobre o comportamento dos números acerda dos casos de feminicídios cometidos no estado do RJ."
      ]
    },
    {
      "cell_type": "code",
      "metadata": {
        "id": "JuUvweMt57tA",
        "colab_type": "code",
        "outputId": "2a7aeedf-42eb-4592-d317-a8e7228b64e1",
        "colab": {
          "base_uri": "https://localhost:8080/",
          "height": 334
        }
      },
      "source": [
        "df.plot('vano','feminicidio',figsize=(10,5),color='red')\n",
        "plt.xlabel('Ano')\n",
        "plt.ylabel('Número de Feminicídios')\n",
        "plt.show()"
      ],
      "execution_count": 29,
      "outputs": [
        {
          "output_type": "display_data",
          "data": {
            "image/png": "[encoded data removed]",
            "text/plain": [
              "<Figure size 720x360 with 1 Axes>"
            ]
          },
          "metadata": {
            "tags": []
          }
        }
      ]
    },
    {
      "cell_type": "markdown",
      "metadata": {
        "id": "wqtzTEMx1Xhk",
        "colab_type": "text"
      },
      "source": [
        "Através do gráfico acima, podemos perceber entre 2016 e 2020, o ano de 2019 registrou o maior número de feminicídios na cidade do Rio de Janeiro. Contudo, os demais anos apresentaram média de 2 feminicídios, que apesar de serem números \"pequenos\" como comentado anteriormente, continuam sendo números preocupantes, os quais precisam ser reduzidos a zero."
      ]
    },
    {
      "cell_type": "code",
      "metadata": {
        "id": "4yhd-xDrlbKR",
        "colab_type": "code",
        "outputId": "cf992b73-5da9-4505-c841-c6b833983100",
        "colab": {
          "base_uri": "https://localhost:8080/",
          "height": 334
        }
      },
      "source": [
        "df.plot('vano','feminicidio_tentativa',figsize=(10,5))\n",
        "plt.xlabel('Ano')\n",
        "plt.ylabel('Número de Tentativas')\n",
        "plt.show()"
      ],
      "execution_count": 28,
      "outputs": [
        {
          "output_type": "display_data",
          "data": {
            "image/png": "[encoded data removed]",
            "text/plain": [
              "<Figure size 720x360 with 1 Axes>"
            ]
          },
          "metadata": {
            "tags": []
          }
        }
      ]
    },
    {
      "cell_type": "markdown",
      "metadata": {
        "id": "U9Tcwzok2_yU",
        "colab_type": "text"
      },
      "source": [
        "Podemos observar que o números de tentativas de feminicídios superam com facilidade os casos em que ocorreram a morte da vítima de fato, caracterizando o feminicídio propriamente. O ano de 2019 aparece novamente em destaque, como sendo aquele que mais registrou as tentativas de feminicídio desde 2016."
      ]
    },
    {
      "cell_type": "markdown",
      "metadata": {
        "id": "L10JbHjZU5T3",
        "colab_type": "text"
      },
      "source": [
        "**Apesar de termos obtido uma visão geral dos números de casos de feminicídios ocorridos desde o ano de 2016, precisamos saber mais detalhes sobre como esses números se distribuem ao longo de cada ano. Para isso, podemos gerar gráficos de correlações entre os meses do ano e o número de casos de tentativa e de feminicídio.**"
      ]
    },
    {
      "cell_type": "code",
      "metadata": {
        "id": "07-MoDT54N_8",
        "colab_type": "code",
        "colab": {
          "base_uri": "https://localhost:8080/",
          "height": 334
        },
        "outputId": "57fc58a2-7d57-4cae-e26c-5f2d1c9b43ca"
      },
      "source": [
        "df.plot.scatter('feminicidio','mes',figsize=(10,5),color='red',s=50)\n",
        "plt.xlabel('Números de Feminicídio')\n",
        "plt.ylabel('Mês')\n",
        "plt.show()"
      ],
      "execution_count": 43,
      "outputs": [
        {
          "output_type": "display_data",
          "data": {
            "image/png": "[encoded data removed]",
            "text/plain": [
              "<Figure size 720x360 with 1 Axes>"
            ]
          },
          "metadata": {
            "tags": []
          }
        }
      ]
    },
    {
      "cell_type": "markdown",
      "metadata": {
        "id": "ycrzQMS0Zh95",
        "colab_type": "text"
      },
      "source": [
        "O gráfico acima nos mostra que todos os meses do ano tiveram, no máximo, 3 de feminicídios. Sendo que **Abril**, **Maio**, **Julho** e **Agosto** apresentaram 2 casos cada, enquanto os demais tiveram 3 casos."
      ]
    },
    {
      "cell_type": "code",
      "metadata": {
        "id": "4yLjLhxwXWvJ",
        "colab_type": "code",
        "colab": {
          "base_uri": "https://localhost:8080/",
          "height": 334
        },
        "outputId": "2df62cb7-c0e2-461c-b6a1-726622cd2969"
      },
      "source": [
        "df.plot.scatter('feminicidio_tentativa','mes',figsize=(10,5),s=50)\n",
        "plt.xlabel('Número de Tentativas')\n",
        "plt.ylabel('Mês')\n",
        "plt.show()"
      ],
      "execution_count": 44,
      "outputs": [
        {
          "output_type": "display_data",
          "data": {
            "image/png": "[encoded data removed]",
            "text/plain": [
              "<Figure size 720x360 with 1 Axes>"
            ]
          },
          "metadata": {
            "tags": []
          }
        }
      ]
    },
    {
      "cell_type": "markdown",
      "metadata": {
        "id": "p40Wnnp-ad0U",
        "colab_type": "text"
      },
      "source": [
        "Os números de tentativas de feminicídios foram os maiores nos meses de **Janeiro**, **Julho** e **Outubro**.\n",
        "\n",
        "---"
      ]
    },
    {
      "cell_type": "markdown",
      "metadata": {
        "id": "HrjvHSDHbGIx",
        "colab_type": "text"
      },
      "source": [
        "**CONCLUSÕES**\n",
        "\n",
        "Como pudemos observar, os números nos casos envolvendo feminicídios podem estar distorcidos devido as mais variados fatores, o que dificulta uma melhor análise dos dados. Em diversos casos, pode te ocorrido a registro dos dados de maneira errada ou a ausência de notificação dos casos de feminicídios.\n",
        "\n",
        "Contudo, apenas nessa análise superficial,observamos a importância da exploração desses tipos de dados, uma vez que através desses resultados, podemos ser capazes de elaborar estratégias para previnir que mais casos de feminicídios ocorram, não apenas no Rio de Janeiro, mas também em todo o país."
      ]
    }
  ]
}