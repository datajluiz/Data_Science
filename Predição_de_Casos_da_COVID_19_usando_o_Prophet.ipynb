{
  "nbformat": 4,
  "nbformat_minor": 0,
  "metadata": {
    "colab": {
      "name": "Predição de Casos da COVID-19 usando o Prophet.ipynb",
      "provenance": [],
      "collapsed_sections": [],
      "authorship_tag": "ABX9TyOY3GIuqAltcSY2RkKMwiGi",
      "include_colab_link": true
    },
    "kernelspec": {
      "name": "python3",
      "display_name": "Python 3"
    }
  },
  "cells": [
    {
      "cell_type": "markdown",
      "metadata": {
        "id": "view-in-github",
        "colab_type": "text"
      },
      "source": [
        "<a href=\"https://colab.research.google.com/github/jeffersonverissimo/Data_Science/blob/master/Predi%C3%A7%C3%A3o_de_Casos_da_COVID_19_usando_o_Prophet.ipynb\" target=\"_parent\"><img src=\"https://colab.research.google.com/assets/colab-badge.svg\" alt=\"Open In Colab\"/></a>"
      ]
    },
    {
      "cell_type": "markdown",
      "metadata": {
        "id": "OAOr8-lodtS-",
        "colab_type": "text"
      },
      "source": [
        "![alt text](https://2s7gjr373w3x22jf92z99mgm5w-wpengine.netdna-ssl.com/wp-content/uploads/2020/02/coronavirus-scaled.jpg)"
      ]
    },
    {
      "cell_type": "markdown",
      "metadata": {
        "id": "K3-wqYAIeNi-",
        "colab_type": "text"
      },
      "source": [
        "---\n",
        "# **PREDIÇÃO DOS CASOS DA COVID-19 USANDO MACHINE LEARNING**\n",
        "\n",
        "---\n",
        "---\n",
        "\n",
        "Atualmente, o novo coronavírus já infectou mais de 700 mil pessoas em todo o mundo, causando pouco mais de 37 mil mortes. E esse cenário tende a piorar em alguns países ao longo das próximas semanas. As pessoas idosas e as que têm doenças crônicas, como hipertensão ou problemas cardíacos e diabetes, possuem maior probabilidade de desenvolver doenças graves.\n",
        "\n",
        "**Uso da Inteligência Artificial na Guerra contra o Coronavírus**\n",
        "\n",
        "Diante desse cenário, a Inteligência Artificial surge como uma das maiores armas contra a pandemia do coronavírus. Os diversos algoritmos criados usando técnicas de IA podem nos ajudar a entender o comportamento e as projeções para o avanço da pandemia, assim como detectar casos, determinar prioridades de atendimentos no sistema de saúde e encontrar possíveis remédios e tratamentos para frear o coronavírus.\n",
        "\n",
        "No que diz respeito ao uso de técnicas e ferramentas específicas de *Machine Learning*, os principais *frameworks* de IA, que são usados para acelerar os projetos na luta contra o vírus são abertos, como *TensorFlow*, *Keras*, *Torch* e outros.\n",
        "\n",
        "**Proposta deste Projeto**\n",
        "\n",
        "O presente *notebook* mostra uma análise preditiva baseada nos dados epidemiológicos do coronavírus disponibilizados pela *Johns Hopkins University* através do seu [repositório no *GitHub*](https://github.com/CSSEGISandData/COVID-19/tree/master/csse_covid_19_data/csse_covid_19_time_series). A partir de técnicas de *Machine Learning*, é apresentada uma previsão do comportamento global da pandemia da COVID-19 considerando alguns cenários temporais.\n",
        "\n",
        "**Metodologia Utilizada**\n",
        "\n",
        "A análise deste projeto foi realizada utilizando uma ferramenta para Python desenvolvida pelo Facebook, o **Prophet**, que nos permite fazer previsões a partir de um determinado conjunto de dados. Você pode conferir os detalhes sobre esta ferramenta neste [link](https://facebook.github.io/prophet/).\n",
        "\n",
        "<center><img alt=\"Analisando Airbnb\" width=\"20%\" src=\"https://nextjournal.com/data/QmQfcfJDCwjxdNPMRTJZGbS8duREqmNXM7mVhXYcr3KPGE?content-type=image%2Fpng&filename=prophet-logo.png\"></center>\n",
        "\n",
        "\n",
        "---"
      ]
    },
    {
      "cell_type": "markdown",
      "metadata": {
        "id": "kewZ8B-32Bdq",
        "colab_type": "text"
      },
      "source": [
        "## **AQUISIÇÃO DOS DADOS**\n",
        "\n",
        "Todos os dados usados neste *notebook* foram obtidos a partir do repositório da *Johns Hapkins University* no *Github*, que você pode acessar através deste [link](https://github.com/CSSEGISandData).\n",
        "\n",
        "Para esta análise exploratória inicial, serão utilizados apenas os seguintes arquivos:\n",
        "\n",
        "*   *`time_series_covid19_confirmed_global.csv`*\n",
        "*   *`time_series_covid19_deaths_global.csv`*\n",
        "*   *`time_series_covid19_recovered_global.csv`*"
      ]
    },
    {
      "cell_type": "code",
      "metadata": {
        "id": "6Nd_R7VzcQYT",
        "colab_type": "code",
        "colab": {}
      },
      "source": [
        "# IMPORTAÇÃO DOS PACOTES NECESSÁRIOS PARA REALIZAR AS ANÁLISES\n",
        "\n",
        "import pandas as pd\n",
        "import numpy as np\n",
        "import matplotlib.pyplot as plt\n",
        "\n",
        "%matplotlib inline"
      ],
      "execution_count": 0,
      "outputs": []
    },
    {
      "cell_type": "code",
      "metadata": {
        "id": "b3JYDBZmhWw3",
        "colab_type": "code",
        "colab": {}
      },
      "source": [
        "# IMPORTAÇÃO DOS CONJUNTOS DE DADOS A SEREM ANALISADOS\n",
        "\n",
        "# Casos de Infecção Confirmados de COVID-19\n",
        "df1 = pd.read_csv('https://raw.githubusercontent.com/CSSEGISandData/COVID-19/master/csse_covid_19_data/csse_covid_19_time_series/time_series_covid19_confirmed_global.csv')\n",
        "\n",
        "# Casos de Mortes Confirmadas de COVID-19\n",
        "df2 = pd.read_csv('https://raw.githubusercontent.com/CSSEGISandData/COVID-19/master/csse_covid_19_data/csse_covid_19_time_series/time_series_covid19_deaths_global.csv')\n",
        "\n",
        "# Casos de Pessoas Recuperadas da COVID-19\n",
        "df3 = pd.read_csv('https://raw.githubusercontent.com/CSSEGISandData/COVID-19/master/csse_covid_19_data/csse_covid_19_time_series/time_series_covid19_recovered_global.csv')"
      ],
      "execution_count": 0,
      "outputs": []
    },
    {
      "cell_type": "markdown",
      "metadata": {
        "id": "OaqpHQOj4HeL",
        "colab_type": "text"
      },
      "source": [
        "Inicialmente, as informações sobre casos confirmados, mortes e casos de recuperação, estão em *datasets* separados, em df1, df2 e df3, respectivamente.\n",
        "\n",
        "Com isso, iremos fazer um tratamento nos conjuntos de dados de forma a agrupar todas essas informações e obter um novo *dataset* contendo todas as informações necessárias para a análise e de maneira mais organizada.\n",
        "\n",
        "---"
      ]
    },
    {
      "cell_type": "markdown",
      "metadata": {
        "id": "5uXzxmwV4yNI",
        "colab_type": "text"
      },
      "source": [
        "## **TRATAMENTO DOS DADOS**"
      ]
    },
    {
      "cell_type": "code",
      "metadata": {
        "id": "nSC1nicnyg7l",
        "colab_type": "code",
        "colab": {}
      },
      "source": [
        "# CRIANDO OS NOVOS DATAFRAMES\n",
        "\n",
        "confir = np.sum(df1.iloc[:,4:df1.shape[1]])\n",
        "confir.index = pd.DatetimeIndex(confir.index)\n",
        "\n",
        "mortes = np.sum(df2.iloc[:,4:df2.shape[1]])\n",
        "mortes.index = pd.DatetimeIndex(mortes.index)\n",
        "\n",
        "recup = np.sum(df3.iloc[:,4:df3.shape[1]])\n",
        "recup.index = pd.DatetimeIndex(recup.index)"
      ],
      "execution_count": 0,
      "outputs": []
    },
    {
      "cell_type": "code",
      "metadata": {
        "colab_type": "code",
        "id": "Nth_Ssg646dO",
        "colab": {
          "base_uri": "https://localhost:8080/",
          "height": 204
        },
        "outputId": "60a6c859-fbd0-44b1-acea-183599bc8415"
      },
      "source": [
        "# CRIANDO UM DATAFRAME COM TODOS OS CASOS OCORRIDOS\n",
        "\n",
        "df_total = pd.concat([confir,mortes,recup], axis=1).reset_index()\n",
        "df_total.columns = ['Data','Casos_Confirmados','Mortes_Confirmadas','Pacientes_Recuperados']\n",
        "df_total.tail()"
      ],
      "execution_count": 123,
      "outputs": [
        {
          "output_type": "execute_result",
          "data": {
            "text/html": [
              "<div>\n",
              "<style scoped>\n",
              "    .dataframe tbody tr th:only-of-type {\n",
              "        vertical-align: middle;\n",
              "    }\n",
              "\n",
              "    .dataframe tbody tr th {\n",
              "        vertical-align: top;\n",
              "    }\n",
              "\n",
              "    .dataframe thead th {\n",
              "        text-align: right;\n",
              "    }\n",
              "</style>\n",
              "<table border=\"1\" class=\"dataframe\">\n",
              "  <thead>\n",
              "    <tr style=\"text-align: right;\">\n",
              "      <th></th>\n",
              "      <th>Data</th>\n",
              "      <th>Casos_Confirmados</th>\n",
              "      <th>Mortes_Confirmadas</th>\n",
              "      <th>Pacientes_Recuperados</th>\n",
              "    </tr>\n",
              "  </thead>\n",
              "  <tbody>\n",
              "    <tr>\n",
              "      <th>65</th>\n",
              "      <td>2020-03-27</td>\n",
              "      <td>593291</td>\n",
              "      <td>27198</td>\n",
              "      <td>130915</td>\n",
              "    </tr>\n",
              "    <tr>\n",
              "      <th>66</th>\n",
              "      <td>2020-03-28</td>\n",
              "      <td>660706</td>\n",
              "      <td>30652</td>\n",
              "      <td>139415</td>\n",
              "    </tr>\n",
              "    <tr>\n",
              "      <th>67</th>\n",
              "      <td>2020-03-29</td>\n",
              "      <td>720117</td>\n",
              "      <td>33925</td>\n",
              "      <td>149082</td>\n",
              "    </tr>\n",
              "    <tr>\n",
              "      <th>68</th>\n",
              "      <td>2020-03-30</td>\n",
              "      <td>782365</td>\n",
              "      <td>37582</td>\n",
              "      <td>164566</td>\n",
              "    </tr>\n",
              "    <tr>\n",
              "      <th>69</th>\n",
              "      <td>2020-03-31</td>\n",
              "      <td>857487</td>\n",
              "      <td>42107</td>\n",
              "      <td>178034</td>\n",
              "    </tr>\n",
              "  </tbody>\n",
              "</table>\n",
              "</div>"
            ],
            "text/plain": [
              "         Data  Casos_Confirmados  Mortes_Confirmadas  Pacientes_Recuperados\n",
              "65 2020-03-27             593291               27198                 130915\n",
              "66 2020-03-28             660706               30652                 139415\n",
              "67 2020-03-29             720117               33925                 149082\n",
              "68 2020-03-30             782365               37582                 164566\n",
              "69 2020-03-31             857487               42107                 178034"
            ]
          },
          "metadata": {
            "tags": []
          },
          "execution_count": 123
        }
      ]
    },
    {
      "cell_type": "markdown",
      "metadata": {
        "id": "NTD1Oq3Z5Kyb",
        "colab_type": "text"
      },
      "source": [
        "Agora, temos um dataframe contendo todos as informações desejadas, organizadas por data do evento."
      ]
    },
    {
      "cell_type": "markdown",
      "metadata": {
        "id": "LSanSgR5OekK",
        "colab_type": "text"
      },
      "source": [
        "---"
      ]
    },
    {
      "cell_type": "markdown",
      "metadata": {
        "id": "_7BiMVObBZ8s",
        "colab_type": "text"
      },
      "source": [
        "### **PLOTANDO O GRÁFICO DE CASOS CONFIRMADOS E MORTES AO LONGO DO TEMPO**"
      ]
    },
    {
      "cell_type": "code",
      "metadata": {
        "id": "R40Nqj0n2Gqr",
        "colab_type": "code",
        "colab": {
          "base_uri": "https://localhost:8080/",
          "height": 477
        },
        "outputId": "23dcab39-e4aa-4aba-8bfb-162b92b87762"
      },
      "source": [
        "df_total.plot('Data',['Casos_Confirmados','Mortes_Confirmadas'],figsize=(10,7));"
      ],
      "execution_count": 124,
      "outputs": [
        {
          "output_type": "display_data",
          "data": {
            "image/png": "[encoded data removed]",
            "text/plain": [
              "<Figure size 720x504 with 1 Axes>"
            ]
          },
          "metadata": {
            "tags": []
          }
        }
      ]
    },
    {
      "cell_type": "markdown",
      "metadata": {
        "id": "ggx4k3zJOdSE",
        "colab_type": "text"
      },
      "source": [
        "---"
      ]
    },
    {
      "cell_type": "markdown",
      "metadata": {
        "id": "4VYPe8foEeZI",
        "colab_type": "text"
      },
      "source": [
        "## **ANÁLISE COM O PROPHET**\n",
        "\n",
        "O Prophet trabalha com formatos específicos de colunas. \n",
        "Neste caso, devemos fornecer as informações nos seguintes padrões: **ds** e **y**\n",
        "A coluna **ds** deve estar no formato **AAAA-MM-DD** para datas e a coluna **y** deve ser **numérica**, esta representa a medida que deseja-se prever."
      ]
    },
    {
      "cell_type": "markdown",
      "metadata": {
        "id": "DzJ_0JhtE3Wh",
        "colab_type": "text"
      },
      "source": [
        "Assim, para implementar a ferramenta Prophet na nossa análise, deveremos escolher um único parâmetro para ser avaliado em relação ao tempo. Neste caso, devemos gerar um novo *dataset* e renomear as colunas para **ds** e **y**."
      ]
    },
    {
      "cell_type": "code",
      "metadata": {
        "id": "jGgC9yO_BvqH",
        "colab_type": "code",
        "colab": {}
      },
      "source": [
        "# IMPORTANDO O PROPHET\n",
        "\n",
        "from fbprophet import Prophet"
      ],
      "execution_count": 0,
      "outputs": []
    },
    {
      "cell_type": "markdown",
      "metadata": {
        "id": "Eyl4wz9jNaWI",
        "colab_type": "text"
      },
      "source": [
        "Neste *notebook*, iremos avaliar o número de mortes e usar o Prophet para tentar prever o comportamento dessa variável."
      ]
    },
    {
      "cell_type": "code",
      "metadata": {
        "id": "9uAqm3VaNZTw",
        "colab_type": "code",
        "colab": {
          "base_uri": "https://localhost:8080/",
          "height": 204
        },
        "outputId": "b39176e8-0cf0-4f53-a15d-4feb523ccce4"
      },
      "source": [
        "# CRIANDO UM DATASET COM AS INFORMAÇÕES: DATA E MORTES CONFIRMADAS\n",
        "\n",
        "prophet_mortes = df[['Data','Mortes_Confirmadas']]\n",
        "prophet_mortes.columns = ['ds','y']\n",
        "prophet_mortes.head()"
      ],
      "execution_count": 126,
      "outputs": [
        {
          "output_type": "execute_result",
          "data": {
            "text/html": [
              "<div>\n",
              "<style scoped>\n",
              "    .dataframe tbody tr th:only-of-type {\n",
              "        vertical-align: middle;\n",
              "    }\n",
              "\n",
              "    .dataframe tbody tr th {\n",
              "        vertical-align: top;\n",
              "    }\n",
              "\n",
              "    .dataframe thead th {\n",
              "        text-align: right;\n",
              "    }\n",
              "</style>\n",
              "<table border=\"1\" class=\"dataframe\">\n",
              "  <thead>\n",
              "    <tr style=\"text-align: right;\">\n",
              "      <th></th>\n",
              "      <th>ds</th>\n",
              "      <th>y</th>\n",
              "    </tr>\n",
              "  </thead>\n",
              "  <tbody>\n",
              "    <tr>\n",
              "      <th>0</th>\n",
              "      <td>2020-01-22</td>\n",
              "      <td>17</td>\n",
              "    </tr>\n",
              "    <tr>\n",
              "      <th>1</th>\n",
              "      <td>2020-01-23</td>\n",
              "      <td>18</td>\n",
              "    </tr>\n",
              "    <tr>\n",
              "      <th>2</th>\n",
              "      <td>2020-01-24</td>\n",
              "      <td>26</td>\n",
              "    </tr>\n",
              "    <tr>\n",
              "      <th>3</th>\n",
              "      <td>2020-01-25</td>\n",
              "      <td>42</td>\n",
              "    </tr>\n",
              "    <tr>\n",
              "      <th>4</th>\n",
              "      <td>2020-01-26</td>\n",
              "      <td>56</td>\n",
              "    </tr>\n",
              "  </tbody>\n",
              "</table>\n",
              "</div>"
            ],
            "text/plain": [
              "          ds   y\n",
              "0 2020-01-22  17\n",
              "1 2020-01-23  18\n",
              "2 2020-01-24  26\n",
              "3 2020-01-25  42\n",
              "4 2020-01-26  56"
            ]
          },
          "metadata": {
            "tags": []
          },
          "execution_count": 126
        }
      ]
    },
    {
      "cell_type": "markdown",
      "metadata": {
        "id": "Y04hEgIvOTxX",
        "colab_type": "text"
      },
      "source": [
        "Com o nosso *dataframe* no devido formato, podemos montar a nossa previsão usando o Prophet."
      ]
    },
    {
      "cell_type": "markdown",
      "metadata": {
        "id": "aCTEPWpLOlmu",
        "colab_type": "text"
      },
      "source": [
        "### **PREVISÃO GLOBAL DE MORTES DA COVI-19**"
      ]
    },
    {
      "cell_type": "markdown",
      "metadata": {
        "id": "DhxmNn_iPbvl",
        "colab_type": "text"
      },
      "source": [
        "Iremos realizar as análises adotando um **intervalor de confiança de 95%**.\n",
        "\n",
        "Admitir um determinado intervalo de confiança é essencial na análise de dados em Séries Temporais, uma vez que as tendências temporais dos dados mudam constantemente. Ou seja, devemos assumir que o futuro sofrerá mudanças. Nesta análise, assumiremos um **erro de 5%**."
      ]
    },
    {
      "cell_type": "code",
      "metadata": {
        "id": "_qsRu33tNUBH",
        "colab_type": "code",
        "colab": {}
      },
      "source": [
        "# CRIANDO A INSTÂNCIA DO PROPHET\n",
        "\n",
        "m = Prophet(interval_width=0.95, yearly_seasonality=False, daily_seasonality=False) # SAZONALIDADES ANUAL E DIÁRIAS IGNORADAS\n",
        "\n",
        "# Treinamento\n",
        "# Neste caso, podemos passar todo o dataframe, ao invés de dividir em treino e teste\n",
        "\n",
        "m.fit(prophet_mortes)\n",
        "\n",
        "# Quantidade de dias desejados\n",
        "dias = 20\n",
        "\n",
        "futuro_mortes = m.make_future_dataframe(periods = dias)"
      ],
      "execution_count": 0,
      "outputs": []
    },
    {
      "cell_type": "code",
      "metadata": {
        "id": "FFDMUIolWTWQ",
        "colab_type": "code",
        "colab": {
          "base_uri": "https://localhost:8080/",
          "height": 669
        },
        "outputId": "e073d544-807e-477b-929e-4fc89cd34093"
      },
      "source": [
        "# VISUALIZANDO OS DIAS DE PREVISÃO GERADOS\n",
        "\n",
        "futuro_mortes.tail(dias)"
      ],
      "execution_count": 128,
      "outputs": [
        {
          "output_type": "execute_result",
          "data": {
            "text/html": [
              "<div>\n",
              "<style scoped>\n",
              "    .dataframe tbody tr th:only-of-type {\n",
              "        vertical-align: middle;\n",
              "    }\n",
              "\n",
              "    .dataframe tbody tr th {\n",
              "        vertical-align: top;\n",
              "    }\n",
              "\n",
              "    .dataframe thead th {\n",
              "        text-align: right;\n",
              "    }\n",
              "</style>\n",
              "<table border=\"1\" class=\"dataframe\">\n",
              "  <thead>\n",
              "    <tr style=\"text-align: right;\">\n",
              "      <th></th>\n",
              "      <th>ds</th>\n",
              "    </tr>\n",
              "  </thead>\n",
              "  <tbody>\n",
              "    <tr>\n",
              "      <th>70</th>\n",
              "      <td>2020-04-01</td>\n",
              "    </tr>\n",
              "    <tr>\n",
              "      <th>71</th>\n",
              "      <td>2020-04-02</td>\n",
              "    </tr>\n",
              "    <tr>\n",
              "      <th>72</th>\n",
              "      <td>2020-04-03</td>\n",
              "    </tr>\n",
              "    <tr>\n",
              "      <th>73</th>\n",
              "      <td>2020-04-04</td>\n",
              "    </tr>\n",
              "    <tr>\n",
              "      <th>74</th>\n",
              "      <td>2020-04-05</td>\n",
              "    </tr>\n",
              "    <tr>\n",
              "      <th>75</th>\n",
              "      <td>2020-04-06</td>\n",
              "    </tr>\n",
              "    <tr>\n",
              "      <th>76</th>\n",
              "      <td>2020-04-07</td>\n",
              "    </tr>\n",
              "    <tr>\n",
              "      <th>77</th>\n",
              "      <td>2020-04-08</td>\n",
              "    </tr>\n",
              "    <tr>\n",
              "      <th>78</th>\n",
              "      <td>2020-04-09</td>\n",
              "    </tr>\n",
              "    <tr>\n",
              "      <th>79</th>\n",
              "      <td>2020-04-10</td>\n",
              "    </tr>\n",
              "    <tr>\n",
              "      <th>80</th>\n",
              "      <td>2020-04-11</td>\n",
              "    </tr>\n",
              "    <tr>\n",
              "      <th>81</th>\n",
              "      <td>2020-04-12</td>\n",
              "    </tr>\n",
              "    <tr>\n",
              "      <th>82</th>\n",
              "      <td>2020-04-13</td>\n",
              "    </tr>\n",
              "    <tr>\n",
              "      <th>83</th>\n",
              "      <td>2020-04-14</td>\n",
              "    </tr>\n",
              "    <tr>\n",
              "      <th>84</th>\n",
              "      <td>2020-04-15</td>\n",
              "    </tr>\n",
              "    <tr>\n",
              "      <th>85</th>\n",
              "      <td>2020-04-16</td>\n",
              "    </tr>\n",
              "    <tr>\n",
              "      <th>86</th>\n",
              "      <td>2020-04-17</td>\n",
              "    </tr>\n",
              "    <tr>\n",
              "      <th>87</th>\n",
              "      <td>2020-04-18</td>\n",
              "    </tr>\n",
              "    <tr>\n",
              "      <th>88</th>\n",
              "      <td>2020-04-19</td>\n",
              "    </tr>\n",
              "    <tr>\n",
              "      <th>89</th>\n",
              "      <td>2020-04-20</td>\n",
              "    </tr>\n",
              "  </tbody>\n",
              "</table>\n",
              "</div>"
            ],
            "text/plain": [
              "           ds\n",
              "70 2020-04-01\n",
              "71 2020-04-02\n",
              "72 2020-04-03\n",
              "73 2020-04-04\n",
              "74 2020-04-05\n",
              "75 2020-04-06\n",
              "76 2020-04-07\n",
              "77 2020-04-08\n",
              "78 2020-04-09\n",
              "79 2020-04-10\n",
              "80 2020-04-11\n",
              "81 2020-04-12\n",
              "82 2020-04-13\n",
              "83 2020-04-14\n",
              "84 2020-04-15\n",
              "85 2020-04-16\n",
              "86 2020-04-17\n",
              "87 2020-04-18\n",
              "88 2020-04-19\n",
              "89 2020-04-20"
            ]
          },
          "metadata": {
            "tags": []
          },
          "execution_count": 128
        }
      ]
    },
    {
      "cell_type": "markdown",
      "metadata": {
        "id": "pz_2o7mgWtFZ",
        "colab_type": "text"
      },
      "source": [
        "Perceba que, no dataframe **prophet_mortes** (antes de gerar os dias de previsão), a última data era 2020-03-31.\n",
        "Agora, temos até o dia 2020-04-15, ou seja, **15 dias** depois, como especificado.\n",
        "\n",
        "**E isso também pode ser feito para mais dias.**"
      ]
    },
    {
      "cell_type": "code",
      "metadata": {
        "id": "abFtKUYsWpZv",
        "colab_type": "code",
        "colab": {
          "base_uri": "https://localhost:8080/",
          "height": 1000
        },
        "outputId": "4b21ad94-00fe-4b63-8a0f-47d9605d9cae"
      },
      "source": [
        "# GERANDO DATAFRAME COM PREVISÕES DO PROPHET\n",
        "\n",
        "previsao_mortes = m.predict(futuro_mortes)\n",
        "\n",
        "# Visualizando o dataframe gerado\n",
        "\n",
        "previsao_mortes.tail(dias)"
      ],
      "execution_count": 129,
      "outputs": [
        {
          "output_type": "execute_result",
          "data": {
            "text/html": [
              "<div>\n",
              "<style scoped>\n",
              "    .dataframe tbody tr th:only-of-type {\n",
              "        vertical-align: middle;\n",
              "    }\n",
              "\n",
              "    .dataframe tbody tr th {\n",
              "        vertical-align: top;\n",
              "    }\n",
              "\n",
              "    .dataframe thead th {\n",
              "        text-align: right;\n",
              "    }\n",
              "</style>\n",
              "<table border=\"1\" class=\"dataframe\">\n",
              "  <thead>\n",
              "    <tr style=\"text-align: right;\">\n",
              "      <th></th>\n",
              "      <th>ds</th>\n",
              "      <th>trend</th>\n",
              "      <th>yhat_lower</th>\n",
              "      <th>yhat_upper</th>\n",
              "      <th>trend_lower</th>\n",
              "      <th>trend_upper</th>\n",
              "      <th>additive_terms</th>\n",
              "      <th>additive_terms_lower</th>\n",
              "      <th>additive_terms_upper</th>\n",
              "      <th>weekly</th>\n",
              "      <th>weekly_lower</th>\n",
              "      <th>weekly_upper</th>\n",
              "      <th>multiplicative_terms</th>\n",
              "      <th>multiplicative_terms_lower</th>\n",
              "      <th>multiplicative_terms_upper</th>\n",
              "      <th>yhat</th>\n",
              "    </tr>\n",
              "  </thead>\n",
              "  <tbody>\n",
              "    <tr>\n",
              "      <th>70</th>\n",
              "      <td>2020-04-01</td>\n",
              "      <td>38952.024127</td>\n",
              "      <td>36735.660439</td>\n",
              "      <td>40978.300725</td>\n",
              "      <td>38858.799543</td>\n",
              "      <td>39033.102845</td>\n",
              "      <td>-150.063213</td>\n",
              "      <td>-150.063213</td>\n",
              "      <td>-150.063213</td>\n",
              "      <td>-150.063213</td>\n",
              "      <td>-150.063213</td>\n",
              "      <td>-150.063213</td>\n",
              "      <td>0.0</td>\n",
              "      <td>0.0</td>\n",
              "      <td>0.0</td>\n",
              "      <td>38801.960914</td>\n",
              "    </tr>\n",
              "    <tr>\n",
              "      <th>71</th>\n",
              "      <td>2020-04-02</td>\n",
              "      <td>41159.536736</td>\n",
              "      <td>38941.713133</td>\n",
              "      <td>43079.748378</td>\n",
              "      <td>40879.375700</td>\n",
              "      <td>41441.131132</td>\n",
              "      <td>-213.567672</td>\n",
              "      <td>-213.567672</td>\n",
              "      <td>-213.567672</td>\n",
              "      <td>-213.567672</td>\n",
              "      <td>-213.567672</td>\n",
              "      <td>-213.567672</td>\n",
              "      <td>0.0</td>\n",
              "      <td>0.0</td>\n",
              "      <td>0.0</td>\n",
              "      <td>40945.969065</td>\n",
              "    </tr>\n",
              "    <tr>\n",
              "      <th>72</th>\n",
              "      <td>2020-04-03</td>\n",
              "      <td>43367.049346</td>\n",
              "      <td>41163.722989</td>\n",
              "      <td>45231.613394</td>\n",
              "      <td>42874.503040</td>\n",
              "      <td>43839.650309</td>\n",
              "      <td>-161.928393</td>\n",
              "      <td>-161.928393</td>\n",
              "      <td>-161.928393</td>\n",
              "      <td>-161.928393</td>\n",
              "      <td>-161.928393</td>\n",
              "      <td>-161.928393</td>\n",
              "      <td>0.0</td>\n",
              "      <td>0.0</td>\n",
              "      <td>0.0</td>\n",
              "      <td>43205.120952</td>\n",
              "    </tr>\n",
              "    <tr>\n",
              "      <th>73</th>\n",
              "      <td>2020-04-04</td>\n",
              "      <td>45574.561955</td>\n",
              "      <td>43336.119595</td>\n",
              "      <td>47692.220467</td>\n",
              "      <td>44749.613608</td>\n",
              "      <td>46277.125704</td>\n",
              "      <td>-78.690572</td>\n",
              "      <td>-78.690572</td>\n",
              "      <td>-78.690572</td>\n",
              "      <td>-78.690572</td>\n",
              "      <td>-78.690572</td>\n",
              "      <td>-78.690572</td>\n",
              "      <td>0.0</td>\n",
              "      <td>0.0</td>\n",
              "      <td>0.0</td>\n",
              "      <td>45495.871384</td>\n",
              "    </tr>\n",
              "    <tr>\n",
              "      <th>74</th>\n",
              "      <td>2020-04-05</td>\n",
              "      <td>47782.074564</td>\n",
              "      <td>45438.557755</td>\n",
              "      <td>49979.578531</td>\n",
              "      <td>46700.741008</td>\n",
              "      <td>48757.642526</td>\n",
              "      <td>3.895393</td>\n",
              "      <td>3.895393</td>\n",
              "      <td>3.895393</td>\n",
              "      <td>3.895393</td>\n",
              "      <td>3.895393</td>\n",
              "      <td>3.895393</td>\n",
              "      <td>0.0</td>\n",
              "      <td>0.0</td>\n",
              "      <td>0.0</td>\n",
              "      <td>47785.969957</td>\n",
              "    </tr>\n",
              "    <tr>\n",
              "      <th>75</th>\n",
              "      <td>2020-04-06</td>\n",
              "      <td>49989.587174</td>\n",
              "      <td>47686.010837</td>\n",
              "      <td>52496.160140</td>\n",
              "      <td>48588.956480</td>\n",
              "      <td>51202.525124</td>\n",
              "      <td>158.814148</td>\n",
              "      <td>158.814148</td>\n",
              "      <td>158.814148</td>\n",
              "      <td>158.814148</td>\n",
              "      <td>158.814148</td>\n",
              "      <td>158.814148</td>\n",
              "      <td>0.0</td>\n",
              "      <td>0.0</td>\n",
              "      <td>0.0</td>\n",
              "      <td>50148.401322</td>\n",
              "    </tr>\n",
              "    <tr>\n",
              "      <th>76</th>\n",
              "      <td>2020-04-07</td>\n",
              "      <td>52197.099783</td>\n",
              "      <td>50112.209011</td>\n",
              "      <td>55318.768685</td>\n",
              "      <td>50511.065247</td>\n",
              "      <td>53828.996906</td>\n",
              "      <td>441.540308</td>\n",
              "      <td>441.540308</td>\n",
              "      <td>441.540308</td>\n",
              "      <td>441.540308</td>\n",
              "      <td>441.540308</td>\n",
              "      <td>441.540308</td>\n",
              "      <td>0.0</td>\n",
              "      <td>0.0</td>\n",
              "      <td>0.0</td>\n",
              "      <td>52638.640091</td>\n",
              "    </tr>\n",
              "    <tr>\n",
              "      <th>77</th>\n",
              "      <td>2020-04-08</td>\n",
              "      <td>54404.612392</td>\n",
              "      <td>51493.265750</td>\n",
              "      <td>56945.486708</td>\n",
              "      <td>52406.321458</td>\n",
              "      <td>56362.997041</td>\n",
              "      <td>-150.063213</td>\n",
              "      <td>-150.063213</td>\n",
              "      <td>-150.063213</td>\n",
              "      <td>-150.063213</td>\n",
              "      <td>-150.063213</td>\n",
              "      <td>-150.063213</td>\n",
              "      <td>0.0</td>\n",
              "      <td>0.0</td>\n",
              "      <td>0.0</td>\n",
              "      <td>54254.549179</td>\n",
              "    </tr>\n",
              "    <tr>\n",
              "      <th>78</th>\n",
              "      <td>2020-04-09</td>\n",
              "      <td>56612.125002</td>\n",
              "      <td>53052.847471</td>\n",
              "      <td>59434.038285</td>\n",
              "      <td>54215.700596</td>\n",
              "      <td>58967.065989</td>\n",
              "      <td>-213.567672</td>\n",
              "      <td>-213.567672</td>\n",
              "      <td>-213.567672</td>\n",
              "      <td>-213.567672</td>\n",
              "      <td>-213.567672</td>\n",
              "      <td>-213.567672</td>\n",
              "      <td>0.0</td>\n",
              "      <td>0.0</td>\n",
              "      <td>0.0</td>\n",
              "      <td>56398.557330</td>\n",
              "    </tr>\n",
              "    <tr>\n",
              "      <th>79</th>\n",
              "      <td>2020-04-10</td>\n",
              "      <td>58819.637611</td>\n",
              "      <td>55254.269645</td>\n",
              "      <td>61999.194333</td>\n",
              "      <td>56028.005686</td>\n",
              "      <td>61520.032048</td>\n",
              "      <td>-161.928393</td>\n",
              "      <td>-161.928393</td>\n",
              "      <td>-161.928393</td>\n",
              "      <td>-161.928393</td>\n",
              "      <td>-161.928393</td>\n",
              "      <td>-161.928393</td>\n",
              "      <td>0.0</td>\n",
              "      <td>0.0</td>\n",
              "      <td>0.0</td>\n",
              "      <td>58657.709218</td>\n",
              "    </tr>\n",
              "    <tr>\n",
              "      <th>80</th>\n",
              "      <td>2020-04-11</td>\n",
              "      <td>61027.150220</td>\n",
              "      <td>57662.866510</td>\n",
              "      <td>64695.157127</td>\n",
              "      <td>57886.622422</td>\n",
              "      <td>64148.029660</td>\n",
              "      <td>-78.690572</td>\n",
              "      <td>-78.690572</td>\n",
              "      <td>-78.690572</td>\n",
              "      <td>-78.690572</td>\n",
              "      <td>-78.690572</td>\n",
              "      <td>-78.690572</td>\n",
              "      <td>0.0</td>\n",
              "      <td>0.0</td>\n",
              "      <td>0.0</td>\n",
              "      <td>60948.459649</td>\n",
              "    </tr>\n",
              "    <tr>\n",
              "      <th>81</th>\n",
              "      <td>2020-04-12</td>\n",
              "      <td>63234.662830</td>\n",
              "      <td>59084.435927</td>\n",
              "      <td>67449.099618</td>\n",
              "      <td>59633.870546</td>\n",
              "      <td>66866.977206</td>\n",
              "      <td>3.895393</td>\n",
              "      <td>3.895393</td>\n",
              "      <td>3.895393</td>\n",
              "      <td>3.895393</td>\n",
              "      <td>3.895393</td>\n",
              "      <td>3.895393</td>\n",
              "      <td>0.0</td>\n",
              "      <td>0.0</td>\n",
              "      <td>0.0</td>\n",
              "      <td>63238.558223</td>\n",
              "    </tr>\n",
              "    <tr>\n",
              "      <th>82</th>\n",
              "      <td>2020-04-13</td>\n",
              "      <td>65442.175439</td>\n",
              "      <td>60883.434973</td>\n",
              "      <td>70109.362734</td>\n",
              "      <td>61329.033849</td>\n",
              "      <td>69441.223010</td>\n",
              "      <td>158.814148</td>\n",
              "      <td>158.814148</td>\n",
              "      <td>158.814148</td>\n",
              "      <td>158.814148</td>\n",
              "      <td>158.814148</td>\n",
              "      <td>158.814148</td>\n",
              "      <td>0.0</td>\n",
              "      <td>0.0</td>\n",
              "      <td>0.0</td>\n",
              "      <td>65600.989588</td>\n",
              "    </tr>\n",
              "    <tr>\n",
              "      <th>83</th>\n",
              "      <td>2020-04-14</td>\n",
              "      <td>67649.688048</td>\n",
              "      <td>62969.329110</td>\n",
              "      <td>72732.483692</td>\n",
              "      <td>63025.325181</td>\n",
              "      <td>72027.724391</td>\n",
              "      <td>441.540308</td>\n",
              "      <td>441.540308</td>\n",
              "      <td>441.540308</td>\n",
              "      <td>441.540308</td>\n",
              "      <td>441.540308</td>\n",
              "      <td>441.540308</td>\n",
              "      <td>0.0</td>\n",
              "      <td>0.0</td>\n",
              "      <td>0.0</td>\n",
              "      <td>68091.228357</td>\n",
              "    </tr>\n",
              "    <tr>\n",
              "      <th>84</th>\n",
              "      <td>2020-04-15</td>\n",
              "      <td>69857.200658</td>\n",
              "      <td>64531.317299</td>\n",
              "      <td>75202.064988</td>\n",
              "      <td>64760.084066</td>\n",
              "      <td>74812.624098</td>\n",
              "      <td>-150.063213</td>\n",
              "      <td>-150.063213</td>\n",
              "      <td>-150.063213</td>\n",
              "      <td>-150.063213</td>\n",
              "      <td>-150.063213</td>\n",
              "      <td>-150.063213</td>\n",
              "      <td>0.0</td>\n",
              "      <td>0.0</td>\n",
              "      <td>0.0</td>\n",
              "      <td>69707.137445</td>\n",
              "    </tr>\n",
              "    <tr>\n",
              "      <th>85</th>\n",
              "      <td>2020-04-16</td>\n",
              "      <td>72064.713267</td>\n",
              "      <td>65955.979757</td>\n",
              "      <td>77010.581455</td>\n",
              "      <td>66332.263510</td>\n",
              "      <td>77587.060675</td>\n",
              "      <td>-213.567672</td>\n",
              "      <td>-213.567672</td>\n",
              "      <td>-213.567672</td>\n",
              "      <td>-213.567672</td>\n",
              "      <td>-213.567672</td>\n",
              "      <td>-213.567672</td>\n",
              "      <td>0.0</td>\n",
              "      <td>0.0</td>\n",
              "      <td>0.0</td>\n",
              "      <td>71851.145596</td>\n",
              "    </tr>\n",
              "    <tr>\n",
              "      <th>86</th>\n",
              "      <td>2020-04-17</td>\n",
              "      <td>74272.225876</td>\n",
              "      <td>67958.162565</td>\n",
              "      <td>80021.902536</td>\n",
              "      <td>67996.689824</td>\n",
              "      <td>80107.033510</td>\n",
              "      <td>-161.928393</td>\n",
              "      <td>-161.928393</td>\n",
              "      <td>-161.928393</td>\n",
              "      <td>-161.928393</td>\n",
              "      <td>-161.928393</td>\n",
              "      <td>-161.928393</td>\n",
              "      <td>0.0</td>\n",
              "      <td>0.0</td>\n",
              "      <td>0.0</td>\n",
              "      <td>74110.297483</td>\n",
              "    </tr>\n",
              "    <tr>\n",
              "      <th>87</th>\n",
              "      <td>2020-04-18</td>\n",
              "      <td>76479.738486</td>\n",
              "      <td>69799.579259</td>\n",
              "      <td>83250.243063</td>\n",
              "      <td>69669.041337</td>\n",
              "      <td>82821.612161</td>\n",
              "      <td>-78.690572</td>\n",
              "      <td>-78.690572</td>\n",
              "      <td>-78.690572</td>\n",
              "      <td>-78.690572</td>\n",
              "      <td>-78.690572</td>\n",
              "      <td>-78.690572</td>\n",
              "      <td>0.0</td>\n",
              "      <td>0.0</td>\n",
              "      <td>0.0</td>\n",
              "      <td>76401.047914</td>\n",
              "    </tr>\n",
              "    <tr>\n",
              "      <th>88</th>\n",
              "      <td>2020-04-19</td>\n",
              "      <td>78687.251095</td>\n",
              "      <td>71449.385524</td>\n",
              "      <td>86117.703244</td>\n",
              "      <td>71387.777714</td>\n",
              "      <td>85383.688839</td>\n",
              "      <td>3.895393</td>\n",
              "      <td>3.895393</td>\n",
              "      <td>3.895393</td>\n",
              "      <td>3.895393</td>\n",
              "      <td>3.895393</td>\n",
              "      <td>3.895393</td>\n",
              "      <td>0.0</td>\n",
              "      <td>0.0</td>\n",
              "      <td>0.0</td>\n",
              "      <td>78691.146488</td>\n",
              "    </tr>\n",
              "    <tr>\n",
              "      <th>89</th>\n",
              "      <td>2020-04-20</td>\n",
              "      <td>80894.763705</td>\n",
              "      <td>73232.456221</td>\n",
              "      <td>88673.163964</td>\n",
              "      <td>73054.364924</td>\n",
              "      <td>88231.607999</td>\n",
              "      <td>158.814148</td>\n",
              "      <td>158.814148</td>\n",
              "      <td>158.814148</td>\n",
              "      <td>158.814148</td>\n",
              "      <td>158.814148</td>\n",
              "      <td>158.814148</td>\n",
              "      <td>0.0</td>\n",
              "      <td>0.0</td>\n",
              "      <td>0.0</td>\n",
              "      <td>81053.577853</td>\n",
              "    </tr>\n",
              "  </tbody>\n",
              "</table>\n",
              "</div>"
            ],
            "text/plain": [
              "           ds         trend  ...  multiplicative_terms_upper          yhat\n",
              "70 2020-04-01  38952.024127  ...                         0.0  38801.960914\n",
              "71 2020-04-02  41159.536736  ...                         0.0  40945.969065\n",
              "72 2020-04-03  43367.049346  ...                         0.0  43205.120952\n",
              "73 2020-04-04  45574.561955  ...                         0.0  45495.871384\n",
              "74 2020-04-05  47782.074564  ...                         0.0  47785.969957\n",
              "75 2020-04-06  49989.587174  ...                         0.0  50148.401322\n",
              "76 2020-04-07  52197.099783  ...                         0.0  52638.640091\n",
              "77 2020-04-08  54404.612392  ...                         0.0  54254.549179\n",
              "78 2020-04-09  56612.125002  ...                         0.0  56398.557330\n",
              "79 2020-04-10  58819.637611  ...                         0.0  58657.709218\n",
              "80 2020-04-11  61027.150220  ...                         0.0  60948.459649\n",
              "81 2020-04-12  63234.662830  ...                         0.0  63238.558223\n",
              "82 2020-04-13  65442.175439  ...                         0.0  65600.989588\n",
              "83 2020-04-14  67649.688048  ...                         0.0  68091.228357\n",
              "84 2020-04-15  69857.200658  ...                         0.0  69707.137445\n",
              "85 2020-04-16  72064.713267  ...                         0.0  71851.145596\n",
              "86 2020-04-17  74272.225876  ...                         0.0  74110.297483\n",
              "87 2020-04-18  76479.738486  ...                         0.0  76401.047914\n",
              "88 2020-04-19  78687.251095  ...                         0.0  78691.146488\n",
              "89 2020-04-20  80894.763705  ...                         0.0  81053.577853\n",
              "\n",
              "[20 rows x 16 columns]"
            ]
          },
          "metadata": {
            "tags": []
          },
          "execution_count": 129
        }
      ]
    },
    {
      "cell_type": "markdown",
      "metadata": {
        "id": "cV0Un9BaZi--",
        "colab_type": "text"
      },
      "source": [
        "As variáveis mais importantes para nós, neste momento, são:\n",
        "\n",
        "*   **ds** (dias)\n",
        "*   **yhat_lower** (previsão do número mínimo de mortes)\n",
        "*   **yhat_upper** (previsão do número máximo de mortes)\n",
        "*   **yhat** (previsão do número médio de mortes)\n",
        "\n",
        "A partir dessas variáveis, podemos gerar os gráficos para enterdermos a previsão feita pelo Prophet.\n",
        "\n",
        "Assim, devemos gerar um novo dataframe com essas variáveis e plotar um gráfico."
      ]
    },
    {
      "cell_type": "code",
      "metadata": {
        "id": "bhL7U_0KX9uZ",
        "colab_type": "code",
        "colab": {
          "base_uri": "https://localhost:8080/",
          "height": 266
        },
        "outputId": "21622019-98ae-408e-8dec-f1a6ae71d857"
      },
      "source": [
        "# DATAFRAME - PREVISÃO\n",
        "\n",
        "previsao_prophet = previsao_mortes[['ds','yhat_lower','yhat','yhat_upper']]\n",
        "previsao_prophet.tail(7)"
      ],
      "execution_count": 130,
      "outputs": [
        {
          "output_type": "execute_result",
          "data": {
            "text/html": [
              "<div>\n",
              "<style scoped>\n",
              "    .dataframe tbody tr th:only-of-type {\n",
              "        vertical-align: middle;\n",
              "    }\n",
              "\n",
              "    .dataframe tbody tr th {\n",
              "        vertical-align: top;\n",
              "    }\n",
              "\n",
              "    .dataframe thead th {\n",
              "        text-align: right;\n",
              "    }\n",
              "</style>\n",
              "<table border=\"1\" class=\"dataframe\">\n",
              "  <thead>\n",
              "    <tr style=\"text-align: right;\">\n",
              "      <th></th>\n",
              "      <th>ds</th>\n",
              "      <th>yhat_lower</th>\n",
              "      <th>yhat</th>\n",
              "      <th>yhat_upper</th>\n",
              "    </tr>\n",
              "  </thead>\n",
              "  <tbody>\n",
              "    <tr>\n",
              "      <th>83</th>\n",
              "      <td>2020-04-14</td>\n",
              "      <td>62969.329110</td>\n",
              "      <td>68091.228357</td>\n",
              "      <td>72732.483692</td>\n",
              "    </tr>\n",
              "    <tr>\n",
              "      <th>84</th>\n",
              "      <td>2020-04-15</td>\n",
              "      <td>64531.317299</td>\n",
              "      <td>69707.137445</td>\n",
              "      <td>75202.064988</td>\n",
              "    </tr>\n",
              "    <tr>\n",
              "      <th>85</th>\n",
              "      <td>2020-04-16</td>\n",
              "      <td>65955.979757</td>\n",
              "      <td>71851.145596</td>\n",
              "      <td>77010.581455</td>\n",
              "    </tr>\n",
              "    <tr>\n",
              "      <th>86</th>\n",
              "      <td>2020-04-17</td>\n",
              "      <td>67958.162565</td>\n",
              "      <td>74110.297483</td>\n",
              "      <td>80021.902536</td>\n",
              "    </tr>\n",
              "    <tr>\n",
              "      <th>87</th>\n",
              "      <td>2020-04-18</td>\n",
              "      <td>69799.579259</td>\n",
              "      <td>76401.047914</td>\n",
              "      <td>83250.243063</td>\n",
              "    </tr>\n",
              "    <tr>\n",
              "      <th>88</th>\n",
              "      <td>2020-04-19</td>\n",
              "      <td>71449.385524</td>\n",
              "      <td>78691.146488</td>\n",
              "      <td>86117.703244</td>\n",
              "    </tr>\n",
              "    <tr>\n",
              "      <th>89</th>\n",
              "      <td>2020-04-20</td>\n",
              "      <td>73232.456221</td>\n",
              "      <td>81053.577853</td>\n",
              "      <td>88673.163964</td>\n",
              "    </tr>\n",
              "  </tbody>\n",
              "</table>\n",
              "</div>"
            ],
            "text/plain": [
              "           ds    yhat_lower          yhat    yhat_upper\n",
              "83 2020-04-14  62969.329110  68091.228357  72732.483692\n",
              "84 2020-04-15  64531.317299  69707.137445  75202.064988\n",
              "85 2020-04-16  65955.979757  71851.145596  77010.581455\n",
              "86 2020-04-17  67958.162565  74110.297483  80021.902536\n",
              "87 2020-04-18  69799.579259  76401.047914  83250.243063\n",
              "88 2020-04-19  71449.385524  78691.146488  86117.703244\n",
              "89 2020-04-20  73232.456221  81053.577853  88673.163964"
            ]
          },
          "metadata": {
            "tags": []
          },
          "execution_count": 130
        }
      ]
    },
    {
      "cell_type": "markdown",
      "metadata": {
        "id": "R4toBo81bWuw",
        "colab_type": "text"
      },
      "source": [
        "### **PLOTANDO O GRÁFICO COM AS PREVISÕES**"
      ]
    },
    {
      "cell_type": "code",
      "metadata": {
        "id": "EhXPszDrbBwf",
        "colab_type": "code",
        "colab": {
          "base_uri": "https://localhost:8080/",
          "height": 441
        },
        "outputId": "455394b4-1a2c-4477-d82b-e73bde4b6a19"
      },
      "source": [
        "# PREVISÃO PARA 15 DIAS\n",
        "\n",
        "confirmed_forecast_plot = m.plot(previsao_prophet, xlabel = 'DIAS', ylabel = 'MORTES')"
      ],
      "execution_count": 133,
      "outputs": [
        {
          "output_type": "display_data",
          "data": {
            "image/png": "[encoded data removed]",
            "text/plain": [
              "<Figure size 720x432 with 1 Axes>"
            ]
          },
          "metadata": {
            "tags": []
          }
        }
      ]
    },
    {
      "cell_type": "markdown",
      "metadata": {
        "id": "3lVhMNwAfM-Q",
        "colab_type": "text"
      },
      "source": [
        "O gráfico gerado acima nos mostra os dados atuais (bolinhas pretas), a previsão do Prophet (linha azul) e a margem para mínimo e máximo (faixa azul claro)."
      ]
    },
    {
      "cell_type": "markdown",
      "metadata": {
        "id": "QDfMC_hDfu9Z",
        "colab_type": "text"
      },
      "source": [
        "### **CONCLUSÕES**\n",
        "\n",
        "Podemos concluir que o Prophet conseguiu prever de maneira precisa o comportamento das mortes até o dia atual. Com isso, podemos admitir que o número de mortes previstas em todo o mundo esteja dentro da faixa da previsão.\n",
        "\n",
        "De acordo com o modelo, a previsão do número de mortes até o dia 15-04-2020 podemos ser:\n",
        "\n",
        "*   Número mínimo de mortes: **73232**\n",
        "*   Número médio de mortes: **81053**\n",
        "*   Número mínimo de mortes: **88673**\n",
        "\n",
        "Com isso, percebemos que os prováveis cenários para o número de mortes total ainda é bem preocupante. Desta forma, devemos seguir as recomendações dos órgãos de saúde, da maneria mais rigorosa possível, para evitar que esses números cresçam.\n",
        "\n",
        "A IA está sendo usada neste frequentemente utilizida e alguns experimentos já mostram a eficácia de algoritmos de Deep Learning nesta guerra contra a COVID-19.\n",
        "\n"
      ]
    }
  ]
}